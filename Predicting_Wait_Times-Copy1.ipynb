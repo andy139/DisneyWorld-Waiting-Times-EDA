{
 "cells": [
  {
   "cell_type": "markdown",
   "metadata": {},
   "source": [
    "# Predictive Modeling\n"
   ]
  },
  {
   "cell_type": "markdown",
   "metadata": {},
   "source": [
    "## Merging, cleaning datasets"
   ]
  },
  {
   "cell_type": "code",
   "execution_count": 1,
   "metadata": {},
   "outputs": [],
   "source": [
    "#import libraries\n",
    "import numpy as np\n",
    "import matplotlib.pyplot as plt\n",
    "import pandas as pd\n",
    "import seaborn as sns\n",
    "from sklearn.model_selection import train_test_split\n",
    "from sklearn.linear_model import LinearRegression \n",
    "from sklearn.model_selection import KFold\n",
    "from sklearn import metrics\n",
    "%matplotlib inline"
   ]
  },
  {
   "cell_type": "code",
   "execution_count": 2,
   "metadata": {},
   "outputs": [],
   "source": [
    "#import meta data\n",
    "meta = pd.read_csv(\"disney.csv\")\n",
    "\n",
    "#import magic kingdom rides (wait times)\n",
    "splash = pd.read_csv(\"splash_mountain.csv\")\n",
    "seven_dwarfs = pd.read_csv(\"7_dwarfs_train.csv\")\n",
    "pirates = pd.read_csv('pirates_of_caribbean.csv')"
   ]
  },
  {
   "cell_type": "code",
   "execution_count": 3,
   "metadata": {},
   "outputs": [],
   "source": [
    "# Dropping sactmin from magic world rides, then dropping NaN from spostmin\n",
    "# Drop rows where wait time is not available (-999)\n",
    "pirates = pirates[pirates.SPOSTMIN > 0]\n",
    "seven_dwarfs = seven_dwarfs[seven_dwarfs.SPOSTMIN > 0]\n",
    "splash = splash[splash.SPOSTMIN > 0]"
   ]
  },
  {
   "cell_type": "code",
   "execution_count": 4,
   "metadata": {},
   "outputs": [],
   "source": [
    "#merging splash with meta_data, using date as key\n",
    "meta_splash = pd.merge(splash, meta, left_on=\"date\", right_on=\"DATE\").drop('DATE', axis = 1)\n",
    "\n",
    "#change NAs to 0 values\n",
    "meta_splash = meta_splash.fillna(0)\n",
    "#format date in a way that can be worked with\n",
    "meta_splash['date'] = pd.to_datetime(meta_splash['date'])"
   ]
  },
  {
   "cell_type": "code",
   "execution_count": 5,
   "metadata": {},
   "outputs": [],
   "source": [
    "#avg of posted wait times by day in meta_splash\n",
    "sum_by_day = meta_splash.groupby('date')['SPOSTMIN'].mean()\n",
    "#reset index to create dataframe columns\n",
    "sum_by_day = sum_by_day.reset_index()\n",
    "sum_by_day = pd.DataFrame(sum_by_day,columns=['date','SPOSTMIN'])"
   ]
  },
  {
   "cell_type": "code",
   "execution_count": 6,
   "metadata": {},
   "outputs": [],
   "source": [
    "meta['DATE'] = pd.to_datetime(meta['DATE'])\n",
    "#merge back with original meta set for daily weighted averages\n",
    "meta_splash2 = pd.merge(sum_by_day, meta, left_on=\"date\", right_on=\"DATE\").drop('DATE', axis = 1)\n",
    "meta_splash2.head(n = 3)\n",
    "#fill na for new meta splash data\n",
    "meta_splash2 = meta_splash2.fillna(0)"
   ]
  },
  {
   "cell_type": "code",
   "execution_count": 7,
   "metadata": {},
   "outputs": [],
   "source": [
    "\n",
    "import numpy\n",
    "import matplotlib.pyplot as plot\n",
    "import pandas\n",
    "from sklearn.model_selection import train_test_split\n",
    "from sklearn.linear_model import LinearRegression"
   ]
  },
  {
   "cell_type": "markdown",
   "metadata": {},
   "source": [
    "# Data preprocessing for modeling"
   ]
  },
  {
   "cell_type": "code",
   "execution_count": 8,
   "metadata": {},
   "outputs": [
    {
     "name": "stdout",
     "output_type": "stream",
     "text": [
      "There is 42 strongly correlated values with SPOSTMIN:\n",
      "SPOSTMIN              1.000000\n",
      "AKHOURSYEST           0.532307\n",
      "AKHOURS               0.531074\n",
      "AKHOURSEMH            0.530836\n",
      "AKHOURSTOM            0.526427\n",
      "AKHOURSEMHYEST        0.520594\n",
      "AKHOURSEMHTOM         0.506027\n",
      "MKHOURS               0.419589\n",
      "MKHOURSEMH            0.403368\n",
      "HSHOURS               0.375347\n",
      "HSHOURSTOM            0.364362\n",
      "HSHOURSYEST           0.356237\n",
      "WDWMAXTEMP            0.334935\n",
      "EP09CAPACITY          0.323179\n",
      "HSFIREWK              0.301307\n",
      "YEAR                  0.297048\n",
      "WDWMEANTEMP           0.284476\n",
      "HSHOURSEMHYEST        0.278263\n",
      "WEATHER_WDWPRECIP     0.271109\n",
      "HSHOURSEMHTOM         0.270584\n",
      "HSHOURSEMH            0.270417\n",
      "AKEMHETOM             0.266406\n",
      "AKEMHEVE              0.262796\n",
      "AKEMHEYEST            0.260835\n",
      "CapacityLost_HS       0.253429\n",
      "CapacityLostWGT_HS    0.250829\n",
      "WEATHER_WDWHIGH       0.250729\n",
      "WDWMINTEMP            0.228848\n",
      "CapacityLost_EP       0.219181\n",
      "MKHOURSTOM            0.215867\n",
      "HS20CAPACITY          0.215863\n",
      "CapacityLostWGT_EP    0.215356\n",
      "WDWMINTEMP_mean       0.212744\n",
      "CapacityLostWGT_MK    0.205153\n",
      "MKHOURSYEST           0.204618\n",
      "CapacityLost_MK       0.204517\n",
      "DAYOFYEAR            -0.235847\n",
      "WEEKOFYEAR           -0.237340\n",
      "MONTHOFYEAR          -0.239151\n",
      "MKevent              -0.294647\n",
      "MKEVENTSTREAK        -0.313447\n",
      "MKEVENTSTREAK_F      -0.314338\n",
      "Name: SPOSTMIN, dtype: float64\n"
     ]
    }
   ],
   "source": [
    "# Finding Correlated Features\n",
    "meta_splash2_corr = meta_splash2.corr()['SPOSTMIN'][:-2]\n",
    "golden_features_list_2 = meta_splash2_corr[abs(meta_splash2_corr) > 0.20].sort_values(ascending=False)\n",
    "print(\"There is {} strongly correlated values with SPOSTMIN:\\n{}\".format(len(golden_features_list_2), golden_features_list_2))"
   ]
  },
  {
   "cell_type": "code",
   "execution_count": 9,
   "metadata": {},
   "outputs": [],
   "source": [
    "golden_list_2 = golden_features_list_2.to_frame()\n",
    "golden_list_2 = golden_list_2.reset_index()\n",
    "golden_list_2 # = pd.DataFrame(golden_list,columns=['VARIABLES','SPOSTMIN'])\n",
    "golden_list_2 = golden_list_2.iloc[:,0]\n",
    "golden_list_2 = golden_list_2.tolist()\n",
    "golden_list_2.remove('SPOSTMIN')"
   ]
  },
  {
   "cell_type": "markdown",
   "metadata": {},
   "source": [
    "We will use these 41 highly correlated features for modeling."
   ]
  },
  {
   "cell_type": "code",
   "execution_count": 10,
   "metadata": {
    "scrolled": true
   },
   "outputs": [],
   "source": [
    "np.random.seed(5)\n",
    "\n",
    "# Splitting Dataset between dependent & independent variables\n",
    "x = meta_splash2[golden_list_2]\n",
    "y = meta_splash2['SPOSTMIN']\n",
    "\n",
    "#75% training & 25% testing\n",
    "x_train, x_test, y_train, y_test = train_test_split(x,y, test_size = 0.25)"
   ]
  },
  {
   "cell_type": "markdown",
   "metadata": {},
   "source": [
    "Next we'll split our training and testing sets. The training set will contain 75 percent of the dataset and the testing set will get the remaining 25%"
   ]
  },
  {
   "cell_type": "code",
   "execution_count": 11,
   "metadata": {},
   "outputs": [],
   "source": [
    "## ln transforming y test and y train to reduce variability\n",
    "y_train = np.log(y_train)\n",
    "y_test = np.log(y_test)"
   ]
  },
  {
   "cell_type": "markdown",
   "metadata": {},
   "source": [
    "Lastly, we'll log our outcome variable to reduce variability."
   ]
  },
  {
   "cell_type": "code",
   "execution_count": 12,
   "metadata": {},
   "outputs": [
    {
     "name": "stdout",
     "output_type": "stream",
     "text": [
      "Number of observations: 2381\n",
      "Number of predictors: 41\n"
     ]
    }
   ],
   "source": [
    "print('Number of observations:', x.shape[0])\n",
    "print('Number of predictors:', x.shape[1])\n"
   ]
  },
  {
   "cell_type": "markdown",
   "metadata": {},
   "source": [
    "## Linear Regression"
   ]
  },
  {
   "cell_type": "code",
   "execution_count": 13,
   "metadata": {},
   "outputs": [],
   "source": [
    "from sklearn.linear_model import LinearRegression\n",
    "lm = LinearRegression()\n",
    "model = lm.fit(x_train, y_train)\n",
    "# Make Prediction on test set\n",
    "y_predlm= lm.predict(x_test)\n"
   ]
  },
  {
   "cell_type": "code",
   "execution_count": 14,
   "metadata": {},
   "outputs": [
    {
     "name": "stdout",
     "output_type": "stream",
     "text": [
      "Mean Absolute Error: 0.2819824670049207\n",
      "Mean Squared Error: 0.14229757957031058\n",
      "Root Mean Squared Error: 0.3772235140739646\n",
      "Accuracy: 91.82 %\n"
     ]
    }
   ],
   "source": [
    "from sklearn import metrics\n",
    "\n",
    "print('Mean Absolute Error:', metrics.mean_absolute_error(y_test, y_predlm))  \n",
    "print('Mean Squared Error:', metrics.mean_squared_error(y_test, y_predlm))  \n",
    "print('Root Mean Squared Error:', np.sqrt(metrics.mean_squared_error(y_test, y_predlm)))\n",
    "\n",
    "# Caculating Error\n",
    "errors = round(metrics.mean_absolute_error(y_test, y_predlm),2)\n",
    "#mean Absolute Percentage Error\n",
    "mape = 100 * (errors / y_test)\n",
    "acc_linear = (100 - np.mean(mape)).round(2,)\n",
    "print('Accuracy:', round(acc_linear, 2), '%')\n"
   ]
  },
  {
   "cell_type": "markdown",
   "metadata": {},
   "source": [
    "## Ridge Regression\n"
   ]
  },
  {
   "cell_type": "code",
   "execution_count": 15,
   "metadata": {},
   "outputs": [],
   "source": [
    "from sklearn.linear_model import Ridge"
   ]
  },
  {
   "cell_type": "code",
   "execution_count": 16,
   "metadata": {},
   "outputs": [],
   "source": [
    "## training the model\n",
    "ridgeReg = Ridge(alpha=0.05, normalize=True)\n",
    "ridgeReg.fit(x_train,y_train)\n",
    "y_pred_ridge = ridgeReg.predict(x_test)"
   ]
  },
  {
   "cell_type": "code",
   "execution_count": 17,
   "metadata": {},
   "outputs": [
    {
     "name": "stdout",
     "output_type": "stream",
     "text": [
      "Mean Absolute Error: 0.2902093509613214\n",
      "Mean Squared Error: 0.14724094679103195\n",
      "Root Mean Squared Error: 0.38371988063043067\n",
      "Accuracy: 91.53 %\n"
     ]
    }
   ],
   "source": [
    "print('Mean Absolute Error:', metrics.mean_absolute_error(y_test, y_pred_ridge))  \n",
    "print('Mean Squared Error:', metrics.mean_squared_error(y_test, y_pred_ridge))  \n",
    "print('Root Mean Squared Error:', np.sqrt(metrics.mean_squared_error(y_test, y_pred_ridge)))\n",
    "\n",
    "\n",
    "# Caculating Error\n",
    "errors = round(metrics.mean_absolute_error(y_test, y_pred_ridge),2)\n",
    "#mean Absolute Percentage Error\n",
    "mape = 100 * (errors / y_test)\n",
    "acc_ridge = (100 - np.mean(mape)).round(2,)\n",
    "print('Accuracy:', round(acc_ridge, 2), '%')\n"
   ]
  },
  {
   "cell_type": "markdown",
   "metadata": {},
   "source": [
    "## Lasso Regression"
   ]
  },
  {
   "cell_type": "code",
   "execution_count": 18,
   "metadata": {},
   "outputs": [],
   "source": [
    "from sklearn.linear_model import Lasso"
   ]
  },
  {
   "cell_type": "code",
   "execution_count": 19,
   "metadata": {},
   "outputs": [],
   "source": [
    "# Training Lasso Model\n",
    "lassoReg = Lasso(alpha=0.3, normalize=True)\n",
    "lassoReg.fit(x_train,y_train)\n",
    "y_pred_lasso = lassoReg.predict(x_test)"
   ]
  },
  {
   "cell_type": "code",
   "execution_count": 20,
   "metadata": {
    "scrolled": true
   },
   "outputs": [
    {
     "name": "stdout",
     "output_type": "stream",
     "text": [
      "Mean Absolute Error: 0.4731872458793982\n",
      "Mean Squared Error: 0.357531222024162\n",
      "Root Mean Squared Error: 0.5979391457532798\n",
      "Accuracy: 86.28 %.\n"
     ]
    }
   ],
   "source": [
    "print('Mean Absolute Error:', metrics.mean_absolute_error(y_test, y_pred_lasso))  \n",
    "print('Mean Squared Error:', metrics.mean_squared_error(y_test, y_pred_lasso))  \n",
    "print('Root Mean Squared Error:', np.sqrt(metrics.mean_squared_error(y_test, y_pred_lasso)))\n",
    "\n",
    "errors = round(metrics.mean_absolute_error(y_test, y_pred_lasso),2)\n",
    "#Mean Absolute Percentage Error\n",
    "mape = 100 * (errors / y_test)\n",
    "acc_lasso = (100 - np.mean(mape)).round(2,)\n",
    "print('Accuracy:', round(acc_lasso, 2), '%.')\n",
    "\n"
   ]
  },
  {
   "cell_type": "markdown",
   "metadata": {},
   "source": [
    "## Elastic Net Regression"
   ]
  },
  {
   "cell_type": "code",
   "execution_count": 21,
   "metadata": {},
   "outputs": [],
   "source": [
    "from sklearn.linear_model import ElasticNet"
   ]
  },
  {
   "cell_type": "code",
   "execution_count": 22,
   "metadata": {},
   "outputs": [
    {
     "name": "stderr",
     "output_type": "stream",
     "text": [
      "/opt/conda/lib/python3.6/site-packages/sklearn/linear_model/coordinate_descent.py:492: ConvergenceWarning: Objective did not converge. You might want to increase the number of iterations. Fitting data with very small alpha may cause precision problems.\n",
      "  ConvergenceWarning)\n"
     ]
    }
   ],
   "source": [
    "# Training Elastic Net Regression Model\n",
    "ENreg = ElasticNet(alpha=1, l1_ratio=0.5, normalize=False)\n",
    "ENreg.fit(x_train,y_train)\n",
    "y_pred_en = ENreg.predict(x_test)"
   ]
  },
  {
   "cell_type": "code",
   "execution_count": 23,
   "metadata": {},
   "outputs": [
    {
     "name": "stdout",
     "output_type": "stream",
     "text": [
      "Mean Absolute Error: 0.36541802067759316\n",
      "Mean Squared Error: 0.23152371413701534\n",
      "Root Mean Squared Error: 0.48116911178609056\n",
      "Root Mean Square Deviation: 89.2 %.\n"
     ]
    }
   ],
   "source": [
    "print('Mean Absolute Error:', metrics.mean_absolute_error(y_test, y_pred_en))  \n",
    "print('Mean Squared Error:', metrics.mean_squared_error(y_test, y_pred_en))  \n",
    "print('Root Mean Squared Error:', np.sqrt(metrics.mean_squared_error(y_test, y_pred_en)))\n",
    "\n",
    "errors = round(metrics.mean_absolute_error(y_test, y_pred_en),2)\n",
    "#Mean Absolute Percentage Error\n",
    "mape = 100 * (errors / y_test)\n",
    "acc_en = (100 - np.mean(mape)).round(2,)\n",
    "print('Root Mean Square Deviation:', round(acc_en, 2), '%.')"
   ]
  },
  {
   "cell_type": "markdown",
   "metadata": {},
   "source": [
    "Out of all three OLS techniques, Linear Regression was the best in terms of relative MSE and MSE."
   ]
  },
  {
   "cell_type": "markdown",
   "metadata": {},
   "source": [
    "# Let's see if an ensemble method would work better!"
   ]
  },
  {
   "cell_type": "markdown",
   "metadata": {},
   "source": [
    "## Random Forest"
   ]
  },
  {
   "cell_type": "code",
   "execution_count": 24,
   "metadata": {},
   "outputs": [],
   "source": [
    "from sklearn.ensemble import RandomForestRegressor\n",
    "from sklearn.metrics import classification_report\n",
    "\n",
    "#Create a Gaussian Classifier\n",
    "rf = RandomForestRegressor(n_estimators = 100)\n",
    "#train the model using the traing set\n",
    "dt = rf.fit(x_train,y_train)\n",
    "y_pred_rf = rf.predict(x_test)"
   ]
  },
  {
   "cell_type": "code",
   "execution_count": 25,
   "metadata": {},
   "outputs": [
    {
     "name": "stdout",
     "output_type": "stream",
     "text": [
      "Mean Absolute Error: 0.22124819412523797\n",
      "Mean Squared Error: 0.09392833825225533\n",
      "Root Mean Squared Error: 0.30647730462834494\n",
      "Accuracy: 93.58 %.\n"
     ]
    }
   ],
   "source": [
    "from sklearn import metrics\n",
    "\n",
    "print('Mean Absolute Error:', metrics.mean_absolute_error(y_test, y_pred_rf))  \n",
    "print('Mean Squared Error:', metrics.mean_squared_error(y_test, y_pred_rf))  \n",
    "print('Root Mean Squared Error:', np.sqrt(metrics.mean_squared_error(y_test, y_pred_rf)))\n",
    "\n",
    "errors = round(metrics.mean_absolute_error(y_test, y_pred_rf),2)\n",
    "#Mean Absolute Percentage Error\n",
    "mape = 100 * (errors / y_test)\n",
    "acc_rf = (100 - np.mean(mape)).round(2,)\n",
    "print('Accuracy:', round(acc_rf, 2), '%.')"
   ]
  },
  {
   "cell_type": "markdown",
   "metadata": {},
   "source": [
    "Wow! Our random forest model does significantly better than any of our OLS modeling methods."
   ]
  },
  {
   "cell_type": "markdown",
   "metadata": {},
   "source": [
    "# Predicting Summer Months\n"
   ]
  },
  {
   "cell_type": "markdown",
   "metadata": {},
   "source": [
    "## Ridge Regression"
   ]
  },
  {
   "cell_type": "code",
   "execution_count": 26,
   "metadata": {},
   "outputs": [],
   "source": [
    "# Subsetting only summer months\n",
    "\n",
    "summer_df = meta_splash2[(meta_splash2.MONTHOFYEAR == 5) | (meta_splash2.MONTHOFYEAR == 6)|\n",
    "                        (meta_splash2.MONTHOFYEAR == 7)|(meta_splash2.MONTHOFYEAR == 8)|\n",
    "                        (meta_splash2.MONTHOFYEAR == 9)]\n",
    "summer2018_df = summer_df[summer_df.YEAR == 2018]\n",
    "summer2018_df\n",
    "actual_time = summer2018_df.iloc[:,0:2]\n",
    "actual_time.index = range(153)\n",
    "summer2018_dates = summer2018_df.iloc[:,0:1]"
   ]
  },
  {
   "cell_type": "code",
   "execution_count": 27,
   "metadata": {},
   "outputs": [],
   "source": [
    "#Test rf on summer 2018\n",
    "predict_time_df = summer2018_df[golden_list_2]\n",
    "predict_time_df\n",
    "\n",
    "## training the model\n",
    "ridgeReg = Ridge(alpha=0.05, normalize=True)\n",
    "ridgeReg.fit(x_train,y_train)\n",
    "y_pred_df = ridgeReg.predict(predict_time_df)\n",
    "\n"
   ]
  },
  {
   "cell_type": "code",
   "execution_count": 28,
   "metadata": {},
   "outputs": [
    {
     "data": {
      "text/html": [
       "<div>\n",
       "<style scoped>\n",
       "    .dataframe tbody tr th:only-of-type {\n",
       "        vertical-align: middle;\n",
       "    }\n",
       "\n",
       "    .dataframe tbody tr th {\n",
       "        vertical-align: top;\n",
       "    }\n",
       "\n",
       "    .dataframe thead th {\n",
       "        text-align: right;\n",
       "    }\n",
       "</style>\n",
       "<table border=\"1\" class=\"dataframe\">\n",
       "  <thead>\n",
       "    <tr style=\"text-align: right;\">\n",
       "      <th></th>\n",
       "      <th>Date</th>\n",
       "      <th>Actual_Time</th>\n",
       "      <th>Predicted_Time</th>\n",
       "    </tr>\n",
       "  </thead>\n",
       "  <tbody>\n",
       "    <tr>\n",
       "      <th>0</th>\n",
       "      <td>2018-05-01</td>\n",
       "      <td>37.875000</td>\n",
       "      <td>45.188599</td>\n",
       "    </tr>\n",
       "    <tr>\n",
       "      <th>1</th>\n",
       "      <td>2018-05-02</td>\n",
       "      <td>45.781250</td>\n",
       "      <td>54.627307</td>\n",
       "    </tr>\n",
       "    <tr>\n",
       "      <th>2</th>\n",
       "      <td>2018-05-03</td>\n",
       "      <td>38.911290</td>\n",
       "      <td>52.527026</td>\n",
       "    </tr>\n",
       "    <tr>\n",
       "      <th>3</th>\n",
       "      <td>2018-05-04</td>\n",
       "      <td>60.344828</td>\n",
       "      <td>60.337246</td>\n",
       "    </tr>\n",
       "    <tr>\n",
       "      <th>4</th>\n",
       "      <td>2018-05-05</td>\n",
       "      <td>38.885135</td>\n",
       "      <td>59.473237</td>\n",
       "    </tr>\n",
       "    <tr>\n",
       "      <th>5</th>\n",
       "      <td>2018-05-06</td>\n",
       "      <td>30.538462</td>\n",
       "      <td>45.868718</td>\n",
       "    </tr>\n",
       "    <tr>\n",
       "      <th>6</th>\n",
       "      <td>2018-05-07</td>\n",
       "      <td>72.830189</td>\n",
       "      <td>64.415153</td>\n",
       "    </tr>\n",
       "    <tr>\n",
       "      <th>7</th>\n",
       "      <td>2018-05-08</td>\n",
       "      <td>52.552083</td>\n",
       "      <td>49.522016</td>\n",
       "    </tr>\n",
       "    <tr>\n",
       "      <th>8</th>\n",
       "      <td>2018-05-09</td>\n",
       "      <td>18.000000</td>\n",
       "      <td>58.790424</td>\n",
       "    </tr>\n",
       "    <tr>\n",
       "      <th>9</th>\n",
       "      <td>2018-05-10</td>\n",
       "      <td>41.666667</td>\n",
       "      <td>56.602247</td>\n",
       "    </tr>\n",
       "  </tbody>\n",
       "</table>\n",
       "</div>"
      ],
      "text/plain": [
       "        Date  Actual_Time  Predicted_Time\n",
       "0 2018-05-01    37.875000       45.188599\n",
       "1 2018-05-02    45.781250       54.627307\n",
       "2 2018-05-03    38.911290       52.527026\n",
       "3 2018-05-04    60.344828       60.337246\n",
       "4 2018-05-05    38.885135       59.473237\n",
       "5 2018-05-06    30.538462       45.868718\n",
       "6 2018-05-07    72.830189       64.415153\n",
       "7 2018-05-08    52.552083       49.522016\n",
       "8 2018-05-09    18.000000       58.790424\n",
       "9 2018-05-10    41.666667       56.602247"
      ]
     },
     "execution_count": 28,
     "metadata": {},
     "output_type": "execute_result"
    }
   ],
   "source": [
    "#ax = sns.lineplot(comparison_df.Date,comparison_df.Actual_Time)\n",
    "#ax = sns.scatterplot(comparison_df.Date,comparison_df.Predicted_Time,palette)\n",
    "\n",
    "ridge_pred_df = pd.DataFrame(y_pred_df)\n",
    "ridge_pred_df.head(n = 6)\n",
    "\n",
    "ridge_comparison_df = pd.concat([actual_time,ridge_pred_df],\n",
    "                              axis = 1)\n",
    "ridge_comparison_df = ridge_comparison_df.rename({'date':'Date',\n",
    "                                     'SPOSTMIN':'Actual_Time',\n",
    "                                     0:'Predicted_Time'}, axis = 1)\n",
    "ridge_comparison_df.Predicted_Time = np.exp(ridge_comparison_df.Predicted_Time)\n",
    "ridge_comparison_df.head(n = 10)"
   ]
  },
  {
   "cell_type": "code",
   "execution_count": 29,
   "metadata": {},
   "outputs": [
    {
     "name": "stderr",
     "output_type": "stream",
     "text": [
      "/opt/conda/lib/python3.6/site-packages/pandas/plotting/_converter.py:129: FutureWarning: Using an implicitly registered datetime converter for a matplotlib plotting method. The converter was registered by pandas on import. Future versions of pandas will require you to explicitly register matplotlib converters.\n",
      "\n",
      "To register the converters:\n",
      "\t>>> from pandas.plotting import register_matplotlib_converters\n",
      "\t>>> register_matplotlib_converters()\n",
      "  warnings.warn(msg, FutureWarning)\n"
     ]
    },
    {
     "data": {
      "image/png": "[encoded data removed]",
      "text/plain": [
       "<Figure size 432x288 with 1 Axes>"
      ]
     },
     "metadata": {
      "needs_background": "light"
     },
     "output_type": "display_data"
    }
   ],
   "source": [
    "#ax = sns.lineplot(comparison_df.Date,comparison_df.Actual_Time)\n",
    "#ax = sns.scatterplot(comparison_df.Date,comparison_df.Predicted_Time,palette)\n",
    "\n",
    "plt.plot(ridge_comparison_df.Date, ridge_comparison_df.Predicted_Time,'b-', label = 'predicted')\n",
    "\n",
    "plt.plot(ridge_comparison_df.Date, ridge_comparison_df.Actual_Time,'ro', label = 'actual',\n",
    "        markersize = 3)\n",
    "\n",
    "plt.xticks(rotation = '60'); \n",
    "plt.legend()\n",
    "\n",
    "# Graph labels\n",
    "plt.xlabel('Date'); plt.ylabel('Average Wait Time'); plt.title('Actual and Predicted Wait Times');\n"
   ]
  },
  {
   "cell_type": "markdown",
   "metadata": {},
   "source": [
    "## Random Forest"
   ]
  },
  {
   "cell_type": "code",
   "execution_count": 30,
   "metadata": {},
   "outputs": [],
   "source": [
    "# Subsetting only summer months\n",
    "\n",
    "summer_df = meta_splash2[(meta_splash2.MONTHOFYEAR == 5) | (meta_splash2.MONTHOFYEAR == 6)|\n",
    "                        (meta_splash2.MONTHOFYEAR == 7)|(meta_splash2.MONTHOFYEAR == 8)|\n",
    "                        (meta_splash2.MONTHOFYEAR == 9)]\n",
    "summer2018_df = summer_df[summer_df.YEAR == 2018]\n",
    "summer2018_df\n",
    "actual_time = summer2018_df.iloc[:,0:2]\n",
    "actual_time.index = range(153)\n",
    "summer2018_dates = summer2018_df.iloc[:,0:1]"
   ]
  },
  {
   "cell_type": "code",
   "execution_count": 31,
   "metadata": {},
   "outputs": [],
   "source": [
    "#Test rf on summer 2018\n",
    "predict_time_df = summer2018_df[golden_list_2]\n",
    "predict_time_df\n",
    "\n",
    "#Create a Gaussian Classifier\n",
    "rf = RandomForestRegressor(n_estimators = 100)\n",
    "\n",
    "#train the model using the traing set\n",
    "rf.fit(x_train,y_train)\n",
    "\n",
    "predicted_time = rf.predict(predict_time_df)"
   ]
  },
  {
   "cell_type": "code",
   "execution_count": 32,
   "metadata": {},
   "outputs": [
    {
     "data": {
      "text/html": [
       "<div>\n",
       "<style scoped>\n",
       "    .dataframe tbody tr th:only-of-type {\n",
       "        vertical-align: middle;\n",
       "    }\n",
       "\n",
       "    .dataframe tbody tr th {\n",
       "        vertical-align: top;\n",
       "    }\n",
       "\n",
       "    .dataframe thead th {\n",
       "        text-align: right;\n",
       "    }\n",
       "</style>\n",
       "<table border=\"1\" class=\"dataframe\">\n",
       "  <thead>\n",
       "    <tr style=\"text-align: right;\">\n",
       "      <th></th>\n",
       "      <th>Date</th>\n",
       "      <th>Actual_Time</th>\n",
       "      <th>Predicted_Time</th>\n",
       "    </tr>\n",
       "  </thead>\n",
       "  <tbody>\n",
       "    <tr>\n",
       "      <th>0</th>\n",
       "      <td>2018-05-01</td>\n",
       "      <td>37.875000</td>\n",
       "      <td>39.521006</td>\n",
       "    </tr>\n",
       "    <tr>\n",
       "      <th>1</th>\n",
       "      <td>2018-05-02</td>\n",
       "      <td>45.781250</td>\n",
       "      <td>43.968841</td>\n",
       "    </tr>\n",
       "    <tr>\n",
       "      <th>2</th>\n",
       "      <td>2018-05-03</td>\n",
       "      <td>38.911290</td>\n",
       "      <td>40.823528</td>\n",
       "    </tr>\n",
       "    <tr>\n",
       "      <th>3</th>\n",
       "      <td>2018-05-04</td>\n",
       "      <td>60.344828</td>\n",
       "      <td>56.850789</td>\n",
       "    </tr>\n",
       "    <tr>\n",
       "      <th>4</th>\n",
       "      <td>2018-05-05</td>\n",
       "      <td>38.885135</td>\n",
       "      <td>53.176875</td>\n",
       "    </tr>\n",
       "    <tr>\n",
       "      <th>5</th>\n",
       "      <td>2018-05-06</td>\n",
       "      <td>30.538462</td>\n",
       "      <td>32.205314</td>\n",
       "    </tr>\n",
       "    <tr>\n",
       "      <th>6</th>\n",
       "      <td>2018-05-07</td>\n",
       "      <td>72.830189</td>\n",
       "      <td>42.254742</td>\n",
       "    </tr>\n",
       "    <tr>\n",
       "      <th>7</th>\n",
       "      <td>2018-05-08</td>\n",
       "      <td>52.552083</td>\n",
       "      <td>36.350887</td>\n",
       "    </tr>\n",
       "    <tr>\n",
       "      <th>8</th>\n",
       "      <td>2018-05-09</td>\n",
       "      <td>18.000000</td>\n",
       "      <td>26.932939</td>\n",
       "    </tr>\n",
       "    <tr>\n",
       "      <th>9</th>\n",
       "      <td>2018-05-10</td>\n",
       "      <td>41.666667</td>\n",
       "      <td>41.737715</td>\n",
       "    </tr>\n",
       "  </tbody>\n",
       "</table>\n",
       "</div>"
      ],
      "text/plain": [
       "        Date  Actual_Time  Predicted_Time\n",
       "0 2018-05-01    37.875000       39.521006\n",
       "1 2018-05-02    45.781250       43.968841\n",
       "2 2018-05-03    38.911290       40.823528\n",
       "3 2018-05-04    60.344828       56.850789\n",
       "4 2018-05-05    38.885135       53.176875\n",
       "5 2018-05-06    30.538462       32.205314\n",
       "6 2018-05-07    72.830189       42.254742\n",
       "7 2018-05-08    52.552083       36.350887\n",
       "8 2018-05-09    18.000000       26.932939\n",
       "9 2018-05-10    41.666667       41.737715"
      ]
     },
     "execution_count": 32,
     "metadata": {},
     "output_type": "execute_result"
    }
   ],
   "source": [
    "#ax = sns.lineplot(comparison_df.Date,comparison_df.Actual_Time)\n",
    "#ax = sns.scatterplot(comparison_df.Date,comparison_df.Predicted_Time,palette)\n",
    "\n",
    "predicted_time_df = pd.DataFrame(predicted_time)\n",
    "predicted_time_df.head(n = 6)\n",
    "\n",
    "comparison_df = pd.concat([actual_time,predicted_time_df],\n",
    "                              axis = 1)\n",
    "comparison_df = comparison_df.rename({'date':'Date',\n",
    "                                     'SPOSTMIN':'Actual_Time',\n",
    "                                     0:'Predicted_Time'}, axis = 1)\n",
    "comparison_df.Predicted_Time = np.exp(comparison_df.Predicted_Time)\n",
    "comparison_df.head(n = 10)"
   ]
  },
  {
   "cell_type": "code",
   "execution_count": 33,
   "metadata": {
    "scrolled": true
   },
   "outputs": [
    {
     "data": {
      "image/png": "[encoded data removed]",
      "text/plain": [
       "<Figure size 432x288 with 1 Axes>"
      ]
     },
     "metadata": {
      "needs_background": "light"
     },
     "output_type": "display_data"
    }
   ],
   "source": [
    "#ax = sns.lineplot(comparison_df.Date,comparison_df.Actual_Time)\n",
    "#ax = sns.scatterplot(comparison_df.Date,comparison_df.Predicted_Time,palette)\n",
    "\n",
    "plt.plot(comparison_df.Date, comparison_df.Predicted_Time,'b-', label = 'predicted')\n",
    "\n",
    "plt.plot(comparison_df.Date, comparison_df.Actual_Time,'ro', label = 'actual',\n",
    "        markersize = 3)\n",
    "\n",
    "plt.xticks(rotation = '60'); \n",
    "plt.legend()\n",
    "\n",
    "# Graph labels\n",
    "plt.xlabel('Date'); plt.ylabel('Average Wait Time'); plt.title('Actual and Predicted Wait Times');\n"
   ]
  },
  {
   "cell_type": "markdown",
   "metadata": {},
   "source": [
    "# Compare Prediction to Actual Wait Time July 2018"
   ]
  },
  {
   "cell_type": "markdown",
   "metadata": {},
   "source": [
    "## Random Forest"
   ]
  },
  {
   "cell_type": "code",
   "execution_count": 34,
   "metadata": {},
   "outputs": [],
   "source": [
    "july_df = meta_splash2[meta_splash2.MONTHOFYEAR == 7]\n",
    "july2018_df = july_df[july_df.YEAR == 2018]\n",
    "july2018_df\n",
    "actual_time = july2018_df.iloc[:,0:2]\n",
    "actual_time.index = range(31)"
   ]
  },
  {
   "cell_type": "code",
   "execution_count": 35,
   "metadata": {},
   "outputs": [],
   "source": [
    "#Test rf on july 2018\n",
    "predict_time_df = july2018_df[golden_list_2]\n",
    "predict_time_df\n",
    "\n",
    "#Create a Gaussian Classifier\n",
    "rf = RandomForestRegressor(n_estimators = 100)\n",
    "\n",
    "#train the model using the traing set\n",
    "rf.fit(x_train,y_train)\n",
    "\n",
    "predicted_time = rf.predict(predict_time_df)"
   ]
  },
  {
   "cell_type": "code",
   "execution_count": 36,
   "metadata": {},
   "outputs": [
    {
     "data": {
      "text/html": [
       "<div>\n",
       "<style scoped>\n",
       "    .dataframe tbody tr th:only-of-type {\n",
       "        vertical-align: middle;\n",
       "    }\n",
       "\n",
       "    .dataframe tbody tr th {\n",
       "        vertical-align: top;\n",
       "    }\n",
       "\n",
       "    .dataframe thead th {\n",
       "        text-align: right;\n",
       "    }\n",
       "</style>\n",
       "<table border=\"1\" class=\"dataframe\">\n",
       "  <thead>\n",
       "    <tr style=\"text-align: right;\">\n",
       "      <th></th>\n",
       "      <th>Date</th>\n",
       "      <th>Actual_Time</th>\n",
       "      <th>Predicted_Time</th>\n",
       "    </tr>\n",
       "  </thead>\n",
       "  <tbody>\n",
       "    <tr>\n",
       "      <th>0</th>\n",
       "      <td>2018-07-01</td>\n",
       "      <td>52.796610</td>\n",
       "      <td>54.644032</td>\n",
       "    </tr>\n",
       "    <tr>\n",
       "      <th>1</th>\n",
       "      <td>2018-07-02</td>\n",
       "      <td>71.344086</td>\n",
       "      <td>68.166221</td>\n",
       "    </tr>\n",
       "    <tr>\n",
       "      <th>2</th>\n",
       "      <td>2018-07-03</td>\n",
       "      <td>69.210526</td>\n",
       "      <td>69.457659</td>\n",
       "    </tr>\n",
       "    <tr>\n",
       "      <th>3</th>\n",
       "      <td>2018-07-04</td>\n",
       "      <td>70.887097</td>\n",
       "      <td>62.280540</td>\n",
       "    </tr>\n",
       "    <tr>\n",
       "      <th>4</th>\n",
       "      <td>2018-07-05</td>\n",
       "      <td>70.275591</td>\n",
       "      <td>62.498996</td>\n",
       "    </tr>\n",
       "    <tr>\n",
       "      <th>5</th>\n",
       "      <td>2018-07-06</td>\n",
       "      <td>56.296296</td>\n",
       "      <td>56.404215</td>\n",
       "    </tr>\n",
       "    <tr>\n",
       "      <th>6</th>\n",
       "      <td>2018-07-07</td>\n",
       "      <td>45.625000</td>\n",
       "      <td>50.572239</td>\n",
       "    </tr>\n",
       "    <tr>\n",
       "      <th>7</th>\n",
       "      <td>2018-07-08</td>\n",
       "      <td>47.892157</td>\n",
       "      <td>56.028470</td>\n",
       "    </tr>\n",
       "    <tr>\n",
       "      <th>8</th>\n",
       "      <td>2018-07-09</td>\n",
       "      <td>70.595238</td>\n",
       "      <td>62.708411</td>\n",
       "    </tr>\n",
       "    <tr>\n",
       "      <th>9</th>\n",
       "      <td>2018-07-10</td>\n",
       "      <td>69.205607</td>\n",
       "      <td>64.827416</td>\n",
       "    </tr>\n",
       "  </tbody>\n",
       "</table>\n",
       "</div>"
      ],
      "text/plain": [
       "        Date  Actual_Time  Predicted_Time\n",
       "0 2018-07-01    52.796610       54.644032\n",
       "1 2018-07-02    71.344086       68.166221\n",
       "2 2018-07-03    69.210526       69.457659\n",
       "3 2018-07-04    70.887097       62.280540\n",
       "4 2018-07-05    70.275591       62.498996\n",
       "5 2018-07-06    56.296296       56.404215\n",
       "6 2018-07-07    45.625000       50.572239\n",
       "7 2018-07-08    47.892157       56.028470\n",
       "8 2018-07-09    70.595238       62.708411\n",
       "9 2018-07-10    69.205607       64.827416"
      ]
     },
     "execution_count": 36,
     "metadata": {},
     "output_type": "execute_result"
    }
   ],
   "source": [
    "predicted_time_df = pd.DataFrame(predicted_time)\n",
    "predicted_time_df.head(n = 6)\n",
    "\n",
    "comparison_df = pd.concat([actual_time,predicted_time_df],\n",
    "                              axis = 1)\n",
    "comparison_df = comparison_df.rename({'date':'Date',\n",
    "                                     'SPOSTMIN':'Actual_Time',\n",
    "                                     0:'Predicted_Time'}, axis = 1)\n",
    "\n",
    "comparison_df.Predicted_Time = np.exp(comparison_df.Predicted_Time)\n",
    "\n",
    "comparison_df.head(n = 10)"
   ]
  },
  {
   "cell_type": "code",
   "execution_count": 37,
   "metadata": {
    "scrolled": false
   },
   "outputs": [
    {
     "data": {
      "image/png": "[encoded data removed]",
      "text/plain": [
       "<Figure size 432x288 with 1 Axes>"
      ]
     },
     "metadata": {
      "needs_background": "light"
     },
     "output_type": "display_data"
    }
   ],
   "source": [
    "plt.plot(comparison_df.Date, comparison_df.Predicted_Time,'b-', label = 'predicted')\n",
    "\n",
    "plt.plot(comparison_df.Date, comparison_df.Actual_Time,'ro', label = 'actual',\n",
    "        markersize = 3)\n",
    "\n",
    "plt.xticks(rotation = '60'); \n",
    "plt.legend()\n",
    "\n",
    "# Graph labels\n",
    "plt.xlabel('Date'); plt.ylabel('Average Wait Time'); plt.title('Actual and Predicted Wait Times for July');\n"
   ]
  },
  {
   "cell_type": "code",
   "execution_count": 38,
   "metadata": {},
   "outputs": [],
   "source": [
    "mse_lm = metrics.mean_squared_error(y_test, y_predlm)\n",
    "\n",
    "mse_ridge = metrics.mean_squared_error(y_test, y_pred_ridge)\n",
    "mse_lasso = metrics.mean_squared_error(y_test, y_pred_lasso)\n",
    "mse_en = metrics.mean_squared_error(y_test, y_pred_en)\n",
    "mse_rf = metrics.mean_squared_error(y_test, y_pred_rf)"
   ]
  },
  {
   "cell_type": "code",
   "execution_count": 39,
   "metadata": {
    "scrolled": true
   },
   "outputs": [
    {
     "data": {
      "text/html": [
       "<div>\n",
       "<style scoped>\n",
       "    .dataframe tbody tr th:only-of-type {\n",
       "        vertical-align: middle;\n",
       "    }\n",
       "\n",
       "    .dataframe tbody tr th {\n",
       "        vertical-align: top;\n",
       "    }\n",
       "\n",
       "    .dataframe thead th {\n",
       "        text-align: right;\n",
       "    }\n",
       "</style>\n",
       "<table border=\"1\" class=\"dataframe\">\n",
       "  <thead>\n",
       "    <tr style=\"text-align: right;\">\n",
       "      <th></th>\n",
       "      <th>Model</th>\n",
       "      <th>Relative MSE</th>\n",
       "      <th>MSE</th>\n",
       "    </tr>\n",
       "  </thead>\n",
       "  <tbody>\n",
       "    <tr>\n",
       "      <th>0</th>\n",
       "      <td>Linear</td>\n",
       "      <td>91.82</td>\n",
       "      <td>0.1423</td>\n",
       "    </tr>\n",
       "    <tr>\n",
       "      <th>1</th>\n",
       "      <td>Ridge</td>\n",
       "      <td>91.53</td>\n",
       "      <td>0.1472</td>\n",
       "    </tr>\n",
       "    <tr>\n",
       "      <th>2</th>\n",
       "      <td>Lasso</td>\n",
       "      <td>86.28</td>\n",
       "      <td>0.3575</td>\n",
       "    </tr>\n",
       "    <tr>\n",
       "      <th>3</th>\n",
       "      <td>Elastic</td>\n",
       "      <td>89.20</td>\n",
       "      <td>0.2315</td>\n",
       "    </tr>\n",
       "    <tr>\n",
       "      <th>4</th>\n",
       "      <td>Random Forest</td>\n",
       "      <td>93.58</td>\n",
       "      <td>0.0939</td>\n",
       "    </tr>\n",
       "  </tbody>\n",
       "</table>\n",
       "</div>"
      ],
      "text/plain": [
       "           Model  Relative MSE     MSE\n",
       "0         Linear         91.82  0.1423\n",
       "1          Ridge         91.53  0.1472\n",
       "2          Lasso         86.28  0.3575\n",
       "3        Elastic         89.20  0.2315\n",
       "4  Random Forest         93.58  0.0939"
      ]
     },
     "execution_count": 39,
     "metadata": {},
     "output_type": "execute_result"
    }
   ],
   "source": [
    "# Creating new dataframe with accuracy and MSE\n",
    "\n",
    "mse = pd.DataFrame({\n",
    "    \"Model\": [\"Linear\", \"Ridge\", \"Lasso\", \"Elastic\", \"Random Forest\"],\n",
    "    \"Relative MSE\": [acc_linear, acc_ridge, acc_lasso, acc_en, acc_rf],\n",
    "    \"MSE\": [mse_lm.round(4,), mse_ridge.round(4,), mse_lasso.round(4,), mse_en.round(4,), mse_rf.round(4,)]})\n",
    "\n",
    "mse"
   ]
  },
  {
   "cell_type": "markdown",
   "metadata": {},
   "source": [
    "# Next Steps\n",
    "Due to deficiencies in the data, we eliminated the actual wait times for each ride. Chasing out these data points or creating a weighting system for actual wait time data points available could provide a more accurate wait time set to analyze. This could explain the larger gaps in accuracy when defining our model for predicting wait times. However, more problems could arise due to the lack of actual wait times that cause the posted wait time data to have more noise than our results currently display.\n"
   ]
  },
  {
   "cell_type": "markdown",
   "metadata": {},
   "source": [
    "# Conclusion\n",
    "After testing all models and analyzing each error set, we determined Random Forests to be the best model for determining wait times for the summer. Random Forests contained the lowest of the 5 models tested with a 93.20% predictive accuracy and 0.109323 Mean Squared Error, thus providing us with the closest predictions from the actual wait times to the predicted. The Ordinary Least Squares model was not as precise as the Random Forest model\n"
   ]
  }
 ],
 "metadata": {
  "kernelspec": {
   "display_name": "Python 3",
   "language": "python",
   "name": "python3"
  },
  "language_info": {
   "codemirror_mode": {
    "name": "ipython",
    "version": 3
   },
   "file_extension": ".py",
   "mimetype": "text/x-python",
   "name": "python",
   "nbconvert_exporter": "python",
   "pygments_lexer": "ipython3",
   "version": "3.6.7"
  }
 },
 "nbformat": 4,
 "nbformat_minor": 2
}
