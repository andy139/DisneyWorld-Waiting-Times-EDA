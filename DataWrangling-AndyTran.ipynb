{
 "cells": [
  {
   "cell_type": "markdown",
   "metadata": {},
   "source": [
    "# Exploring Disney Land Wait Time Data Set"
   ]
  },
  {
   "cell_type": "code",
   "execution_count": 1,
   "metadata": {},
   "outputs": [],
   "source": [
    "import pandas as pd ## call pandas functions using \"pd\"\n",
    "import numpy as np  ## call numpy functions using \"np\"\n",
    "import sklearn.decomposition as skld\n",
    "import matplotlib.pyplot as plt\n",
    "import seaborn as sns\n",
    "import imp\n"
   ]
  },
  {
   "cell_type": "code",
   "execution_count": 2,
   "metadata": {},
   "outputs": [],
   "source": [
    "#import meta data\n",
    "meta = pd.read_csv(\"disney.csv\")\n",
    "\n",
    "#import magic kingdom rides (wait times)\n",
    "splash = pd.read_csv(\"splash_mountain.csv\")\n",
    "seven_dwarfs = pd.read_csv(\"7_dwarfs_train.csv\")\n",
    "pirates = pd.read_csv('pirates_of_caribbean.csv')\n"
   ]
  },
  {
   "cell_type": "code",
   "execution_count": 3,
   "metadata": {
    "scrolled": true
   },
   "outputs": [
    {
     "data": {
      "text/html": [
       "<div>\n",
       "<style scoped>\n",
       "    .dataframe tbody tr th:only-of-type {\n",
       "        vertical-align: middle;\n",
       "    }\n",
       "\n",
       "    .dataframe tbody tr th {\n",
       "        vertical-align: top;\n",
       "    }\n",
       "\n",
       "    .dataframe thead th {\n",
       "        text-align: right;\n",
       "    }\n",
       "</style>\n",
       "<table border=\"1\" class=\"dataframe\">\n",
       "  <thead>\n",
       "    <tr style=\"text-align: right;\">\n",
       "      <th></th>\n",
       "      <th>DATE</th>\n",
       "      <th>WDW_TICKET_SEASON</th>\n",
       "      <th>DAYOFWEEK</th>\n",
       "      <th>DAYOFYEAR</th>\n",
       "      <th>WEEKOFYEAR</th>\n",
       "      <th>MONTHOFYEAR</th>\n",
       "      <th>YEAR</th>\n",
       "      <th>SEASON</th>\n",
       "      <th>HOLIDAYPX</th>\n",
       "      <th>HOLIDAYM</th>\n",
       "    </tr>\n",
       "  </thead>\n",
       "  <tbody>\n",
       "    <tr>\n",
       "      <th>0</th>\n",
       "      <td>01/01/2012</td>\n",
       "      <td>NaN</td>\n",
       "      <td>1</td>\n",
       "      <td>0</td>\n",
       "      <td>1</td>\n",
       "      <td>1</td>\n",
       "      <td>2012</td>\n",
       "      <td>CHRISTMAS PEAK</td>\n",
       "      <td>0</td>\n",
       "      <td>5</td>\n",
       "    </tr>\n",
       "    <tr>\n",
       "      <th>1</th>\n",
       "      <td>01/02/2012</td>\n",
       "      <td>NaN</td>\n",
       "      <td>2</td>\n",
       "      <td>1</td>\n",
       "      <td>1</td>\n",
       "      <td>1</td>\n",
       "      <td>2012</td>\n",
       "      <td>CHRISTMAS</td>\n",
       "      <td>2</td>\n",
       "      <td>5</td>\n",
       "    </tr>\n",
       "    <tr>\n",
       "      <th>2</th>\n",
       "      <td>01/03/2012</td>\n",
       "      <td>NaN</td>\n",
       "      <td>3</td>\n",
       "      <td>2</td>\n",
       "      <td>1</td>\n",
       "      <td>1</td>\n",
       "      <td>2012</td>\n",
       "      <td>CHRISTMAS</td>\n",
       "      <td>3</td>\n",
       "      <td>0</td>\n",
       "    </tr>\n",
       "    <tr>\n",
       "      <th>3</th>\n",
       "      <td>01/04/2012</td>\n",
       "      <td>NaN</td>\n",
       "      <td>4</td>\n",
       "      <td>3</td>\n",
       "      <td>1</td>\n",
       "      <td>1</td>\n",
       "      <td>2012</td>\n",
       "      <td>CHRISTMAS</td>\n",
       "      <td>4</td>\n",
       "      <td>0</td>\n",
       "    </tr>\n",
       "    <tr>\n",
       "      <th>4</th>\n",
       "      <td>01/05/2012</td>\n",
       "      <td>NaN</td>\n",
       "      <td>5</td>\n",
       "      <td>4</td>\n",
       "      <td>1</td>\n",
       "      <td>1</td>\n",
       "      <td>2012</td>\n",
       "      <td>CHRISTMAS</td>\n",
       "      <td>5</td>\n",
       "      <td>0</td>\n",
       "    </tr>\n",
       "  </tbody>\n",
       "</table>\n",
       "</div>"
      ],
      "text/plain": [
       "         DATE WDW_TICKET_SEASON  DAYOFWEEK  DAYOFYEAR  WEEKOFYEAR  \\\n",
       "0  01/01/2012               NaN          1          0           1   \n",
       "1  01/02/2012               NaN          2          1           1   \n",
       "2  01/03/2012               NaN          3          2           1   \n",
       "3  01/04/2012               NaN          4          3           1   \n",
       "4  01/05/2012               NaN          5          4           1   \n",
       "\n",
       "   MONTHOFYEAR  YEAR          SEASON  HOLIDAYPX  HOLIDAYM  \n",
       "0            1  2012  CHRISTMAS PEAK          0         5  \n",
       "1            1  2012       CHRISTMAS          2         5  \n",
       "2            1  2012       CHRISTMAS          3         0  \n",
       "3            1  2012       CHRISTMAS          4         0  \n",
       "4            1  2012       CHRISTMAS          5         0  "
      ]
     },
     "execution_count": 3,
     "metadata": {},
     "output_type": "execute_result"
    }
   ],
   "source": [
    "# First five rows of meta, five columns, # start date 2012\n",
    "meta.iloc[0:5, 0:10]"
   ]
  },
  {
   "cell_type": "code",
   "execution_count": 4,
   "metadata": {},
   "outputs": [
    {
     "data": {
      "text/html": [
       "<div>\n",
       "<style scoped>\n",
       "    .dataframe tbody tr th:only-of-type {\n",
       "        vertical-align: middle;\n",
       "    }\n",
       "\n",
       "    .dataframe tbody tr th {\n",
       "        vertical-align: top;\n",
       "    }\n",
       "\n",
       "    .dataframe thead th {\n",
       "        text-align: right;\n",
       "    }\n",
       "</style>\n",
       "<table border=\"1\" class=\"dataframe\">\n",
       "  <thead>\n",
       "    <tr style=\"text-align: right;\">\n",
       "      <th></th>\n",
       "      <th>date</th>\n",
       "      <th>datetime</th>\n",
       "      <th>SPOSTMIN</th>\n",
       "      <th>SACTMIN</th>\n",
       "    </tr>\n",
       "  </thead>\n",
       "  <tbody>\n",
       "    <tr>\n",
       "      <th>0</th>\n",
       "      <td>01/01/2012</td>\n",
       "      <td>2012-01-01 10:31:00</td>\n",
       "      <td>30.0</td>\n",
       "      <td>NaN</td>\n",
       "    </tr>\n",
       "    <tr>\n",
       "      <th>1</th>\n",
       "      <td>01/01/2012</td>\n",
       "      <td>2012-01-01 10:40:00</td>\n",
       "      <td>30.0</td>\n",
       "      <td>NaN</td>\n",
       "    </tr>\n",
       "    <tr>\n",
       "      <th>3</th>\n",
       "      <td>01/01/2012</td>\n",
       "      <td>2012-01-01 12:02:00</td>\n",
       "      <td>30.0</td>\n",
       "      <td>NaN</td>\n",
       "    </tr>\n",
       "    <tr>\n",
       "      <th>5</th>\n",
       "      <td>01/01/2012</td>\n",
       "      <td>2012-01-01 12:38:00</td>\n",
       "      <td>35.0</td>\n",
       "      <td>NaN</td>\n",
       "    </tr>\n",
       "    <tr>\n",
       "      <th>6</th>\n",
       "      <td>01/01/2012</td>\n",
       "      <td>2012-01-01 12:44:00</td>\n",
       "      <td>25.0</td>\n",
       "      <td>NaN</td>\n",
       "    </tr>\n",
       "  </tbody>\n",
       "</table>\n",
       "</div>"
      ],
      "text/plain": [
       "         date             datetime  SPOSTMIN  SACTMIN\n",
       "0  01/01/2012  2012-01-01 10:31:00      30.0      NaN\n",
       "1  01/01/2012  2012-01-01 10:40:00      30.0      NaN\n",
       "3  01/01/2012  2012-01-01 12:02:00      30.0      NaN\n",
       "5  01/01/2012  2012-01-01 12:38:00      35.0      NaN\n",
       "6  01/01/2012  2012-01-01 12:44:00      25.0      NaN"
      ]
     },
     "execution_count": 4,
     "metadata": {},
     "output_type": "execute_result"
    }
   ],
   "source": [
    "# Dropping sactmin from magic world rides, then dropping NaN from spostmin\n",
    "\n",
    "# Drop rows where wait time is not available (-999)\n",
    "pirates = pirates[pirates.SPOSTMIN > 0]\n",
    "seven_dwarfs = seven_dwarfs[seven_dwarfs.SPOSTMIN > 0]\n",
    "splash = splash[splash.SPOSTMIN > 0]\n",
    "\n",
    "splash.head() #has posted minutes for each ride"
   ]
  },
  {
   "cell_type": "code",
   "execution_count": 5,
   "metadata": {},
   "outputs": [],
   "source": [
    "#Merging each ride with meta_data, using date as key\n",
    "meta_splash = pd.merge(splash, meta, left_on=\"date\", right_on=\"DATE\").drop('DATE', axis = 1)\n"
   ]
  },
  {
   "cell_type": "code",
   "execution_count": 6,
   "metadata": {},
   "outputs": [
    {
     "data": {
      "text/html": [
       "<div>\n",
       "<style scoped>\n",
       "    .dataframe tbody tr th:only-of-type {\n",
       "        vertical-align: middle;\n",
       "    }\n",
       "\n",
       "    .dataframe tbody tr th {\n",
       "        vertical-align: top;\n",
       "    }\n",
       "\n",
       "    .dataframe thead th {\n",
       "        text-align: right;\n",
       "    }\n",
       "</style>\n",
       "<table border=\"1\" class=\"dataframe\">\n",
       "  <thead>\n",
       "    <tr style=\"text-align: right;\">\n",
       "      <th></th>\n",
       "      <th>date</th>\n",
       "      <th>datetime</th>\n",
       "      <th>SPOSTMIN</th>\n",
       "      <th>SACTMIN</th>\n",
       "      <th>WDW_TICKET_SEASON</th>\n",
       "      <th>DAYOFWEEK</th>\n",
       "      <th>DAYOFYEAR</th>\n",
       "      <th>WEEKOFYEAR</th>\n",
       "      <th>MONTHOFYEAR</th>\n",
       "      <th>YEAR</th>\n",
       "      <th>...</th>\n",
       "      <th>HSFIREWKS</th>\n",
       "      <th>AKPRDDAY</th>\n",
       "      <th>AKPRDDT1</th>\n",
       "      <th>AKPRDDT2</th>\n",
       "      <th>AKPRDDN</th>\n",
       "      <th>AKFIREN</th>\n",
       "      <th>AKSHWNGT</th>\n",
       "      <th>AKSHWNT1</th>\n",
       "      <th>AKSHWNT2</th>\n",
       "      <th>AKSHWNN</th>\n",
       "    </tr>\n",
       "  </thead>\n",
       "  <tbody>\n",
       "    <tr>\n",
       "      <th>0</th>\n",
       "      <td>2012-01-01</td>\n",
       "      <td>2012-01-01 10:31:00</td>\n",
       "      <td>30.0</td>\n",
       "      <td>0.0</td>\n",
       "      <td>0</td>\n",
       "      <td>1</td>\n",
       "      <td>0</td>\n",
       "      <td>1</td>\n",
       "      <td>1</td>\n",
       "      <td>2012</td>\n",
       "      <td>...</td>\n",
       "      <td>1</td>\n",
       "      <td>1</td>\n",
       "      <td>15:45</td>\n",
       "      <td>0.0</td>\n",
       "      <td>Mickey's Jingle Jungle Parade</td>\n",
       "      <td>0.0</td>\n",
       "      <td>0</td>\n",
       "      <td>0</td>\n",
       "      <td>0</td>\n",
       "      <td>0</td>\n",
       "    </tr>\n",
       "    <tr>\n",
       "      <th>1</th>\n",
       "      <td>2012-01-01</td>\n",
       "      <td>2012-01-01 10:40:00</td>\n",
       "      <td>30.0</td>\n",
       "      <td>0.0</td>\n",
       "      <td>0</td>\n",
       "      <td>1</td>\n",
       "      <td>0</td>\n",
       "      <td>1</td>\n",
       "      <td>1</td>\n",
       "      <td>2012</td>\n",
       "      <td>...</td>\n",
       "      <td>1</td>\n",
       "      <td>1</td>\n",
       "      <td>15:45</td>\n",
       "      <td>0.0</td>\n",
       "      <td>Mickey's Jingle Jungle Parade</td>\n",
       "      <td>0.0</td>\n",
       "      <td>0</td>\n",
       "      <td>0</td>\n",
       "      <td>0</td>\n",
       "      <td>0</td>\n",
       "    </tr>\n",
       "    <tr>\n",
       "      <th>2</th>\n",
       "      <td>2012-01-01</td>\n",
       "      <td>2012-01-01 12:02:00</td>\n",
       "      <td>30.0</td>\n",
       "      <td>0.0</td>\n",
       "      <td>0</td>\n",
       "      <td>1</td>\n",
       "      <td>0</td>\n",
       "      <td>1</td>\n",
       "      <td>1</td>\n",
       "      <td>2012</td>\n",
       "      <td>...</td>\n",
       "      <td>1</td>\n",
       "      <td>1</td>\n",
       "      <td>15:45</td>\n",
       "      <td>0.0</td>\n",
       "      <td>Mickey's Jingle Jungle Parade</td>\n",
       "      <td>0.0</td>\n",
       "      <td>0</td>\n",
       "      <td>0</td>\n",
       "      <td>0</td>\n",
       "      <td>0</td>\n",
       "    </tr>\n",
       "    <tr>\n",
       "      <th>3</th>\n",
       "      <td>2012-01-01</td>\n",
       "      <td>2012-01-01 12:38:00</td>\n",
       "      <td>35.0</td>\n",
       "      <td>0.0</td>\n",
       "      <td>0</td>\n",
       "      <td>1</td>\n",
       "      <td>0</td>\n",
       "      <td>1</td>\n",
       "      <td>1</td>\n",
       "      <td>2012</td>\n",
       "      <td>...</td>\n",
       "      <td>1</td>\n",
       "      <td>1</td>\n",
       "      <td>15:45</td>\n",
       "      <td>0.0</td>\n",
       "      <td>Mickey's Jingle Jungle Parade</td>\n",
       "      <td>0.0</td>\n",
       "      <td>0</td>\n",
       "      <td>0</td>\n",
       "      <td>0</td>\n",
       "      <td>0</td>\n",
       "    </tr>\n",
       "    <tr>\n",
       "      <th>4</th>\n",
       "      <td>2012-01-01</td>\n",
       "      <td>2012-01-01 12:44:00</td>\n",
       "      <td>25.0</td>\n",
       "      <td>0.0</td>\n",
       "      <td>0</td>\n",
       "      <td>1</td>\n",
       "      <td>0</td>\n",
       "      <td>1</td>\n",
       "      <td>1</td>\n",
       "      <td>2012</td>\n",
       "      <td>...</td>\n",
       "      <td>1</td>\n",
       "      <td>1</td>\n",
       "      <td>15:45</td>\n",
       "      <td>0.0</td>\n",
       "      <td>Mickey's Jingle Jungle Parade</td>\n",
       "      <td>0.0</td>\n",
       "      <td>0</td>\n",
       "      <td>0</td>\n",
       "      <td>0</td>\n",
       "      <td>0</td>\n",
       "    </tr>\n",
       "  </tbody>\n",
       "</table>\n",
       "<p>5 rows × 193 columns</p>\n",
       "</div>"
      ],
      "text/plain": [
       "        date             datetime  SPOSTMIN  SACTMIN WDW_TICKET_SEASON  \\\n",
       "0 2012-01-01  2012-01-01 10:31:00      30.0      0.0                 0   \n",
       "1 2012-01-01  2012-01-01 10:40:00      30.0      0.0                 0   \n",
       "2 2012-01-01  2012-01-01 12:02:00      30.0      0.0                 0   \n",
       "3 2012-01-01  2012-01-01 12:38:00      35.0      0.0                 0   \n",
       "4 2012-01-01  2012-01-01 12:44:00      25.0      0.0                 0   \n",
       "\n",
       "   DAYOFWEEK  DAYOFYEAR  WEEKOFYEAR  MONTHOFYEAR  YEAR  ... HSFIREWKS  \\\n",
       "0          1          0           1            1  2012  ...         1   \n",
       "1          1          0           1            1  2012  ...         1   \n",
       "2          1          0           1            1  2012  ...         1   \n",
       "3          1          0           1            1  2012  ...         1   \n",
       "4          1          0           1            1  2012  ...         1   \n",
       "\n",
       "   AKPRDDAY  AKPRDDT1 AKPRDDT2                        AKPRDDN AKFIREN  \\\n",
       "0         1     15:45      0.0  Mickey's Jingle Jungle Parade     0.0   \n",
       "1         1     15:45      0.0  Mickey's Jingle Jungle Parade     0.0   \n",
       "2         1     15:45      0.0  Mickey's Jingle Jungle Parade     0.0   \n",
       "3         1     15:45      0.0  Mickey's Jingle Jungle Parade     0.0   \n",
       "4         1     15:45      0.0  Mickey's Jingle Jungle Parade     0.0   \n",
       "\n",
       "  AKSHWNGT AKSHWNT1  AKSHWNT2  AKSHWNN  \n",
       "0        0        0         0        0  \n",
       "1        0        0         0        0  \n",
       "2        0        0         0        0  \n",
       "3        0        0         0        0  \n",
       "4        0        0         0        0  \n",
       "\n",
       "[5 rows x 193 columns]"
      ]
     },
     "execution_count": 6,
     "metadata": {},
     "output_type": "execute_result"
    }
   ],
   "source": [
    "#change NAs to 0 values\n",
    "meta_splash = meta_splash.fillna(0)\n",
    "#format date in a way that can be worked with\n",
    "meta_splash['date'] = pd.to_datetime(meta_splash['date'])\n",
    "meta_splash.head()"
   ]
  },
  {
   "cell_type": "code",
   "execution_count": 7,
   "metadata": {},
   "outputs": [],
   "source": [
    "#skip run due to crashing for now\n",
    "#meta_dwarfs = pd.merge(seven_dwarfs, meta, left_on=\"date\", right_on=\"DATE\").drop('DATE', axis = 1)\n",
    "#meta_pirates = pd.merge(pirates, meta, left_on=\"date\", right_on=\"DATE\").drop('DATE', axis = 1)"
   ]
  },
  {
   "cell_type": "code",
   "execution_count": 8,
   "metadata": {},
   "outputs": [],
   "source": [
    "#find all posted wait times by day in meta_splash\n",
    "sum_by_day = meta_splash.groupby('date')['SPOSTMIN'].mean()\n",
    "#reset index to create dataframe columns\n",
    "sum_by_day = sum_by_day.reset_index()\n",
    "sum_by_day = pd.DataFrame(sum_by_day,columns=['date','SPOSTMIN'])\n"
   ]
  },
  {
   "cell_type": "code",
   "execution_count": 9,
   "metadata": {
    "scrolled": true
   },
   "outputs": [
    {
     "data": {
      "text/html": [
       "<div>\n",
       "<style scoped>\n",
       "    .dataframe tbody tr th:only-of-type {\n",
       "        vertical-align: middle;\n",
       "    }\n",
       "\n",
       "    .dataframe tbody tr th {\n",
       "        vertical-align: top;\n",
       "    }\n",
       "\n",
       "    .dataframe thead th {\n",
       "        text-align: right;\n",
       "    }\n",
       "</style>\n",
       "<table border=\"1\" class=\"dataframe\">\n",
       "  <thead>\n",
       "    <tr style=\"text-align: right;\">\n",
       "      <th></th>\n",
       "      <th>date</th>\n",
       "      <th>SPOSTMIN</th>\n",
       "      <th>WDW_TICKET_SEASON</th>\n",
       "      <th>DAYOFWEEK</th>\n",
       "      <th>DAYOFYEAR</th>\n",
       "      <th>WEEKOFYEAR</th>\n",
       "      <th>MONTHOFYEAR</th>\n",
       "      <th>YEAR</th>\n",
       "      <th>SEASON</th>\n",
       "      <th>HOLIDAYPX</th>\n",
       "      <th>...</th>\n",
       "      <th>AKPRDDT1</th>\n",
       "      <th>AKPRDDT2</th>\n",
       "      <th>AKPRDDN</th>\n",
       "      <th>AKFIREN</th>\n",
       "      <th>AKSHWNGT</th>\n",
       "      <th>AKSHWNT1</th>\n",
       "      <th>AKSHWNT2</th>\n",
       "      <th>AKSHWNN</th>\n",
       "      <th>DAY</th>\n",
       "      <th>MONTH</th>\n",
       "    </tr>\n",
       "  </thead>\n",
       "  <tbody>\n",
       "    <tr>\n",
       "      <th>0</th>\n",
       "      <td>2012-01-01</td>\n",
       "      <td>37.727273</td>\n",
       "      <td>NaN</td>\n",
       "      <td>1</td>\n",
       "      <td>0</td>\n",
       "      <td>1</td>\n",
       "      <td>1</td>\n",
       "      <td>2012</td>\n",
       "      <td>CHRISTMAS PEAK</td>\n",
       "      <td>0</td>\n",
       "      <td>...</td>\n",
       "      <td>15:45</td>\n",
       "      <td>NaN</td>\n",
       "      <td>Mickey's Jingle Jungle Parade</td>\n",
       "      <td>NaN</td>\n",
       "      <td>0</td>\n",
       "      <td>NaN</td>\n",
       "      <td>NaN</td>\n",
       "      <td>NaN</td>\n",
       "      <td>Sunday</td>\n",
       "      <td>January</td>\n",
       "    </tr>\n",
       "    <tr>\n",
       "      <th>1</th>\n",
       "      <td>2012-01-02</td>\n",
       "      <td>43.750000</td>\n",
       "      <td>NaN</td>\n",
       "      <td>2</td>\n",
       "      <td>1</td>\n",
       "      <td>1</td>\n",
       "      <td>1</td>\n",
       "      <td>2012</td>\n",
       "      <td>CHRISTMAS</td>\n",
       "      <td>2</td>\n",
       "      <td>...</td>\n",
       "      <td>15:45</td>\n",
       "      <td>NaN</td>\n",
       "      <td>Mickey's Jingle Jungle Parade</td>\n",
       "      <td>NaN</td>\n",
       "      <td>0</td>\n",
       "      <td>NaN</td>\n",
       "      <td>NaN</td>\n",
       "      <td>NaN</td>\n",
       "      <td>Monday</td>\n",
       "      <td>January</td>\n",
       "    </tr>\n",
       "    <tr>\n",
       "      <th>2</th>\n",
       "      <td>2012-01-03</td>\n",
       "      <td>5.000000</td>\n",
       "      <td>NaN</td>\n",
       "      <td>3</td>\n",
       "      <td>2</td>\n",
       "      <td>1</td>\n",
       "      <td>1</td>\n",
       "      <td>2012</td>\n",
       "      <td>CHRISTMAS</td>\n",
       "      <td>3</td>\n",
       "      <td>...</td>\n",
       "      <td>15:45</td>\n",
       "      <td>NaN</td>\n",
       "      <td>Mickey's Jammin' Jungle Parade</td>\n",
       "      <td>NaN</td>\n",
       "      <td>0</td>\n",
       "      <td>NaN</td>\n",
       "      <td>NaN</td>\n",
       "      <td>NaN</td>\n",
       "      <td>Tuesday</td>\n",
       "      <td>January</td>\n",
       "    </tr>\n",
       "    <tr>\n",
       "      <th>3</th>\n",
       "      <td>2012-01-04</td>\n",
       "      <td>17.142857</td>\n",
       "      <td>NaN</td>\n",
       "      <td>4</td>\n",
       "      <td>3</td>\n",
       "      <td>1</td>\n",
       "      <td>1</td>\n",
       "      <td>2012</td>\n",
       "      <td>CHRISTMAS</td>\n",
       "      <td>4</td>\n",
       "      <td>...</td>\n",
       "      <td>15:45</td>\n",
       "      <td>NaN</td>\n",
       "      <td>Mickey's Jammin' Jungle Parade</td>\n",
       "      <td>NaN</td>\n",
       "      <td>0</td>\n",
       "      <td>NaN</td>\n",
       "      <td>NaN</td>\n",
       "      <td>NaN</td>\n",
       "      <td>Wednesday</td>\n",
       "      <td>January</td>\n",
       "    </tr>\n",
       "    <tr>\n",
       "      <th>4</th>\n",
       "      <td>2012-01-05</td>\n",
       "      <td>41.153846</td>\n",
       "      <td>NaN</td>\n",
       "      <td>5</td>\n",
       "      <td>4</td>\n",
       "      <td>1</td>\n",
       "      <td>1</td>\n",
       "      <td>2012</td>\n",
       "      <td>CHRISTMAS</td>\n",
       "      <td>5</td>\n",
       "      <td>...</td>\n",
       "      <td>15:45</td>\n",
       "      <td>NaN</td>\n",
       "      <td>Mickey's Jammin' Jungle Parade</td>\n",
       "      <td>NaN</td>\n",
       "      <td>0</td>\n",
       "      <td>NaN</td>\n",
       "      <td>NaN</td>\n",
       "      <td>NaN</td>\n",
       "      <td>Thursday</td>\n",
       "      <td>January</td>\n",
       "    </tr>\n",
       "  </tbody>\n",
       "</table>\n",
       "<p>5 rows × 193 columns</p>\n",
       "</div>"
      ],
      "text/plain": [
       "        date   SPOSTMIN WDW_TICKET_SEASON  DAYOFWEEK  DAYOFYEAR  WEEKOFYEAR  \\\n",
       "0 2012-01-01  37.727273               NaN          1          0           1   \n",
       "1 2012-01-02  43.750000               NaN          2          1           1   \n",
       "2 2012-01-03   5.000000               NaN          3          2           1   \n",
       "3 2012-01-04  17.142857               NaN          4          3           1   \n",
       "4 2012-01-05  41.153846               NaN          5          4           1   \n",
       "\n",
       "   MONTHOFYEAR  YEAR          SEASON  HOLIDAYPX  ...  AKPRDDT1 AKPRDDT2  \\\n",
       "0            1  2012  CHRISTMAS PEAK          0  ...     15:45      NaN   \n",
       "1            1  2012       CHRISTMAS          2  ...     15:45      NaN   \n",
       "2            1  2012       CHRISTMAS          3  ...     15:45      NaN   \n",
       "3            1  2012       CHRISTMAS          4  ...     15:45      NaN   \n",
       "4            1  2012       CHRISTMAS          5  ...     15:45      NaN   \n",
       "\n",
       "                          AKPRDDN AKFIREN AKSHWNGT AKSHWNT1  AKSHWNT2  \\\n",
       "0   Mickey's Jingle Jungle Parade     NaN        0      NaN       NaN   \n",
       "1   Mickey's Jingle Jungle Parade     NaN        0      NaN       NaN   \n",
       "2  Mickey's Jammin' Jungle Parade     NaN        0      NaN       NaN   \n",
       "3  Mickey's Jammin' Jungle Parade     NaN        0      NaN       NaN   \n",
       "4  Mickey's Jammin' Jungle Parade     NaN        0      NaN       NaN   \n",
       "\n",
       "   AKSHWNN        DAY    MONTH  \n",
       "0      NaN     Sunday  January  \n",
       "1      NaN     Monday  January  \n",
       "2      NaN    Tuesday  January  \n",
       "3      NaN  Wednesday  January  \n",
       "4      NaN   Thursday  January  \n",
       "\n",
       "[5 rows x 193 columns]"
      ]
     },
     "execution_count": 9,
     "metadata": {},
     "output_type": "execute_result"
    }
   ],
   "source": [
    "meta['DATE'] = pd.to_datetime(meta['DATE'])\n",
    "#merge back with original meta set for daily weighted averages\n",
    "meta_splash2 = pd.merge(sum_by_day, meta, left_on=\"date\", right_on=\"DATE\").drop('DATE', axis = 1)\n",
    "# change month and day to names of month and day ie: 1 to Sunday, 1 to January\n",
    "meta_splash2['DAY'] = meta_splash2['date'].dt.weekday_name #this changes to weekname\n",
    "meta_splash2['MONTH'] = meta_splash2['date'].dt.month_name() #this changes to month name\n",
    "meta_splash2.head()\n"
   ]
  },
  {
   "cell_type": "markdown",
   "metadata": {},
   "source": [
    "## Correlation between SPOSTMIN & Predictors"
   ]
  },
  {
   "cell_type": "code",
   "execution_count": 10,
   "metadata": {
    "scrolled": true
   },
   "outputs": [
    {
     "name": "stdout",
     "output_type": "stream",
     "text": [
      "There is 42 strongly correlated values with SPOSTMIN:\n",
      "SPOSTMIN              1.000000\n",
      "AKHOURSYEST           0.532307\n",
      "AKHOURS               0.531074\n",
      "AKHOURSEMH            0.530836\n",
      "AKHOURSTOM            0.526427\n",
      "AKHOURSEMHYEST        0.520594\n",
      "AKHOURSEMHTOM         0.506027\n",
      "MKHOURS               0.419589\n",
      "MKHOURSEMH            0.403368\n",
      "WDWMAXTEMP            0.380868\n",
      "HSHOURS               0.375347\n",
      "HSHOURSTOM            0.364362\n",
      "HSHOURSYEST           0.356237\n",
      "EP09CAPACITY          0.323179\n",
      "WDWMEANTEMP           0.320674\n",
      "HSFIREWK              0.301307\n",
      "YEAR                  0.297048\n",
      "HSHOURSEMHYEST        0.278263\n",
      "WEATHER_WDWPRECIP     0.271109\n",
      "HSHOURSEMHTOM         0.270584\n",
      "HSHOURSEMH            0.270417\n",
      "AKEMHETOM             0.266406\n",
      "AKEMHEVE              0.262796\n",
      "AKEMHEYEST            0.260835\n",
      "CapacityLost_HS       0.253429\n",
      "CapacityLostWGT_HS    0.250829\n",
      "WEATHER_WDWHIGH       0.250729\n",
      "WDWMINTEMP            0.249910\n",
      "CapacityLost_EP       0.219181\n",
      "MKHOURSTOM            0.215867\n",
      "HS20CAPACITY          0.215863\n",
      "CapacityLostWGT_EP    0.215356\n",
      "WDWMINTEMP_mean       0.212744\n",
      "CapacityLostWGT_MK    0.205153\n",
      "MKHOURSYEST           0.204618\n",
      "CapacityLost_MK       0.204517\n",
      "DAYOFYEAR            -0.235847\n",
      "WEEKOFYEAR           -0.237340\n",
      "MONTHOFYEAR          -0.239151\n",
      "MKevent              -0.294647\n",
      "MKEVENTSTREAK        -0.315389\n",
      "MKEVENTSTREAK_F      -0.316848\n",
      "Name: SPOSTMIN, dtype: float64\n"
     ]
    }
   ],
   "source": [
    "## Running same code on all of metasplash_2\n",
    "meta_splash2_corr = meta_splash2.corr()['SPOSTMIN'][:-2]\n",
    "golden_features_list_2 = meta_splash2_corr[abs(meta_splash2_corr) > 0.20].sort_values(ascending=False)\n",
    "print(\"There is {} strongly correlated values with SPOSTMIN:\\n{}\".format(len(golden_features_list_2), golden_features_list_2))"
   ]
  },
  {
   "cell_type": "markdown",
   "metadata": {},
   "source": [
    "## Distribution of Wait Times"
   ]
  },
  {
   "cell_type": "code",
   "execution_count": 11,
   "metadata": {
    "scrolled": false
   },
   "outputs": [
    {
     "name": "stdout",
     "output_type": "stream",
     "text": [
      "count    2381.000000\n",
      "mean       39.340985\n",
      "std        19.019614\n",
      "min         5.000000\n",
      "25%        25.100000\n",
      "50%        38.181818\n",
      "75%        51.393443\n",
      "max       135.000000\n",
      "Name: SPOSTMIN, dtype: float64\n"
     ]
    },
    {
     "data": {
      "image/png": "[encoded data removed]",
      "text/plain": [
       "<Figure size 432x288 with 1 Axes>"
      ]
     },
     "metadata": {
      "needs_background": "light"
     },
     "output_type": "display_data"
    }
   ],
   "source": [
    "# Printing Wait Times Distribution after averaging wait time per day\n",
    "\n",
    "print(meta_splash2['SPOSTMIN'].describe())\n",
    "sns.distplot(meta_splash2['SPOSTMIN'], color='g', bins=100, hist_kws={'alpha': 0.4});"
   ]
  },
  {
   "cell_type": "code",
   "execution_count": 12,
   "metadata": {},
   "outputs": [
    {
     "name": "stdout",
     "output_type": "stream",
     "text": [
      "count    2381.000000\n",
      "mean       39.340985\n",
      "std        19.019614\n",
      "min         5.000000\n",
      "25%        25.100000\n",
      "50%        38.181818\n",
      "75%        51.393443\n",
      "max       135.000000\n",
      "Name: SPOSTMIN, dtype: float64\n"
     ]
    },
    {
     "data": {
      "image/png": "[encoded data removed]",
      "text/plain": [
       "<Figure size 432x288 with 1 Axes>"
      ]
     },
     "metadata": {
      "needs_background": "light"
     },
     "output_type": "display_data"
    }
   ],
   "source": [
    "# Printing Wait Times\n",
    "\n",
    "print(meta_splash2['SPOSTMIN'].describe())\n",
    "sns.distplot(meta_splash2['SPOSTMIN'], color='g', bins=100, hist_kws={'alpha': 0.4});"
   ]
  },
  {
   "cell_type": "markdown",
   "metadata": {},
   "source": [
    "## Average Wait Time Per Month for Splash Mountain Ride\n",
    "\n"
   ]
  },
  {
   "cell_type": "code",
   "execution_count": 13,
   "metadata": {
    "scrolled": true
   },
   "outputs": [
    {
     "data": {
      "text/plain": [
       "Text(0.5, 1.0, 'Splash Mountain Heatmap Month & Year')"
      ]
     },
     "execution_count": 13,
     "metadata": {},
     "output_type": "execute_result"
    },
    {
     "data": {
      "image/png": "[encoded data removed]",
      "text/plain": [
       "<Figure size 432x288 with 2 Axes>"
      ]
     },
     "metadata": {
      "needs_background": "light"
     },
     "output_type": "display_data"
    }
   ],
   "source": [
    "# Grouping by month and year\n",
    "\n",
    "#aggregate by month\n",
    "month_splash2 = meta_splash2.groupby(['MONTHOFYEAR', 'YEAR'])['SPOSTMIN'].mean().reset_index()\n",
    "month_splash2 = month_splash2.pivot(\"MONTHOFYEAR\", \"YEAR\", \"SPOSTMIN\").iloc[:,0:7] # Position based indexing\n",
    "month_splash2 = month_splash2.rename(index= {1: \"January\", 2:\"February\", 3:\"March\", 4:\"April\", 5:\"May\", 6:\"June\", 7:\"July\", 8:\"August\", 9:\"September\", 10:\"October\", 11:\"November\", 12:\"December\"} )\n",
    "\n",
    "ax = sns.heatmap(month_splash2, cmap=\"YlGnBu\")\n",
    "ax.set_title('Splash Mountain Heatmap Month & Year')\n"
   ]
  },
  {
   "cell_type": "markdown",
   "metadata": {},
   "source": [
    "White indicates when Magic Mountain was shut down for refurbishment"
   ]
  },
  {
   "cell_type": "code",
   "execution_count": 14,
   "metadata": {
    "scrolled": true
   },
   "outputs": [
    {
     "data": {
      "text/plain": [
       "(array([ 0,  1,  2,  3,  4,  5,  6,  7,  8,  9, 10, 11]),\n",
       " <a list of 12 Text xticklabel objects>)"
      ]
     },
     "execution_count": 14,
     "metadata": {},
     "output_type": "execute_result"
    },
    {
     "data": {
      "image/png": "[encoded data removed]",
      "text/plain": [
       "<Figure size 432x288 with 1 Axes>"
      ]
     },
     "metadata": {
      "needs_background": "light"
     },
     "output_type": "display_data"
    }
   ],
   "source": [
    "#aggregate by month\n",
    "month_splash2 = meta_splash2.groupby(['MONTH'])['SPOSTMIN'].mean()\n",
    "month_splash2 = month_splash2.reset_index()\n",
    "\n",
    "\n",
    "ax = sns.barplot(x=\"MONTH\", y = \"SPOSTMIN\", data = month_splash2)\n",
    "ax.set(xlabel = 'Month', ylabel = 'Average Wait Time (Minutes)', title = 'Average Wait Time at Splash Mountain')\n",
    "plt.xticks(rotation = 45)\n"
   ]
  },
  {
   "cell_type": "markdown",
   "metadata": {},
   "source": [
    "We see that on average wait times are the longest during peak summer months of July, June\n"
   ]
  },
  {
   "cell_type": "code",
   "execution_count": 15,
   "metadata": {
    "scrolled": true
   },
   "outputs": [
    {
     "data": {
      "text/plain": [
       "MONTH          July\n",
       "SPOSTMIN    52.7566\n",
       "Name: 5, dtype: object"
      ]
     },
     "execution_count": 15,
     "metadata": {},
     "output_type": "execute_result"
    }
   ],
   "source": [
    "month_splash2.loc[month_splash2['SPOSTMIN'].idxmax()] #Row with max index"
   ]
  },
  {
   "cell_type": "markdown",
   "metadata": {},
   "source": [
    "The month of July has the longest wait time on average. Let's take a closer look of the Month of July!"
   ]
  },
  {
   "cell_type": "code",
   "execution_count": 16,
   "metadata": {},
   "outputs": [],
   "source": [
    "# Select July Only\n",
    "july = meta_splash2[meta_splash2['MONTH'] == \"July\"]\n"
   ]
  },
  {
   "cell_type": "code",
   "execution_count": 17,
   "metadata": {},
   "outputs": [],
   "source": [
    "## Dropping Useless Columns with >30% NA values\n",
    "\n",
    "#july2 = july[[column for column in july if july[column].count() / len(july) >= 0.3]]\n",
    "#print(\"List of dropped columns:\", end=\" \")\n",
    "#for c in july.columns:\n",
    "   # if c not in july2.columns:\n",
    "       # print(c, end=\", \")\n",
    "#print('\\n')\n",
    "#july = july2\n"
   ]
  },
  {
   "cell_type": "code",
   "execution_count": 18,
   "metadata": {},
   "outputs": [
    {
     "data": {
      "text/plain": [
       "179    NaN\n",
       "182    ind\n",
       "Name: HOLIDAYN, dtype: object"
      ]
     },
     "execution_count": 18,
     "metadata": {},
     "output_type": "execute_result"
    }
   ],
   "source": [
    "# How many Holidays in July?\n",
    "july['HOLIDAYN'].drop_duplicates()\n"
   ]
  },
  {
   "cell_type": "markdown",
   "metadata": {},
   "source": [
    "Just one holiday in July, Indepdence Day. Lets look at hourly data on July 4th, Indepenence day!"
   ]
  },
  {
   "cell_type": "code",
   "execution_count": 19,
   "metadata": {},
   "outputs": [
    {
     "data": {
      "text/html": [
       "<div>\n",
       "<style scoped>\n",
       "    .dataframe tbody tr th:only-of-type {\n",
       "        vertical-align: middle;\n",
       "    }\n",
       "\n",
       "    .dataframe tbody tr th {\n",
       "        vertical-align: top;\n",
       "    }\n",
       "\n",
       "    .dataframe thead th {\n",
       "        text-align: right;\n",
       "    }\n",
       "</style>\n",
       "<table border=\"1\" class=\"dataframe\">\n",
       "  <thead>\n",
       "    <tr style=\"text-align: right;\">\n",
       "      <th></th>\n",
       "      <th>date</th>\n",
       "      <th>SPOSTMIN</th>\n",
       "      <th>WDW_TICKET_SEASON</th>\n",
       "      <th>DAYOFWEEK</th>\n",
       "      <th>DAYOFYEAR</th>\n",
       "      <th>WEEKOFYEAR</th>\n",
       "      <th>MONTHOFYEAR</th>\n",
       "      <th>YEAR</th>\n",
       "      <th>SEASON</th>\n",
       "      <th>HOLIDAYPX</th>\n",
       "      <th>...</th>\n",
       "      <th>AKPRDDT1</th>\n",
       "      <th>AKPRDDT2</th>\n",
       "      <th>AKPRDDN</th>\n",
       "      <th>AKFIREN</th>\n",
       "      <th>AKSHWNGT</th>\n",
       "      <th>AKSHWNT1</th>\n",
       "      <th>AKSHWNT2</th>\n",
       "      <th>AKSHWNN</th>\n",
       "      <th>DAY</th>\n",
       "      <th>MONTH</th>\n",
       "    </tr>\n",
       "  </thead>\n",
       "  <tbody>\n",
       "    <tr>\n",
       "      <th>179</th>\n",
       "      <td>2012-07-01</td>\n",
       "      <td>26.111111</td>\n",
       "      <td>NaN</td>\n",
       "      <td>1</td>\n",
       "      <td>182</td>\n",
       "      <td>27</td>\n",
       "      <td>7</td>\n",
       "      <td>2012</td>\n",
       "      <td>SUMMER BREAK</td>\n",
       "      <td>4</td>\n",
       "      <td>...</td>\n",
       "      <td>15:45</td>\n",
       "      <td>NaN</td>\n",
       "      <td>Mickey's Jammin' Jungle Parade</td>\n",
       "      <td>NaN</td>\n",
       "      <td>0</td>\n",
       "      <td>NaN</td>\n",
       "      <td>NaN</td>\n",
       "      <td>NaN</td>\n",
       "      <td>Sunday</td>\n",
       "      <td>July</td>\n",
       "    </tr>\n",
       "    <tr>\n",
       "      <th>180</th>\n",
       "      <td>2012-07-02</td>\n",
       "      <td>30.833333</td>\n",
       "      <td>NaN</td>\n",
       "      <td>2</td>\n",
       "      <td>183</td>\n",
       "      <td>27</td>\n",
       "      <td>7</td>\n",
       "      <td>2012</td>\n",
       "      <td>JULY 4TH</td>\n",
       "      <td>3</td>\n",
       "      <td>...</td>\n",
       "      <td>15:45</td>\n",
       "      <td>NaN</td>\n",
       "      <td>Mickey's Jammin' Jungle Parade</td>\n",
       "      <td>NaN</td>\n",
       "      <td>0</td>\n",
       "      <td>NaN</td>\n",
       "      <td>NaN</td>\n",
       "      <td>NaN</td>\n",
       "      <td>Monday</td>\n",
       "      <td>July</td>\n",
       "    </tr>\n",
       "    <tr>\n",
       "      <th>181</th>\n",
       "      <td>2012-07-03</td>\n",
       "      <td>36.666667</td>\n",
       "      <td>NaN</td>\n",
       "      <td>3</td>\n",
       "      <td>184</td>\n",
       "      <td>27</td>\n",
       "      <td>7</td>\n",
       "      <td>2012</td>\n",
       "      <td>JULY 4TH</td>\n",
       "      <td>2</td>\n",
       "      <td>...</td>\n",
       "      <td>15:45</td>\n",
       "      <td>NaN</td>\n",
       "      <td>Mickey's Jammin' Jungle Parade</td>\n",
       "      <td>NaN</td>\n",
       "      <td>0</td>\n",
       "      <td>NaN</td>\n",
       "      <td>NaN</td>\n",
       "      <td>NaN</td>\n",
       "      <td>Tuesday</td>\n",
       "      <td>July</td>\n",
       "    </tr>\n",
       "    <tr>\n",
       "      <th>182</th>\n",
       "      <td>2012-07-04</td>\n",
       "      <td>78.571429</td>\n",
       "      <td>NaN</td>\n",
       "      <td>4</td>\n",
       "      <td>185</td>\n",
       "      <td>27</td>\n",
       "      <td>7</td>\n",
       "      <td>2012</td>\n",
       "      <td>JULY 4TH</td>\n",
       "      <td>0</td>\n",
       "      <td>...</td>\n",
       "      <td>15:45</td>\n",
       "      <td>NaN</td>\n",
       "      <td>Mickey's Jammin' Jungle Parade</td>\n",
       "      <td>NaN</td>\n",
       "      <td>0</td>\n",
       "      <td>NaN</td>\n",
       "      <td>NaN</td>\n",
       "      <td>NaN</td>\n",
       "      <td>Wednesday</td>\n",
       "      <td>July</td>\n",
       "    </tr>\n",
       "    <tr>\n",
       "      <th>183</th>\n",
       "      <td>2012-07-05</td>\n",
       "      <td>61.666667</td>\n",
       "      <td>NaN</td>\n",
       "      <td>5</td>\n",
       "      <td>186</td>\n",
       "      <td>27</td>\n",
       "      <td>7</td>\n",
       "      <td>2012</td>\n",
       "      <td>JULY 4TH</td>\n",
       "      <td>2</td>\n",
       "      <td>...</td>\n",
       "      <td>15:45</td>\n",
       "      <td>NaN</td>\n",
       "      <td>Mickey's Jammin' Jungle Parade</td>\n",
       "      <td>NaN</td>\n",
       "      <td>0</td>\n",
       "      <td>NaN</td>\n",
       "      <td>NaN</td>\n",
       "      <td>NaN</td>\n",
       "      <td>Thursday</td>\n",
       "      <td>July</td>\n",
       "    </tr>\n",
       "  </tbody>\n",
       "</table>\n",
       "<p>5 rows × 193 columns</p>\n",
       "</div>"
      ],
      "text/plain": [
       "          date   SPOSTMIN WDW_TICKET_SEASON  DAYOFWEEK  DAYOFYEAR  WEEKOFYEAR  \\\n",
       "179 2012-07-01  26.111111               NaN          1        182          27   \n",
       "180 2012-07-02  30.833333               NaN          2        183          27   \n",
       "181 2012-07-03  36.666667               NaN          3        184          27   \n",
       "182 2012-07-04  78.571429               NaN          4        185          27   \n",
       "183 2012-07-05  61.666667               NaN          5        186          27   \n",
       "\n",
       "     MONTHOFYEAR  YEAR        SEASON  HOLIDAYPX  ...  AKPRDDT1 AKPRDDT2  \\\n",
       "179            7  2012  SUMMER BREAK          4  ...     15:45      NaN   \n",
       "180            7  2012      JULY 4TH          3  ...     15:45      NaN   \n",
       "181            7  2012      JULY 4TH          2  ...     15:45      NaN   \n",
       "182            7  2012      JULY 4TH          0  ...     15:45      NaN   \n",
       "183            7  2012      JULY 4TH          2  ...     15:45      NaN   \n",
       "\n",
       "                            AKPRDDN AKFIREN AKSHWNGT AKSHWNT1  AKSHWNT2  \\\n",
       "179  Mickey's Jammin' Jungle Parade     NaN        0      NaN       NaN   \n",
       "180  Mickey's Jammin' Jungle Parade     NaN        0      NaN       NaN   \n",
       "181  Mickey's Jammin' Jungle Parade     NaN        0      NaN       NaN   \n",
       "182  Mickey's Jammin' Jungle Parade     NaN        0      NaN       NaN   \n",
       "183  Mickey's Jammin' Jungle Parade     NaN        0      NaN       NaN   \n",
       "\n",
       "     AKSHWNN        DAY  MONTH  \n",
       "179      NaN     Sunday   July  \n",
       "180      NaN     Monday   July  \n",
       "181      NaN    Tuesday   July  \n",
       "182      NaN  Wednesday   July  \n",
       "183      NaN   Thursday   July  \n",
       "\n",
       "[5 rows x 193 columns]"
      ]
     },
     "execution_count": 19,
     "metadata": {},
     "output_type": "execute_result"
    }
   ],
   "source": [
    "july.head()"
   ]
  },
  {
   "cell_type": "code",
   "execution_count": 20,
   "metadata": {},
   "outputs": [
    {
     "name": "stdout",
     "output_type": "stream",
     "text": [
      "There is 30 strongly correlated values with SPOSTMIN:\n",
      "SPOSTMIN               1.000000\n",
      "AKHOURSEMHYEST         0.489772\n",
      "AKHOURSEMH             0.481589\n",
      "HS20CAPACITY           0.460062\n",
      "EP09CAPACITY           0.460062\n",
      "AKHOURS                0.448709\n",
      "AKHOURSYEST            0.446837\n",
      "AKHOURSTOM             0.422477\n",
      "AKHOURSEMHTOM          0.419154\n",
      "YEAR                   0.391934\n",
      "AKEMHETOM              0.386998\n",
      "AKEMHEVE               0.386998\n",
      "AKEMHEYEST             0.386998\n",
      "CapacityLost_HS        0.365344\n",
      "CapacityLostWGT_HS     0.360991\n",
      "CapacityLost_EP        0.297201\n",
      "CapacityLostWGT_EP     0.291402\n",
      "MKDAYSSINCENONEVENT    0.285491\n",
      "CapacityLostWGT_MK     0.253546\n",
      "CapacityLost_MK        0.252166\n",
      "HOLIDAY                0.225863\n",
      "EPEMHMTOM              0.213546\n",
      "EPHOURSEMHTOM          0.212326\n",
      "MKPRDDAY               0.209673\n",
      "AKEMHMTOM             -0.214564\n",
      "MKHOURSEMHTOM         -0.222764\n",
      "HSEMHEYEST            -0.229170\n",
      "MKHOURSTOM            -0.274775\n",
      "HSSHWNGT              -0.295154\n",
      "MKPRDNGT              -0.484051\n",
      "Name: SPOSTMIN, dtype: float64\n"
     ]
    }
   ],
   "source": [
    "## Finding Strongly Correlated Variables in July\n",
    "july_corr = july.corr()['SPOSTMIN'][:-2] # -1 because the latest row is spostmin\n",
    "golden_features_list = july_corr[abs(july_corr) > 0.2].sort_values(ascending=False)\n",
    "print(\"There is {} strongly correlated values with SPOSTMIN:\\n{}\".format(len(golden_features_list), golden_features_list))"
   ]
  },
  {
   "cell_type": "code",
   "execution_count": 21,
   "metadata": {},
   "outputs": [
    {
     "data": {
      "text/plain": [
       "91.62420382165605"
      ]
     },
     "execution_count": 21,
     "metadata": {},
     "output_type": "execute_result"
    }
   ],
   "source": [
    "# Longest Wait Time in July 4th of 2017\n",
    "july.loc[july['SPOSTMIN'].idxmax(), 'SPOSTMIN']"
   ]
  },
  {
   "cell_type": "markdown",
   "metadata": {},
   "source": [
    "Longest average wait time in July ever recorded was in July 4th, 2017."
   ]
  },
  {
   "cell_type": "markdown",
   "metadata": {},
   "source": [
    "## Average Wait Time Per Day From 2012-2019 For Splash Mountain"
   ]
  },
  {
   "cell_type": "code",
   "execution_count": 22,
   "metadata": {
    "scrolled": true
   },
   "outputs": [
    {
     "data": {
      "text/html": [
       "<div>\n",
       "<style scoped>\n",
       "    .dataframe tbody tr th:only-of-type {\n",
       "        vertical-align: middle;\n",
       "    }\n",
       "\n",
       "    .dataframe tbody tr th {\n",
       "        vertical-align: top;\n",
       "    }\n",
       "\n",
       "    .dataframe thead th {\n",
       "        text-align: right;\n",
       "    }\n",
       "</style>\n",
       "<table border=\"1\" class=\"dataframe\">\n",
       "  <thead>\n",
       "    <tr style=\"text-align: right;\">\n",
       "      <th></th>\n",
       "      <th>DAYOFWEEK</th>\n",
       "      <th>SPOSTMIN</th>\n",
       "    </tr>\n",
       "  </thead>\n",
       "  <tbody>\n",
       "    <tr>\n",
       "      <th>0</th>\n",
       "      <td>1</td>\n",
       "      <td>34.889497</td>\n",
       "    </tr>\n",
       "    <tr>\n",
       "      <th>1</th>\n",
       "      <td>2</td>\n",
       "      <td>42.694696</td>\n",
       "    </tr>\n",
       "    <tr>\n",
       "      <th>2</th>\n",
       "      <td>3</td>\n",
       "      <td>38.837722</td>\n",
       "    </tr>\n",
       "    <tr>\n",
       "      <th>3</th>\n",
       "      <td>4</td>\n",
       "      <td>41.806511</td>\n",
       "    </tr>\n",
       "    <tr>\n",
       "      <th>4</th>\n",
       "      <td>5</td>\n",
       "      <td>39.864147</td>\n",
       "    </tr>\n",
       "    <tr>\n",
       "      <th>5</th>\n",
       "      <td>6</td>\n",
       "      <td>37.761023</td>\n",
       "    </tr>\n",
       "    <tr>\n",
       "      <th>6</th>\n",
       "      <td>7</td>\n",
       "      <td>39.598304</td>\n",
       "    </tr>\n",
       "  </tbody>\n",
       "</table>\n",
       "</div>"
      ],
      "text/plain": [
       "   DAYOFWEEK   SPOSTMIN\n",
       "0          1  34.889497\n",
       "1          2  42.694696\n",
       "2          3  38.837722\n",
       "3          4  41.806511\n",
       "4          5  39.864147\n",
       "5          6  37.761023\n",
       "6          7  39.598304"
      ]
     },
     "execution_count": 22,
     "metadata": {},
     "output_type": "execute_result"
    },
    {
     "data": {
      "image/png": "[encoded data removed]",
      "text/plain": [
       "<Figure size 432x288 with 1 Axes>"
      ]
     },
     "metadata": {
      "needs_background": "light"
     },
     "output_type": "display_data"
    }
   ],
   "source": [
    "day_splash2 = meta_splash2.groupby('DAYOFWEEK')['SPOSTMIN'].mean()\n",
    "day_splash2 = day_splash2.reset_index()\n",
    "\n",
    "ax = sns.barplot(x=\"DAYOFWEEK\", y = \"SPOSTMIN\", data = day_splash2)\n",
    "\n",
    "# lEARN HOW TO CHANGE INDEXNAME/ ROW NAME\n",
    "ax.set(xlabel = 'Day of Week', ylabel = 'Average Wait Time (Minutes)', title = 'Average Wait Time at Splash Mountain')\n",
    "plt.xticks(rotation = 45)\n",
    "\n",
    "day_splash2"
   ]
  },
  {
   "cell_type": "code",
   "execution_count": 23,
   "metadata": {},
   "outputs": [
    {
     "data": {
      "text/plain": [
       "Text(0.5, 1.0, 'Splash Mountain Heatmap Month & Day')"
      ]
     },
     "execution_count": 23,
     "metadata": {},
     "output_type": "execute_result"
    },
    {
     "data": {
      "image/png": "[encoded data removed]",
      "text/plain": [
       "<Figure size 432x288 with 2 Axes>"
      ]
     },
     "metadata": {
      "needs_background": "light"
     },
     "output_type": "display_data"
    }
   ],
   "source": [
    "#Grouping by weekdays and year\n",
    "#aggregate by weekday\n",
    "day_splash2 = meta_splash2.groupby(['DAYOFWEEK', 'YEAR'])['SPOSTMIN'].mean().reset_index()\n",
    "day_splash2 = day_splash2.pivot(\"DAYOFWEEK\", \"YEAR\", \"SPOSTMIN\").iloc[:,0:7] # Position based indexing\n",
    "\n",
    "# Changing Month Number to Name\n",
    "day_splash2 = day_splash2.rename(index= {1: \"Monday\", 2:\"Tuesday\", 3:\"Wednesday\", 4:\"Thursday\", 5:\"Friday\", 6:\"Saturday\", 7:\"Sunday\"} )\n",
    "ax = sns.heatmap(day_splash2, cmap=\"YlGnBu\")\n",
    "\n",
    "\n",
    "ax.set_title('Splash Mountain Heatmap Month & Day')"
   ]
  },
  {
   "cell_type": "markdown",
   "metadata": {},
   "source": [
    "# Linear Regression on Splash Mountain Meta\n"
   ]
  },
  {
   "cell_type": "code",
   "execution_count": 24,
   "metadata": {},
   "outputs": [],
   "source": [
    "import numpy\n",
    "import matplotlib.pyplot as plot\n",
    "import pandas\n",
    "from sklearn.model_selection import train_test_split\n",
    "from sklearn.linear_model import LinearRegression \n",
    "from sklearn.model_selection import KFold\n",
    "from sklearn import metrics\n",
    "%matplotlib inline\n"
   ]
  },
  {
   "cell_type": "code",
   "execution_count": 25,
   "metadata": {},
   "outputs": [
    {
     "name": "stdout",
     "output_type": "stream",
     "text": [
      "There is 42 strongly correlated values with SPOSTMIN:\n",
      "SPOSTMIN              1.000000\n",
      "AKHOURSYEST           0.532307\n",
      "AKHOURS               0.531074\n",
      "AKHOURSEMH            0.530836\n",
      "AKHOURSTOM            0.526427\n",
      "AKHOURSEMHYEST        0.520594\n",
      "AKHOURSEMHTOM         0.506027\n",
      "MKHOURS               0.419589\n",
      "MKHOURSEMH            0.403368\n",
      "WDWMAXTEMP            0.380868\n",
      "HSHOURS               0.375347\n",
      "HSHOURSTOM            0.364362\n",
      "HSHOURSYEST           0.356237\n",
      "EP09CAPACITY          0.323179\n",
      "WDWMEANTEMP           0.320674\n",
      "HSFIREWK              0.301307\n",
      "YEAR                  0.297048\n",
      "HSHOURSEMHYEST        0.278263\n",
      "WEATHER_WDWPRECIP     0.271109\n",
      "HSHOURSEMHTOM         0.270584\n",
      "HSHOURSEMH            0.270417\n",
      "AKEMHETOM             0.266406\n",
      "AKEMHEVE              0.262796\n",
      "AKEMHEYEST            0.260835\n",
      "CapacityLost_HS       0.253429\n",
      "CapacityLostWGT_HS    0.250829\n",
      "WEATHER_WDWHIGH       0.250729\n",
      "WDWMINTEMP            0.249910\n",
      "CapacityLost_EP       0.219181\n",
      "MKHOURSTOM            0.215867\n",
      "HS20CAPACITY          0.215863\n",
      "CapacityLostWGT_EP    0.215356\n",
      "WDWMINTEMP_mean       0.212744\n",
      "CapacityLostWGT_MK    0.205153\n",
      "MKHOURSYEST           0.204618\n",
      "CapacityLost_MK       0.204517\n",
      "DAYOFYEAR            -0.235847\n",
      "WEEKOFYEAR           -0.237340\n",
      "MONTHOFYEAR          -0.239151\n",
      "MKevent              -0.294647\n",
      "MKEVENTSTREAK        -0.315389\n",
      "MKEVENTSTREAK_F      -0.316848\n",
      "Name: SPOSTMIN, dtype: float64\n"
     ]
    }
   ],
   "source": [
    "# Finding Correlated Features\n",
    "meta_splash2_corr = meta_splash2.corr()['SPOSTMIN'][:-2]\n",
    "golden_features_list_2 = meta_splash2_corr[abs(meta_splash2_corr) > 0.20].sort_values(ascending=False)\n",
    "print(\"There is {} strongly correlated values with SPOSTMIN:\\n{}\".format(len(golden_features_list_2), golden_features_list_2))"
   ]
  },
  {
   "cell_type": "code",
   "execution_count": 26,
   "metadata": {},
   "outputs": [],
   "source": [
    "golden_list_2 = golden_features_list_2.to_frame()\n",
    "golden_list_2 = golden_list_2.reset_index()\n",
    "golden_list_2 # = pd.DataFrame(golden_list,columns=['VARIABLES','SPOSTMIN'])\n",
    "golden_list_2 = golden_list_2.iloc[:,0]\n",
    "golden_list_2 = golden_list_2.tolist()\n",
    "golden_list_2.remove('SPOSTMIN')\n"
   ]
  },
  {
   "cell_type": "code",
   "execution_count": 56,
   "metadata": {},
   "outputs": [],
   "source": [
    "# Splitting Dataset between dependent & independent variables\n",
    "x = meta_splash2[golden_list_2]\n",
    "y = meta_splash2['SPOSTMIN']\n",
    "\n",
    "#75% training & 25% testing\n",
    "x_train, x_test, y_train, y_test = train_test_split(x,y, test_size = 0.25)\n",
    "\n"
   ]
  },
  {
   "cell_type": "code",
   "execution_count": 28,
   "metadata": {},
   "outputs": [
    {
     "name": "stdout",
     "output_type": "stream",
     "text": [
      "Number of observations: 2381\n",
      "Number of predictors: 41\n"
     ]
    }
   ],
   "source": [
    "print('Number of observations:', x.shape[0])\n",
    "print('Number of predictors:', x.shape[1])\n"
   ]
  },
  {
   "cell_type": "code",
   "execution_count": 55,
   "metadata": {},
   "outputs": [
    {
     "ename": "ValueError",
     "evalue": "Input contains NaN, infinity or a value too large for dtype('float64').",
     "output_type": "error",
     "traceback": [
      "\u001b[0;31m---------------------------------------------------------------------------\u001b[0m",
      "\u001b[0;31mValueError\u001b[0m                                Traceback (most recent call last)",
      "\u001b[0;32m<ipython-input-55-a426f43cacb6>\u001b[0m in \u001b[0;36m<module>\u001b[0;34m\u001b[0m\n\u001b[1;32m      2\u001b[0m \u001b[0;34m\u001b[0m\u001b[0m\n\u001b[1;32m      3\u001b[0m \u001b[0mlm\u001b[0m \u001b[0;34m=\u001b[0m \u001b[0mLinearRegression\u001b[0m\u001b[0;34m(\u001b[0m\u001b[0;34m)\u001b[0m\u001b[0;34m\u001b[0m\u001b[0;34m\u001b[0m\u001b[0m\n\u001b[0;32m----> 4\u001b[0;31m \u001b[0mlm\u001b[0m\u001b[0;34m.\u001b[0m\u001b[0mfit\u001b[0m\u001b[0;34m(\u001b[0m\u001b[0mx_train\u001b[0m\u001b[0;34m,\u001b[0m \u001b[0my_train\u001b[0m\u001b[0;34m)\u001b[0m\u001b[0;34m\u001b[0m\u001b[0;34m\u001b[0m\u001b[0m\n\u001b[0m",
      "\u001b[0;32m/opt/conda/lib/python3.6/site-packages/sklearn/linear_model/base.py\u001b[0m in \u001b[0;36mfit\u001b[0;34m(self, X, y, sample_weight)\u001b[0m\n\u001b[1;32m    456\u001b[0m         \u001b[0mn_jobs_\u001b[0m \u001b[0;34m=\u001b[0m \u001b[0mself\u001b[0m\u001b[0;34m.\u001b[0m\u001b[0mn_jobs\u001b[0m\u001b[0;34m\u001b[0m\u001b[0;34m\u001b[0m\u001b[0m\n\u001b[1;32m    457\u001b[0m         X, y = check_X_y(X, y, accept_sparse=['csr', 'csc', 'coo'],\n\u001b[0;32m--> 458\u001b[0;31m                          y_numeric=True, multi_output=True)\n\u001b[0m\u001b[1;32m    459\u001b[0m \u001b[0;34m\u001b[0m\u001b[0m\n\u001b[1;32m    460\u001b[0m         \u001b[0;32mif\u001b[0m \u001b[0msample_weight\u001b[0m \u001b[0;32mis\u001b[0m \u001b[0;32mnot\u001b[0m \u001b[0;32mNone\u001b[0m \u001b[0;32mand\u001b[0m \u001b[0mnp\u001b[0m\u001b[0;34m.\u001b[0m\u001b[0matleast_1d\u001b[0m\u001b[0;34m(\u001b[0m\u001b[0msample_weight\u001b[0m\u001b[0;34m)\u001b[0m\u001b[0;34m.\u001b[0m\u001b[0mndim\u001b[0m \u001b[0;34m>\u001b[0m \u001b[0;36m1\u001b[0m\u001b[0;34m:\u001b[0m\u001b[0;34m\u001b[0m\u001b[0;34m\u001b[0m\u001b[0m\n",
      "\u001b[0;32m/opt/conda/lib/python3.6/site-packages/sklearn/utils/validation.py\u001b[0m in \u001b[0;36mcheck_X_y\u001b[0;34m(X, y, accept_sparse, accept_large_sparse, dtype, order, copy, force_all_finite, ensure_2d, allow_nd, multi_output, ensure_min_samples, ensure_min_features, y_numeric, warn_on_dtype, estimator)\u001b[0m\n\u001b[1;32m    754\u001b[0m                     \u001b[0mensure_min_features\u001b[0m\u001b[0;34m=\u001b[0m\u001b[0mensure_min_features\u001b[0m\u001b[0;34m,\u001b[0m\u001b[0;34m\u001b[0m\u001b[0;34m\u001b[0m\u001b[0m\n\u001b[1;32m    755\u001b[0m                     \u001b[0mwarn_on_dtype\u001b[0m\u001b[0;34m=\u001b[0m\u001b[0mwarn_on_dtype\u001b[0m\u001b[0;34m,\u001b[0m\u001b[0;34m\u001b[0m\u001b[0;34m\u001b[0m\u001b[0m\n\u001b[0;32m--> 756\u001b[0;31m                     estimator=estimator)\n\u001b[0m\u001b[1;32m    757\u001b[0m     \u001b[0;32mif\u001b[0m \u001b[0mmulti_output\u001b[0m\u001b[0;34m:\u001b[0m\u001b[0;34m\u001b[0m\u001b[0;34m\u001b[0m\u001b[0m\n\u001b[1;32m    758\u001b[0m         y = check_array(y, 'csr', force_all_finite=True, ensure_2d=False,\n",
      "\u001b[0;32m/opt/conda/lib/python3.6/site-packages/sklearn/utils/validation.py\u001b[0m in \u001b[0;36mcheck_array\u001b[0;34m(array, accept_sparse, accept_large_sparse, dtype, order, copy, force_all_finite, ensure_2d, allow_nd, ensure_min_samples, ensure_min_features, warn_on_dtype, estimator)\u001b[0m\n\u001b[1;32m    571\u001b[0m         \u001b[0;32mif\u001b[0m \u001b[0mforce_all_finite\u001b[0m\u001b[0;34m:\u001b[0m\u001b[0;34m\u001b[0m\u001b[0;34m\u001b[0m\u001b[0m\n\u001b[1;32m    572\u001b[0m             _assert_all_finite(array,\n\u001b[0;32m--> 573\u001b[0;31m                                allow_nan=force_all_finite == 'allow-nan')\n\u001b[0m\u001b[1;32m    574\u001b[0m \u001b[0;34m\u001b[0m\u001b[0m\n\u001b[1;32m    575\u001b[0m     \u001b[0mshape_repr\u001b[0m \u001b[0;34m=\u001b[0m \u001b[0m_shape_repr\u001b[0m\u001b[0;34m(\u001b[0m\u001b[0marray\u001b[0m\u001b[0;34m.\u001b[0m\u001b[0mshape\u001b[0m\u001b[0;34m)\u001b[0m\u001b[0;34m\u001b[0m\u001b[0;34m\u001b[0m\u001b[0m\n",
      "\u001b[0;32m/opt/conda/lib/python3.6/site-packages/sklearn/utils/validation.py\u001b[0m in \u001b[0;36m_assert_all_finite\u001b[0;34m(X, allow_nan)\u001b[0m\n\u001b[1;32m     54\u001b[0m                 not allow_nan and not np.isfinite(X).all()):\n\u001b[1;32m     55\u001b[0m             \u001b[0mtype_err\u001b[0m \u001b[0;34m=\u001b[0m \u001b[0;34m'infinity'\u001b[0m \u001b[0;32mif\u001b[0m \u001b[0mallow_nan\u001b[0m \u001b[0;32melse\u001b[0m \u001b[0;34m'NaN, infinity'\u001b[0m\u001b[0;34m\u001b[0m\u001b[0;34m\u001b[0m\u001b[0m\n\u001b[0;32m---> 56\u001b[0;31m             \u001b[0;32mraise\u001b[0m \u001b[0mValueError\u001b[0m\u001b[0;34m(\u001b[0m\u001b[0mmsg_err\u001b[0m\u001b[0;34m.\u001b[0m\u001b[0mformat\u001b[0m\u001b[0;34m(\u001b[0m\u001b[0mtype_err\u001b[0m\u001b[0;34m,\u001b[0m \u001b[0mX\u001b[0m\u001b[0;34m.\u001b[0m\u001b[0mdtype\u001b[0m\u001b[0;34m)\u001b[0m\u001b[0;34m)\u001b[0m\u001b[0;34m\u001b[0m\u001b[0;34m\u001b[0m\u001b[0m\n\u001b[0m\u001b[1;32m     57\u001b[0m \u001b[0;34m\u001b[0m\u001b[0m\n\u001b[1;32m     58\u001b[0m \u001b[0;34m\u001b[0m\u001b[0m\n",
      "\u001b[0;31mValueError\u001b[0m: Input contains NaN, infinity or a value too large for dtype('float64')."
     ]
    }
   ],
   "source": [
    "from sklearn.linear_model import LinearRegression\n",
    "\n",
    "lm = LinearRegression()\n",
    "lm.fit(x_train, y_train)"
   ]
  },
  {
   "cell_type": "code",
   "execution_count": null,
   "metadata": {},
   "outputs": [],
   "source": []
  }
 ],
 "metadata": {
  "kernelspec": {
   "display_name": "Python 3",
   "language": "python",
   "name": "python3"
  },
  "language_info": {
   "codemirror_mode": {
    "name": "ipython",
    "version": 3
   },
   "file_extension": ".py",
   "mimetype": "text/x-python",
   "name": "python",
   "nbconvert_exporter": "python",
   "pygments_lexer": "ipython3",
   "version": "3.6.7"
  }
 },
 "nbformat": 4,
 "nbformat_minor": 2
}
