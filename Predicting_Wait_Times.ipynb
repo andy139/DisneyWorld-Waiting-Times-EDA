{
 "cells": [
  {
   "cell_type": "markdown",
   "metadata": {},
   "source": [
    "# Predictive Modeling\n"
   ]
  },
  {
   "cell_type": "markdown",
   "metadata": {},
   "source": [
    "## Merging, cleaning datasets"
   ]
  },
  {
   "cell_type": "code",
   "execution_count": 1,
   "metadata": {},
   "outputs": [],
   "source": [
    "#import libraries\n",
    "import numpy as np\n",
    "import matplotlib.pyplot as plt\n",
    "import pandas as pd\n",
    "import seaborn as sns\n",
    "from sklearn.model_selection import train_test_split\n",
    "from sklearn.linear_model import LinearRegression \n",
    "from sklearn.model_selection import KFold\n",
    "from sklearn import metrics\n",
    "%matplotlib inline"
   ]
  },
  {
   "cell_type": "code",
   "execution_count": 2,
   "metadata": {},
   "outputs": [],
   "source": [
    "#import meta data\n",
    "meta = pd.read_csv(\"disney.csv\")\n",
    "\n",
    "#import magic kingdom rides (wait times)\n",
    "splash = pd.read_csv(\"splash_mountain.csv\")\n",
    "seven_dwarfs = pd.read_csv(\"7_dwarfs_train.csv\")\n",
    "pirates = pd.read_csv('pirates_of_caribbean.csv')"
   ]
  },
  {
   "cell_type": "code",
   "execution_count": 3,
   "metadata": {},
   "outputs": [],
   "source": [
    "# Dropping sactmin from magic world rides, then dropping NaN from spostmin\n",
    "# Drop rows where wait time is not available (-999)\n",
    "pirates = pirates[pirates.SPOSTMIN > 0]\n",
    "seven_dwarfs = seven_dwarfs[seven_dwarfs.SPOSTMIN > 0]\n",
    "splash = splash[splash.SPOSTMIN > 0]"
   ]
  },
  {
   "cell_type": "code",
   "execution_count": 4,
   "metadata": {},
   "outputs": [],
   "source": [
    "#merging splash with meta_data, using date as key\n",
    "meta_splash = pd.merge(splash, meta, left_on=\"date\", right_on=\"DATE\").drop('DATE', axis = 1)\n",
    "\n",
    "#change NAs to 0 values\n",
    "meta_splash = meta_splash.fillna(0)\n",
    "#format date in a way that can be worked with\n",
    "meta_splash['date'] = pd.to_datetime(meta_splash['date'])"
   ]
  },
  {
   "cell_type": "code",
   "execution_count": 5,
   "metadata": {},
   "outputs": [],
   "source": [
    "#avg of posted wait times by day in meta_splash\n",
    "sum_by_day = meta_splash.groupby('date')['SPOSTMIN'].mean()\n",
    "#reset index to create dataframe columns\n",
    "sum_by_day = sum_by_day.reset_index()\n",
    "sum_by_day = pd.DataFrame(sum_by_day,columns=['date','SPOSTMIN'])"
   ]
  },
  {
   "cell_type": "code",
   "execution_count": 6,
   "metadata": {},
   "outputs": [],
   "source": [
    "meta['DATE'] = pd.to_datetime(meta['DATE'])\n",
    "#merge back with original meta set for daily weighted averages\n",
    "meta_splash2 = pd.merge(sum_by_day, meta, left_on=\"date\", right_on=\"DATE\").drop('DATE', axis = 1)\n",
    "meta_splash2.head(n = 3)\n",
    "#fill na for new meta splash data\n",
    "meta_splash2 = meta_splash2.fillna(0)"
   ]
  },
  {
   "cell_type": "code",
   "execution_count": 7,
   "metadata": {},
   "outputs": [],
   "source": [
    "\n",
    "import numpy\n",
    "import matplotlib.pyplot as plot\n",
    "import pandas\n",
    "from sklearn.model_selection import train_test_split\n",
    "from sklearn.linear_model import LinearRegression"
   ]
  },
  {
   "cell_type": "markdown",
   "metadata": {},
   "source": [
    "# Data preprocessing for modeling"
   ]
  },
  {
   "cell_type": "code",
   "execution_count": 8,
   "metadata": {},
   "outputs": [
    {
     "name": "stdout",
     "output_type": "stream",
     "text": [
      "There is 42 strongly correlated values with SPOSTMIN:\n",
      "SPOSTMIN              1.000000\n",
      "AKHOURSYEST           0.532307\n",
      "AKHOURS               0.531074\n",
      "AKHOURSEMH            0.530836\n",
      "AKHOURSTOM            0.526427\n",
      "AKHOURSEMHYEST        0.520594\n",
      "AKHOURSEMHTOM         0.506027\n",
      "MKHOURS               0.419589\n",
      "MKHOURSEMH            0.403368\n",
      "HSHOURS               0.375347\n",
      "HSHOURSTOM            0.364362\n",
      "HSHOURSYEST           0.356237\n",
      "WDWMAXTEMP            0.334935\n",
      "EP09CAPACITY          0.323179\n",
      "HSFIREWK              0.301307\n",
      "YEAR                  0.297048\n",
      "WDWMEANTEMP           0.284476\n",
      "HSHOURSEMHYEST        0.278263\n",
      "WEATHER_WDWPRECIP     0.271109\n",
      "HSHOURSEMHTOM         0.270584\n",
      "HSHOURSEMH            0.270417\n",
      "AKEMHETOM             0.266406\n",
      "AKEMHEVE              0.262796\n",
      "AKEMHEYEST            0.260835\n",
      "CapacityLost_HS       0.253429\n",
      "CapacityLostWGT_HS    0.250829\n",
      "WEATHER_WDWHIGH       0.250729\n",
      "WDWMINTEMP            0.228848\n",
      "CapacityLost_EP       0.219181\n",
      "MKHOURSTOM            0.215867\n",
      "HS20CAPACITY          0.215863\n",
      "CapacityLostWGT_EP    0.215356\n",
      "WDWMINTEMP_mean       0.212744\n",
      "CapacityLostWGT_MK    0.205153\n",
      "MKHOURSYEST           0.204618\n",
      "CapacityLost_MK       0.204517\n",
      "DAYOFYEAR            -0.235847\n",
      "WEEKOFYEAR           -0.237340\n",
      "MONTHOFYEAR          -0.239151\n",
      "MKevent              -0.294647\n",
      "MKEVENTSTREAK        -0.313447\n",
      "MKEVENTSTREAK_F      -0.314338\n",
      "Name: SPOSTMIN, dtype: float64\n"
     ]
    }
   ],
   "source": [
    "# Finding Correlated Features\n",
    "meta_splash2_corr = meta_splash2.corr()['SPOSTMIN'][:-2]\n",
    "golden_features_list_2 = meta_splash2_corr[abs(meta_splash2_corr) > 0.20].sort_values(ascending=False)\n",
    "print(\"There is {} strongly correlated values with SPOSTMIN:\\n{}\".format(len(golden_features_list_2), golden_features_list_2))"
   ]
  },
  {
   "cell_type": "code",
   "execution_count": 9,
   "metadata": {},
   "outputs": [],
   "source": [
    "golden_list_2 = golden_features_list_2.to_frame()\n",
    "golden_list_2 = golden_list_2.reset_index()\n",
    "golden_list_2 # = pd.DataFrame(golden_list,columns=['VARIABLES','SPOSTMIN'])\n",
    "golden_list_2 = golden_list_2.iloc[:,0]\n",
    "golden_list_2 = golden_list_2.tolist()\n",
    "golden_list_2.remove('SPOSTMIN')"
   ]
  },
  {
   "cell_type": "markdown",
   "metadata": {},
   "source": [
    "We will use these 41 highly correlated features for modeling."
   ]
  },
  {
   "cell_type": "code",
   "execution_count": 10,
   "metadata": {
    "scrolled": true
   },
   "outputs": [],
   "source": [
    "np.random.seed(5)\n",
    "\n",
    "# Splitting Dataset between dependent & independent variables\n",
    "x = meta_splash2[golden_list_2]\n",
    "y = meta_splash2['SPOSTMIN']\n",
    "\n",
    "#75% training & 25% testing\n",
    "x_train, x_test, y_train, y_test = train_test_split(x,y, test_size = 0.25)"
   ]
  },
  {
   "cell_type": "code",
   "execution_count": 11,
   "metadata": {},
   "outputs": [
    {
     "name": "stdout",
     "output_type": "stream",
     "text": [
      "Number of observations: 2381\n",
      "Number of predictors: 41\n"
     ]
    }
   ],
   "source": [
    "print('Number of observations:', x.shape[0])\n",
    "print('Number of predictors:', x.shape[1])\n"
   ]
  },
  {
   "cell_type": "markdown",
   "metadata": {},
   "source": [
    "## Linear Regression"
   ]
  },
  {
   "cell_type": "code",
   "execution_count": 12,
   "metadata": {},
   "outputs": [],
   "source": [
    "from sklearn.linear_model import LinearRegression\n",
    "lm = LinearRegression()\n",
    "model = lm.fit(x_train, y_train)\n",
    "# Make Prediction on test set\n",
    "y_predlm= lm.predict(x_test)\n"
   ]
  },
  {
   "cell_type": "code",
   "execution_count": 13,
   "metadata": {},
   "outputs": [
    {
     "name": "stdout",
     "output_type": "stream",
     "text": [
<<<<<<< HEAD
      "Mean Absolute Error: 0.2819824670049207\n",
      "Mean Squared Error: 0.14229757957031058\n",
      "Root Mean Squared Error: 0.3772235140739646\n",
      "Mean Absolute Percentage Deviation: 91.82 %\n"
=======
      "Mean Absolute Error: 9.965585942777999\n",
      "Mean Squared Error: 170.65445570163266\n",
      "Root Mean Squared Error: 13.063477932833685\n",
      "Accuracy: 64.7 %\n"
>>>>>>> 5b29547f7ecbb0beff2e19106cf22f3fcc05e490
     ]
    }
   ],
   "source": [
    "from sklearn import metrics\n",
    "\n",
    "print('Mean Absolute Error:', metrics.mean_absolute_error(y_test, y_predlm))  \n",
    "print('Mean Squared Error:', metrics.mean_squared_error(y_test, y_predlm))  \n",
    "print('Root Mean Squared Error:', np.sqrt(metrics.mean_squared_error(y_test, y_predlm)))\n",
    "\n",
    "# Caculating Error\n",
    "errors = round(metrics.mean_absolute_error(y_test, y_predlm),2)\n",
    "#mean Absolute Percentage Error\n",
    "mape = 100 * (errors / y_test)\n",
    "acc_linear = (100 - np.mean(mape)).round(2,)\n",
    "print('Mean Absolute Percentage Deviation:', round(acc_linear, 2), '%')\n"
   ]
  },
  {
   "cell_type": "markdown",
   "metadata": {},
   "source": [
    "## Ridge Regression\n"
   ]
  },
  {
   "cell_type": "code",
   "execution_count": 14,
   "metadata": {},
   "outputs": [],
   "source": [
    "from sklearn.linear_model import Ridge"
   ]
  },
  {
   "cell_type": "code",
   "execution_count": 15,
   "metadata": {},
   "outputs": [],
   "source": [
    "## training the model\n",
    "ridgeReg = Ridge(alpha=0.05, normalize=True)\n",
    "ridgeReg.fit(x_train,y_train)\n",
    "y_pred_ridge = ridgeReg.predict(x_test)"
   ]
  },
  {
   "cell_type": "code",
   "execution_count": 16,
   "metadata": {},
   "outputs": [
    {
     "name": "stdout",
     "output_type": "stream",
     "text": [
      "Mean Absolute Error: 10.126385909105558\n",
      "Mean Squared Error: 178.56584339267795\n",
      "Root Mean Squared Error: 13.362853115733854\n",
      "Accuracy: 64.13 %\n"
     ]
    }
   ],
   "source": [
    "print('Mean Absolute Error:', metrics.mean_absolute_error(y_test, y_pred_ridge))  \n",
    "print('Mean Squared Error:', metrics.mean_squared_error(y_test, y_pred_ridge))  \n",
    "print('Root Mean Squared Error:', np.sqrt(metrics.mean_squared_error(y_test, y_pred_ridge)))\n",
    "\n",
    "\n",
    "# Caculating Error\n",
    "errors = round(metrics.mean_absolute_error(y_test, y_pred_ridge),2)\n",
    "#mean Absolute Percentage Error\n",
    "mape = 100 * (errors / y_test)\n",
    "acc_ridge = (100 - np.mean(mape)).round(2,)\n",
    "print('Accuracy:', round(acc_ridge, 2), '%')\n"
   ]
  },
  {
   "cell_type": "markdown",
   "metadata": {},
   "source": [
    "## Lasso Regression"
   ]
  },
  {
   "cell_type": "code",
   "execution_count": 17,
   "metadata": {},
   "outputs": [],
   "source": [
    "from sklearn.linear_model import Lasso"
   ]
  },
  {
   "cell_type": "code",
   "execution_count": 18,
   "metadata": {},
   "outputs": [],
   "source": [
    "# Training Lasso Model\n",
    "lassoReg = Lasso(alpha=0.3, normalize=True)\n",
    "lassoReg.fit(x_train,y_train)\n",
    "y_pred_lasso = lassoReg.predict(x_test)"
   ]
  },
  {
   "cell_type": "code",
   "execution_count": 19,
   "metadata": {
    "scrolled": true
   },
   "outputs": [
    {
     "name": "stdout",
     "output_type": "stream",
     "text": [
<<<<<<< HEAD
      "Mean Absolute Error: 0.4731872458793982\n",
      "Mean Squared Error: 0.357531222024162\n",
      "Root Mean Squared Error: 0.5979391457532798\n",
      "Mean Absolute Percentage Deviation: 86.28 %.\n"
=======
      "Mean Absolute Error: 15.987855150183163\n",
      "Mean Squared Error: 396.4923382452551\n",
      "Root Mean Squared Error: 19.91211536339761\n",
      "Accuracy: 43.38 %.\n"
>>>>>>> 5b29547f7ecbb0beff2e19106cf22f3fcc05e490
     ]
    }
   ],
   "source": [
    "print('Mean Absolute Error:', metrics.mean_absolute_error(y_test, y_pred_lasso))  \n",
    "print('Mean Squared Error:', metrics.mean_squared_error(y_test, y_pred_lasso))  \n",
    "print('Root Mean Squared Error:', np.sqrt(metrics.mean_squared_error(y_test, y_pred_lasso)))\n",
    "\n",
    "errors = round(metrics.mean_absolute_error(y_test, y_pred_lasso),2)\n",
    "#Mean Absolute Percentage Error\n",
    "mape = 100 * (errors / y_test)\n",
    "acc_lasso = (100 - np.mean(mape)).round(2,)\n",
    "print('Mean Absolute Percentage Deviation:', round(acc_lasso, 2), '%.')\n",
    "\n"
   ]
  },
  {
   "cell_type": "markdown",
   "metadata": {},
   "source": [
    "## Elastic Net Regression"
   ]
  },
  {
   "cell_type": "code",
   "execution_count": 20,
   "metadata": {},
   "outputs": [],
   "source": [
    "from sklearn.linear_model import ElasticNet"
   ]
  },
  {
   "cell_type": "code",
   "execution_count": 21,
   "metadata": {},
   "outputs": [
    {
     "name": "stderr",
     "output_type": "stream",
     "text": [
      "/opt/conda/lib/python3.6/site-packages/sklearn/linear_model/coordinate_descent.py:492: ConvergenceWarning: Objective did not converge. You might want to increase the number of iterations. Fitting data with very small alpha may cause precision problems.\n",
      "  ConvergenceWarning)\n"
     ]
    }
   ],
   "source": [
    "# Training Elastic Net Regression Model\n",
    "ENreg = ElasticNet(alpha=1, l1_ratio=0.5, normalize=False)\n",
    "ENreg.fit(x_train,y_train)\n",
    "y_pred_en = ENreg.predict(x_test)"
   ]
  },
  {
   "cell_type": "code",
   "execution_count": 22,
   "metadata": {},
   "outputs": [
    {
     "name": "stdout",
     "output_type": "stream",
     "text": [
<<<<<<< HEAD
      "Mean Absolute Error: 0.36541802067759316\n",
      "Mean Squared Error: 0.23152371413701534\n",
      "Root Mean Squared Error: 0.48116911178609056\n",
      "Mean Absolute Percentage Deviation: 89.2 %.\n"
=======
      "Mean Absolute Error: 10.155983563651139\n",
      "Mean Squared Error: 182.4544121195068\n",
      "Root Mean Squared Error: 13.507568697567553\n",
      "Accuracy: 64.03 %.\n"
>>>>>>> 5b29547f7ecbb0beff2e19106cf22f3fcc05e490
     ]
    }
   ],
   "source": [
    "print('Mean Absolute Error:', metrics.mean_absolute_error(y_test, y_pred_en))  \n",
    "print('Mean Squared Error:', metrics.mean_squared_error(y_test, y_pred_en))  \n",
    "print('Root Mean Squared Error:', np.sqrt(metrics.mean_squared_error(y_test, y_pred_en)))\n",
    "\n",
    "errors = round(metrics.mean_absolute_error(y_test, y_pred_en),2)\n",
    "#Mean Absolute Percentage Error\n",
    "mape = 100 * (errors / y_test)\n",
    "acc_en = (100 - np.mean(mape)).round(2,)\n",
    "print('Mean Absolute Percentage Deviation:', round(acc_en, 2), '%.')"
   ]
  },
  {
   "cell_type": "markdown",
   "metadata": {},
   "source": [
    "Out of all three OLS techniques, Linear Regression was the best in terms of relative MSE and MSE."
   ]
  },
  {
   "cell_type": "markdown",
   "metadata": {},
   "source": [
    "# Let's see if an ensemble method would work better!"
   ]
  },
  {
   "cell_type": "markdown",
   "metadata": {},
   "source": [
    "## Random Forest"
   ]
  },
  {
   "cell_type": "code",
   "execution_count": 23,
   "metadata": {},
   "outputs": [],
   "source": [
    "from sklearn.ensemble import RandomForestRegressor\n",
    "from sklearn.metrics import classification_report\n",
    "\n",
    "#Create a Gaussian Classifier\n",
    "rf = RandomForestRegressor(n_estimators = 100)\n",
    "#train the model using the traing set\n",
    "dt = rf.fit(x_train,y_train)\n",
    "y_pred_rf = rf.predict(x_test)"
   ]
  },
  {
   "cell_type": "code",
   "execution_count": 24,
   "metadata": {},
   "outputs": [
    {
     "name": "stdout",
     "output_type": "stream",
     "text": [
<<<<<<< HEAD
      "Mean Absolute Error: 0.22124819412523797\n",
      "Mean Squared Error: 0.09392833825225533\n",
      "Root Mean Squared Error: 0.30647730462834494\n",
      "Mean Absolute Percentage Deviation: 93.58 %.\n"
=======
      "Mean Absolute Error: 7.849161115276884\n",
      "Mean Squared Error: 111.27652864221493\n",
      "Root Mean Squared Error: 10.548769058151521\n",
      "Accuracy: 72.21 %.\n"
>>>>>>> 5b29547f7ecbb0beff2e19106cf22f3fcc05e490
     ]
    }
   ],
   "source": [
    "from sklearn import metrics\n",
    "\n",
    "print('Mean Absolute Error:', metrics.mean_absolute_error(y_test, y_pred_rf))  \n",
    "print('Mean Squared Error:', metrics.mean_squared_error(y_test, y_pred_rf))  \n",
    "print('Root Mean Squared Error:', np.sqrt(metrics.mean_squared_error(y_test, y_pred_rf)))\n",
    "\n",
    "errors = round(metrics.mean_absolute_error(y_test, y_pred_rf),2)\n",
    "#Mean Absolute Percentage Error\n",
    "mape = 100 * (errors / y_test)\n",
    "acc_rf = (100 - np.mean(mape)).round(2,)\n",
    "print('Mean Absolute Percentage Deviation:', round(acc_rf, 2), '%.')"
   ]
  },
  {
   "cell_type": "markdown",
   "metadata": {},
   "source": [
    "Wow! Our random forest model does significantly better than any of our OLS modeling methods."
   ]
  },
  {
   "cell_type": "markdown",
   "metadata": {},
   "source": [
    "# Predicting Summer Months\n"
   ]
  },
  {
   "cell_type": "markdown",
   "metadata": {},
   "source": [
    "## Ridge Regression"
   ]
  },
  {
   "cell_type": "code",
   "execution_count": 42,
   "metadata": {},
   "outputs": [],
   "source": [
    "# Subsetting only summer months\n",
    "\n",
    "summer_df = meta_splash2[(meta_splash2.MONTHOFYEAR == 5) | (meta_splash2.MONTHOFYEAR == 6)|\n",
    "                        (meta_splash2.MONTHOFYEAR == 7)|(meta_splash2.MONTHOFYEAR == 8)|\n",
    "                        (meta_splash2.MONTHOFYEAR == 9)]\n",
    "summer2018_df = summer_df[summer_df.YEAR == 2018]\n",
    "summer2018_df\n",
    "actual_time = summer2018_df.iloc[:,0:2]\n",
    "actual_time.index = range(153)\n",
    "summer2018_dates = summer2018_df.iloc[:,0:1]"
   ]
  },
  {
   "cell_type": "code",
   "execution_count": 43,
   "metadata": {},
   "outputs": [],
   "source": [
    "#Test rf on summer 2018\n",
    "predict_time_df = summer2018_df[golden_list_2]\n",
    "predict_time_df\n",
    "\n",
    "## training the model\n",
    "ridgeReg = Ridge(alpha=0.05, normalize=True)\n",
    "ridgeReg.fit(x_train,y_train)\n",
    "y_pred_df = ridgeReg.predict(predict_time_df)\n",
    "\n"
   ]
  },
  {
   "cell_type": "code",
   "execution_count": 44,
   "metadata": {},
   "outputs": [
    {
     "data": {
      "text/html": [
       "<div>\n",
       "<style scoped>\n",
       "    .dataframe tbody tr th:only-of-type {\n",
       "        vertical-align: middle;\n",
       "    }\n",
       "\n",
       "    .dataframe tbody tr th {\n",
       "        vertical-align: top;\n",
       "    }\n",
       "\n",
       "    .dataframe thead th {\n",
       "        text-align: right;\n",
       "    }\n",
       "</style>\n",
       "<table border=\"1\" class=\"dataframe\">\n",
       "  <thead>\n",
       "    <tr style=\"text-align: right;\">\n",
       "      <th></th>\n",
       "      <th>Date</th>\n",
       "      <th>Actual_Time</th>\n",
       "      <th>Predicted_Time</th>\n",
       "    </tr>\n",
       "  </thead>\n",
       "  <tbody>\n",
       "    <tr>\n",
       "      <th>0</th>\n",
       "      <td>2018-05-01</td>\n",
       "      <td>37.875000</td>\n",
       "      <td>7.806327e+21</td>\n",
       "    </tr>\n",
       "    <tr>\n",
       "      <th>1</th>\n",
       "      <td>2018-05-02</td>\n",
       "      <td>45.781250</td>\n",
       "      <td>6.826406e+23</td>\n",
       "    </tr>\n",
       "    <tr>\n",
       "      <th>2</th>\n",
       "      <td>2018-05-03</td>\n",
       "      <td>38.911290</td>\n",
       "      <td>1.977070e+23</td>\n",
       "    </tr>\n",
       "    <tr>\n",
       "      <th>3</th>\n",
       "      <td>2018-05-04</td>\n",
       "      <td>60.344828</td>\n",
       "      <td>2.877135e+25</td>\n",
       "    </tr>\n",
       "    <tr>\n",
       "      <th>4</th>\n",
       "      <td>2018-05-05</td>\n",
       "      <td>38.885135</td>\n",
       "      <td>1.186472e+25</td>\n",
       "    </tr>\n",
       "    <tr>\n",
       "      <th>5</th>\n",
       "      <td>2018-05-06</td>\n",
       "      <td>30.538462</td>\n",
       "      <td>1.006974e+22</td>\n",
       "    </tr>\n",
       "    <tr>\n",
       "      <th>6</th>\n",
       "      <td>2018-05-07</td>\n",
       "      <td>72.830189</td>\n",
       "      <td>8.430301e+25</td>\n",
       "    </tr>\n",
       "    <tr>\n",
       "      <th>7</th>\n",
       "      <td>2018-05-08</td>\n",
       "      <td>52.552083</td>\n",
       "      <td>5.971290e+22</td>\n",
       "    </tr>\n",
       "    <tr>\n",
       "      <th>8</th>\n",
       "      <td>2018-05-09</td>\n",
       "      <td>18.000000</td>\n",
       "      <td>4.262642e+24</td>\n",
       "    </tr>\n",
       "    <tr>\n",
       "      <th>9</th>\n",
       "      <td>2018-05-10</td>\n",
       "      <td>41.666667</td>\n",
       "      <td>1.851190e+24</td>\n",
       "    </tr>\n",
       "  </tbody>\n",
       "</table>\n",
       "</div>"
      ],
      "text/plain": [
       "        Date  Actual_Time  Predicted_Time\n",
       "0 2018-05-01    37.875000    7.806327e+21\n",
       "1 2018-05-02    45.781250    6.826406e+23\n",
       "2 2018-05-03    38.911290    1.977070e+23\n",
       "3 2018-05-04    60.344828    2.877135e+25\n",
       "4 2018-05-05    38.885135    1.186472e+25\n",
       "5 2018-05-06    30.538462    1.006974e+22\n",
       "6 2018-05-07    72.830189    8.430301e+25\n",
       "7 2018-05-08    52.552083    5.971290e+22\n",
       "8 2018-05-09    18.000000    4.262642e+24\n",
       "9 2018-05-10    41.666667    1.851190e+24"
      ]
     },
     "execution_count": 44,
     "metadata": {},
     "output_type": "execute_result"
    }
   ],
   "source": [
    "#ax = sns.lineplot(comparison_df.Date,comparison_df.Actual_Time)\n",
    "#ax = sns.scatterplot(comparison_df.Date,comparison_df.Predicted_Time,palette)\n",
    "\n",
    "ridge_pred_df = pd.DataFrame(y_pred_df)\n",
    "ridge_pred_df.head(n = 6)\n",
    "\n",
    "ridge_comparison_df = pd.concat([actual_time,ridge_pred_df],\n",
    "                              axis = 1)\n",
    "ridge_comparison_df = ridge_comparison_df.rename({'date':'Date',\n",
    "                                     'SPOSTMIN':'Actual_Time',\n",
    "                                     0:'Predicted_Time'}, axis = 1)\n",
    "ridge_comparison_df.Predicted_Time = np.exp(ridge_comparison_df.Predicted_Time)\n",
    "ridge_comparison_df.head(n = 10)"
   ]
  },
  {
   "cell_type": "code",
   "execution_count": 45,
   "metadata": {},
   "outputs": [
    {
     "data": {
<<<<<<< HEAD
      "image/png": "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\n",
=======
      "image/png": "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\n",
>>>>>>> 5b29547f7ecbb0beff2e19106cf22f3fcc05e490
      "text/plain": [
       "<Figure size 432x288 with 1 Axes>"
      ]
     },
     "metadata": {
      "needs_background": "light"
     },
     "output_type": "display_data"
    }
   ],
   "source": [
    "#ax = sns.lineplot(comparison_df.Date,comparison_df.Actual_Time)\n",
    "#ax = sns.scatterplot(comparison_df.Date,comparison_df.Predicted_Time,palette)\n",
    "\n",
    "plt.plot(ridge_comparison_df.Date, ridge_comparison_df.Predicted_Time,'b-', label = 'prediction')\n",
    "\n",
    "plt.plot(ridge_comparison_df.Date, ridge_comparison_df.Actual_Time,'ro', label = 'actual',\n",
    "        markersize = 3)\n",
    "\n",
    "plt.xticks(rotation = '60'); \n",
    "plt.legend()\n",
    "\n",
    "# Graph labels\n",
    "plt.xlabel('Date'); plt.ylabel('Average Wait Time'); plt.title('Actual and Predicted Wait Times');\n"
   ]
  },
  {
   "cell_type": "markdown",
   "metadata": {},
   "source": [
    "## Random Forest"
   ]
  },
  {
   "cell_type": "code",
   "execution_count": 46,
   "metadata": {},
   "outputs": [],
   "source": [
    "# Subsetting only summer months\n",
    "\n",
    "summer_df = meta_splash2[(meta_splash2.MONTHOFYEAR == 5) | (meta_splash2.MONTHOFYEAR == 6)|\n",
    "                        (meta_splash2.MONTHOFYEAR == 7)|(meta_splash2.MONTHOFYEAR == 8)|\n",
    "                        (meta_splash2.MONTHOFYEAR == 9)]\n",
    "summer2018_df = summer_df[summer_df.YEAR == 2018]\n",
    "summer2018_df\n",
    "actual_time = summer2018_df.iloc[:,0:2]\n",
    "actual_time.index = range(153)\n",
    "summer2018_dates = summer2018_df.iloc[:,0:1]"
   ]
  },
  {
   "cell_type": "code",
   "execution_count": 47,
   "metadata": {},
   "outputs": [],
   "source": [
    "#Test rf on summer 2018\n",
    "predict_time_df = summer2018_df[golden_list_2]\n",
    "predict_time_df\n",
    "\n",
    "#Create a Gaussian Classifier\n",
    "rf = RandomForestRegressor(n_estimators = 100)\n",
    "\n",
    "#train the model using the traing set\n",
    "rf.fit(x_train,y_train)\n",
    "\n",
    "predicted_time = rf.predict(predict_time_df)"
   ]
  },
  {
   "cell_type": "code",
   "execution_count": 48,
   "metadata": {},
   "outputs": [
    {
     "data": {
      "text/html": [
       "<div>\n",
       "<style scoped>\n",
       "    .dataframe tbody tr th:only-of-type {\n",
       "        vertical-align: middle;\n",
       "    }\n",
       "\n",
       "    .dataframe tbody tr th {\n",
       "        vertical-align: top;\n",
       "    }\n",
       "\n",
       "    .dataframe thead th {\n",
       "        text-align: right;\n",
       "    }\n",
       "</style>\n",
       "<table border=\"1\" class=\"dataframe\">\n",
       "  <thead>\n",
       "    <tr style=\"text-align: right;\">\n",
       "      <th></th>\n",
       "      <th>Date</th>\n",
       "      <th>Actual_Time</th>\n",
       "      <th>Predicted_Time</th>\n",
       "    </tr>\n",
       "  </thead>\n",
       "  <tbody>\n",
       "    <tr>\n",
       "      <th>0</th>\n",
       "      <td>2018-05-01</td>\n",
       "      <td>37.875000</td>\n",
<<<<<<< HEAD
       "      <td>40.015185</td>\n",
=======
       "      <td>2.652427e+17</td>\n",
>>>>>>> 5b29547f7ecbb0beff2e19106cf22f3fcc05e490
       "    </tr>\n",
       "    <tr>\n",
       "      <th>1</th>\n",
       "      <td>2018-05-02</td>\n",
       "      <td>45.781250</td>\n",
<<<<<<< HEAD
       "      <td>45.419793</td>\n",
=======
       "      <td>1.049049e+20</td>\n",
>>>>>>> 5b29547f7ecbb0beff2e19106cf22f3fcc05e490
       "    </tr>\n",
       "    <tr>\n",
       "      <th>2</th>\n",
       "      <td>2018-05-03</td>\n",
       "      <td>38.911290</td>\n",
<<<<<<< HEAD
       "      <td>40.504313</td>\n",
=======
       "      <td>3.741001e+17</td>\n",
>>>>>>> 5b29547f7ecbb0beff2e19106cf22f3fcc05e490
       "    </tr>\n",
       "    <tr>\n",
       "      <th>3</th>\n",
       "      <td>2018-05-04</td>\n",
       "      <td>60.344828</td>\n",
<<<<<<< HEAD
       "      <td>54.282944</td>\n",
=======
       "      <td>4.626780e+25</td>\n",
>>>>>>> 5b29547f7ecbb0beff2e19106cf22f3fcc05e490
       "    </tr>\n",
       "    <tr>\n",
       "      <th>4</th>\n",
       "      <td>2018-05-05</td>\n",
       "      <td>38.885135</td>\n",
<<<<<<< HEAD
       "      <td>48.664372</td>\n",
=======
       "      <td>1.080128e+25</td>\n",
>>>>>>> 5b29547f7ecbb0beff2e19106cf22f3fcc05e490
       "    </tr>\n",
       "    <tr>\n",
       "      <th>5</th>\n",
       "      <td>2018-05-06</td>\n",
       "      <td>30.538462</td>\n",
<<<<<<< HEAD
       "      <td>31.562009</td>\n",
=======
       "      <td>1.681682e+14</td>\n",
>>>>>>> 5b29547f7ecbb0beff2e19106cf22f3fcc05e490
       "    </tr>\n",
       "    <tr>\n",
       "      <th>6</th>\n",
       "      <td>2018-05-07</td>\n",
       "      <td>72.830189</td>\n",
<<<<<<< HEAD
       "      <td>41.979798</td>\n",
=======
       "      <td>2.441052e+21</td>\n",
>>>>>>> 5b29547f7ecbb0beff2e19106cf22f3fcc05e490
       "    </tr>\n",
       "    <tr>\n",
       "      <th>7</th>\n",
       "      <td>2018-05-08</td>\n",
       "      <td>52.552083</td>\n",
<<<<<<< HEAD
       "      <td>34.682164</td>\n",
=======
       "      <td>1.177580e+16</td>\n",
>>>>>>> 5b29547f7ecbb0beff2e19106cf22f3fcc05e490
       "    </tr>\n",
       "    <tr>\n",
       "      <th>8</th>\n",
       "      <td>2018-05-09</td>\n",
       "      <td>18.000000</td>\n",
<<<<<<< HEAD
       "      <td>26.511619</td>\n",
=======
       "      <td>7.127204e+12</td>\n",
>>>>>>> 5b29547f7ecbb0beff2e19106cf22f3fcc05e490
       "    </tr>\n",
       "    <tr>\n",
       "      <th>9</th>\n",
       "      <td>2018-05-10</td>\n",
       "      <td>41.666667</td>\n",
<<<<<<< HEAD
       "      <td>41.526945</td>\n",
=======
       "      <td>3.703090e+18</td>\n",
>>>>>>> 5b29547f7ecbb0beff2e19106cf22f3fcc05e490
       "    </tr>\n",
       "  </tbody>\n",
       "</table>\n",
       "</div>"
      ],
      "text/plain": [
       "        Date  Actual_Time  Predicted_Time\n",
<<<<<<< HEAD
       "0 2018-05-01    37.875000       40.015185\n",
       "1 2018-05-02    45.781250       45.419793\n",
       "2 2018-05-03    38.911290       40.504313\n",
       "3 2018-05-04    60.344828       54.282944\n",
       "4 2018-05-05    38.885135       48.664372\n",
       "5 2018-05-06    30.538462       31.562009\n",
       "6 2018-05-07    72.830189       41.979798\n",
       "7 2018-05-08    52.552083       34.682164\n",
       "8 2018-05-09    18.000000       26.511619\n",
       "9 2018-05-10    41.666667       41.526945"
=======
       "0 2018-05-01    37.875000    2.652427e+17\n",
       "1 2018-05-02    45.781250    1.049049e+20\n",
       "2 2018-05-03    38.911290    3.741001e+17\n",
       "3 2018-05-04    60.344828    4.626780e+25\n",
       "4 2018-05-05    38.885135    1.080128e+25\n",
       "5 2018-05-06    30.538462    1.681682e+14\n",
       "6 2018-05-07    72.830189    2.441052e+21\n",
       "7 2018-05-08    52.552083    1.177580e+16\n",
       "8 2018-05-09    18.000000    7.127204e+12\n",
       "9 2018-05-10    41.666667    3.703090e+18"
>>>>>>> 5b29547f7ecbb0beff2e19106cf22f3fcc05e490
      ]
     },
     "execution_count": 48,
     "metadata": {},
     "output_type": "execute_result"
    }
   ],
   "source": [
    "#ax = sns.lineplot(comparison_df.Date,comparison_df.Actual_Time)\n",
    "#ax = sns.scatterplot(comparison_df.Date,comparison_df.Predicted_Time,palette)\n",
    "\n",
    "predicted_time_df = pd.DataFrame(predicted_time)\n",
    "predicted_time_df.head(n = 6)\n",
    "\n",
    "comparison_df = pd.concat([actual_time,predicted_time_df],\n",
    "                              axis = 1)\n",
    "comparison_df = comparison_df.rename({'date':'Date',\n",
    "                                     'SPOSTMIN':'Actual_Time',\n",
    "                                     0:'Predicted_Time'}, axis = 1)\n",
    "comparison_df.Predicted_Time = np.exp(comparison_df.Predicted_Time)\n",
    "comparison_df.head(n = 10)"
   ]
  },
  {
   "cell_type": "code",
   "execution_count": 49,
   "metadata": {
    "scrolled": true
   },
   "outputs": [
    {
     "data": {
<<<<<<< HEAD
      "image/png": "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\n",
=======
      "image/png": "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\n",
>>>>>>> 5b29547f7ecbb0beff2e19106cf22f3fcc05e490
      "text/plain": [
       "<Figure size 432x288 with 1 Axes>"
      ]
     },
     "metadata": {
      "needs_background": "light"
     },
     "output_type": "display_data"
    }
   ],
   "source": [
    "#ax = sns.lineplot(comparison_df.Date,comparison_df.Actual_Time)\n",
    "#ax = sns.scatterplot(comparison_df.Date,comparison_df.Predicted_Time,palette)\n",
    "\n",
    "plt.plot(comparison_df.Date, comparison_df.Predicted_Time,'b-', label = 'prediction')\n",
    "\n",
    "plt.plot(comparison_df.Date, comparison_df.Actual_Time,'ro', label = 'actual',\n",
    "        markersize = 3)\n",
    "\n",
    "plt.xticks(rotation = '60'); \n",
    "plt.legend()\n",
    "\n",
    "# Graph labels\n",
    "plt.xlabel('Date'); plt.ylabel('Average Wait Time'); plt.title('Actual and Predicted Wait Times');\n"
   ]
  },
  {
   "cell_type": "markdown",
   "metadata": {},
   "source": [
    "# Compare Prediction to Actual Wait Time July 2018"
   ]
  },
  {
   "cell_type": "markdown",
   "metadata": {},
   "source": [
    "## Random Forest"
   ]
  },
  {
   "cell_type": "code",
   "execution_count": 33,
   "metadata": {},
   "outputs": [],
   "source": [
    "july_df = meta_splash2[meta_splash2.MONTHOFYEAR == 7]\n",
    "july2018_df = july_df[july_df.YEAR == 2018]\n",
    "july2018_df\n",
    "actual_time = july2018_df.iloc[:,0:2]\n",
    "actual_time.index = range(31)"
   ]
  },
  {
   "cell_type": "code",
   "execution_count": 50,
   "metadata": {},
   "outputs": [],
   "source": [
    "#Test rf on july 2018\n",
    "predict_time_df = july2018_df[golden_list_2]\n",
    "predict_time_df\n",
    "\n",
    "#Create a Gaussian Classifier\n",
    "rf = RandomForestRegressor(n_estimators = 100)\n",
    "\n",
    "#train the model using the traing set\n",
    "rf.fit(x_train,y_train)\n",
    "\n",
    "predicted_time = rf.predict(predict_time_df)"
   ]
  },
  {
   "cell_type": "code",
   "execution_count": 51,
   "metadata": {},
   "outputs": [
    {
     "data": {
      "text/html": [
       "<div>\n",
       "<style scoped>\n",
       "    .dataframe tbody tr th:only-of-type {\n",
       "        vertical-align: middle;\n",
       "    }\n",
       "\n",
       "    .dataframe tbody tr th {\n",
       "        vertical-align: top;\n",
       "    }\n",
       "\n",
       "    .dataframe thead th {\n",
       "        text-align: right;\n",
       "    }\n",
       "</style>\n",
       "<table border=\"1\" class=\"dataframe\">\n",
       "  <thead>\n",
       "    <tr style=\"text-align: right;\">\n",
       "      <th></th>\n",
       "      <th>Date</th>\n",
       "      <th>Actual_Time</th>\n",
       "      <th>Predicted_Time</th>\n",
       "    </tr>\n",
       "  </thead>\n",
       "  <tbody>\n",
       "    <tr>\n",
       "      <th>0</th>\n",
<<<<<<< HEAD
       "      <td>2018-05-01</td>\n",
       "      <td>37.875000</td>\n",
       "      <td>55.210358</td>\n",
       "    </tr>\n",
       "    <tr>\n",
       "      <th>1</th>\n",
       "      <td>2018-05-02</td>\n",
       "      <td>45.781250</td>\n",
       "      <td>66.121243</td>\n",
       "    </tr>\n",
       "    <tr>\n",
       "      <th>2</th>\n",
       "      <td>2018-05-03</td>\n",
       "      <td>38.911290</td>\n",
       "      <td>68.834154</td>\n",
       "    </tr>\n",
       "    <tr>\n",
       "      <th>3</th>\n",
       "      <td>2018-05-04</td>\n",
       "      <td>60.344828</td>\n",
       "      <td>62.392533</td>\n",
       "    </tr>\n",
       "    <tr>\n",
       "      <th>4</th>\n",
       "      <td>2018-05-05</td>\n",
       "      <td>38.885135</td>\n",
       "      <td>64.927482</td>\n",
       "    </tr>\n",
       "    <tr>\n",
       "      <th>5</th>\n",
       "      <td>2018-05-06</td>\n",
       "      <td>30.538462</td>\n",
       "      <td>58.126282</td>\n",
       "    </tr>\n",
       "    <tr>\n",
       "      <th>6</th>\n",
       "      <td>2018-05-07</td>\n",
       "      <td>72.830189</td>\n",
       "      <td>47.707113</td>\n",
       "    </tr>\n",
       "    <tr>\n",
       "      <th>7</th>\n",
       "      <td>2018-05-08</td>\n",
       "      <td>52.552083</td>\n",
       "      <td>56.951178</td>\n",
       "    </tr>\n",
       "    <tr>\n",
       "      <th>8</th>\n",
       "      <td>2018-05-09</td>\n",
       "      <td>18.000000</td>\n",
       "      <td>63.866772</td>\n",
       "    </tr>\n",
       "    <tr>\n",
       "      <th>9</th>\n",
       "      <td>2018-05-10</td>\n",
       "      <td>41.666667</td>\n",
       "      <td>63.733029</td>\n",
=======
       "      <td>2018-07-01</td>\n",
       "      <td>52.796610</td>\n",
       "      <td>1.210460e+24</td>\n",
       "    </tr>\n",
       "    <tr>\n",
       "      <th>1</th>\n",
       "      <td>2018-07-02</td>\n",
       "      <td>71.344086</td>\n",
       "      <td>6.278100e+29</td>\n",
       "    </tr>\n",
       "    <tr>\n",
       "      <th>2</th>\n",
       "      <td>2018-07-03</td>\n",
       "      <td>69.210526</td>\n",
       "      <td>4.597515e+30</td>\n",
       "    </tr>\n",
       "    <tr>\n",
       "      <th>3</th>\n",
       "      <td>2018-07-04</td>\n",
       "      <td>70.887097</td>\n",
       "      <td>1.749908e+27</td>\n",
       "    </tr>\n",
       "    <tr>\n",
       "      <th>4</th>\n",
       "      <td>2018-07-05</td>\n",
       "      <td>70.275591</td>\n",
       "      <td>3.707161e+28</td>\n",
       "    </tr>\n",
       "    <tr>\n",
       "      <th>5</th>\n",
       "      <td>2018-07-06</td>\n",
       "      <td>56.296296</td>\n",
       "      <td>7.650257e+24</td>\n",
       "    </tr>\n",
       "    <tr>\n",
       "      <th>6</th>\n",
       "      <td>2018-07-07</td>\n",
       "      <td>45.625000</td>\n",
       "      <td>9.344452e+22</td>\n",
       "    </tr>\n",
       "    <tr>\n",
       "      <th>7</th>\n",
       "      <td>2018-07-08</td>\n",
       "      <td>47.892157</td>\n",
       "      <td>2.732081e+24</td>\n",
       "    </tr>\n",
       "    <tr>\n",
       "      <th>8</th>\n",
       "      <td>2018-07-09</td>\n",
       "      <td>70.595238</td>\n",
       "      <td>3.058004e+27</td>\n",
       "    </tr>\n",
       "    <tr>\n",
       "      <th>9</th>\n",
       "      <td>2018-07-10</td>\n",
       "      <td>69.205607</td>\n",
       "      <td>1.094030e+28</td>\n",
>>>>>>> 5b29547f7ecbb0beff2e19106cf22f3fcc05e490
       "    </tr>\n",
       "  </tbody>\n",
       "</table>\n",
       "</div>"
      ],
      "text/plain": [
       "        Date  Actual_Time  Predicted_Time\n",
<<<<<<< HEAD
       "0 2018-05-01    37.875000       55.210358\n",
       "1 2018-05-02    45.781250       66.121243\n",
       "2 2018-05-03    38.911290       68.834154\n",
       "3 2018-05-04    60.344828       62.392533\n",
       "4 2018-05-05    38.885135       64.927482\n",
       "5 2018-05-06    30.538462       58.126282\n",
       "6 2018-05-07    72.830189       47.707113\n",
       "7 2018-05-08    52.552083       56.951178\n",
       "8 2018-05-09    18.000000       63.866772\n",
       "9 2018-05-10    41.666667       63.733029"
=======
       "0 2018-07-01    52.796610    1.210460e+24\n",
       "1 2018-07-02    71.344086    6.278100e+29\n",
       "2 2018-07-03    69.210526    4.597515e+30\n",
       "3 2018-07-04    70.887097    1.749908e+27\n",
       "4 2018-07-05    70.275591    3.707161e+28\n",
       "5 2018-07-06    56.296296    7.650257e+24\n",
       "6 2018-07-07    45.625000    9.344452e+22\n",
       "7 2018-07-08    47.892157    2.732081e+24\n",
       "8 2018-07-09    70.595238    3.058004e+27\n",
       "9 2018-07-10    69.205607    1.094030e+28"
>>>>>>> 5b29547f7ecbb0beff2e19106cf22f3fcc05e490
      ]
     },
     "execution_count": 51,
     "metadata": {},
     "output_type": "execute_result"
    }
   ],
   "source": [
    "predicted_time_df = pd.DataFrame(predicted_time)\n",
    "predicted_time_df.head(n = 6)\n",
    "\n",
    "comparison_df = pd.concat([actual_time,predicted_time_df],\n",
    "                              axis = 1)\n",
    "comparison_df = comparison_df.rename({'date':'Date',\n",
    "                                     'SPOSTMIN':'Actual_Time',\n",
    "                                     0:'Predicted_Time'}, axis = 1)\n",
    "\n",
    "comparison_df.Predicted_Time = np.exp(comparison_df.Predicted_Time)\n",
    "\n",
    "comparison_df.head(n = 10)"
   ]
  },
  {
   "cell_type": "code",
<<<<<<< HEAD
   "execution_count": 52,
=======
   "execution_count": 39,
>>>>>>> 5b29547f7ecbb0beff2e19106cf22f3fcc05e490
   "metadata": {
    "scrolled": false
   },
   "outputs": [
    {
     "data": {
<<<<<<< HEAD
      "image/png": "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\n",
=======
      "image/png": "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\n",
>>>>>>> 5b29547f7ecbb0beff2e19106cf22f3fcc05e490
      "text/plain": [
       "<Figure size 432x288 with 1 Axes>"
      ]
     },
     "metadata": {
      "needs_background": "light"
     },
     "output_type": "display_data"
    }
   ],
   "source": [
    "plt.plot(comparison_df.Date, comparison_df.Predicted_Time,'b-', label = 'prediction')\n",
    "\n",
    "plt.plot(comparison_df.Date, comparison_df.Actual_Time,'ro', label = 'actual',\n",
    "        markersize = 3)\n",
    "\n",
    "plt.xticks(rotation = '60'); \n",
    "plt.legend()\n",
    "\n",
    "# Graph labels\n",
    "plt.xlabel('Date'); plt.ylabel('Average Wait Time'); plt.title('Actual and Predicted Wait Times for July');\n"
   ]
  },
  {
   "cell_type": "code",
   "execution_count": 37,
   "metadata": {},
   "outputs": [],
   "source": [
    "mse_lm = metrics.mean_squared_error(y_test, y_predlm)\n",
    "\n",
    "mse_ridge = metrics.mean_squared_error(y_test, y_pred_ridge)\n",
    "mse_lasso = metrics.mean_squared_error(y_test, y_pred_lasso)\n",
    "mse_en = metrics.mean_squared_error(y_test, y_pred_en)\n",
    "mse_rf = metrics.mean_squared_error(y_test, y_pred_rf)"
   ]
  },
  {
   "cell_type": "code",
   "execution_count": 38,
   "metadata": {
    "scrolled": true
   },
   "outputs": [
    {
     "data": {
      "text/html": [
       "<div>\n",
       "<style scoped>\n",
       "    .dataframe tbody tr th:only-of-type {\n",
       "        vertical-align: middle;\n",
       "    }\n",
       "\n",
       "    .dataframe tbody tr th {\n",
       "        vertical-align: top;\n",
       "    }\n",
       "\n",
       "    .dataframe thead th {\n",
       "        text-align: right;\n",
       "    }\n",
       "</style>\n",
       "<table border=\"1\" class=\"dataframe\">\n",
       "  <thead>\n",
       "    <tr style=\"text-align: right;\">\n",
       "      <th></th>\n",
       "      <th>Model</th>\n",
<<<<<<< HEAD
       "      <th>Mean Absolute Percentage Deviation</th>\n",
=======
       "      <th>Relative MSE</th>\n",
>>>>>>> 5b29547f7ecbb0beff2e19106cf22f3fcc05e490
       "      <th>MSE</th>\n",
       "    </tr>\n",
       "  </thead>\n",
       "  <tbody>\n",
       "    <tr>\n",
       "      <th>0</th>\n",
       "      <td>Linear</td>\n",
       "      <td>64.70</td>\n",
       "      <td>170.6545</td>\n",
       "    </tr>\n",
       "    <tr>\n",
       "      <th>1</th>\n",
       "      <td>Ridge</td>\n",
       "      <td>64.13</td>\n",
       "      <td>178.5658</td>\n",
       "    </tr>\n",
       "    <tr>\n",
       "      <th>2</th>\n",
       "      <td>Lasso</td>\n",
       "      <td>43.38</td>\n",
       "      <td>396.4923</td>\n",
       "    </tr>\n",
       "    <tr>\n",
       "      <th>3</th>\n",
       "      <td>Elastic</td>\n",
       "      <td>64.03</td>\n",
       "      <td>182.4544</td>\n",
       "    </tr>\n",
       "    <tr>\n",
       "      <th>4</th>\n",
       "      <td>Random Forest</td>\n",
       "      <td>72.21</td>\n",
       "      <td>111.2765</td>\n",
       "    </tr>\n",
       "  </tbody>\n",
       "</table>\n",
       "</div>"
      ],
      "text/plain": [
<<<<<<< HEAD
       "           Model  Mean Absolute Percentage Deviation     MSE\n",
       "0         Linear                               91.82  0.1423\n",
       "1          Ridge                               91.53  0.1472\n",
       "2          Lasso                               86.28  0.3575\n",
       "3        Elastic                               89.20  0.2315\n",
       "4  Random Forest                               93.58  0.0939"
=======
       "           Model  Relative MSE       MSE\n",
       "0         Linear         64.70  170.6545\n",
       "1          Ridge         64.13  178.5658\n",
       "2          Lasso         43.38  396.4923\n",
       "3        Elastic         64.03  182.4544\n",
       "4  Random Forest         72.21  111.2765"
>>>>>>> 5b29547f7ecbb0beff2e19106cf22f3fcc05e490
      ]
     },
     "execution_count": 38,
     "metadata": {},
     "output_type": "execute_result"
    }
   ],
   "source": [
    "# Creating new dataframe with accuracy and MSE\n",
    "\n",
    "mse = pd.DataFrame({\n",
    "    \"Model\": [\"Linear\", \"Ridge\", \"Lasso\", \"Elastic\", \"Random Forest\"],\n",
<<<<<<< HEAD
    "    \"Mean Absolute Percentage Deviation\": [acc_linear, acc_ridge, acc_lasso, acc_en, acc_rf],\n",
=======
    "    \"Relative MSE\": [acc_linear, acc_ridge, acc_lasso, acc_en, acc_rf],\n",
>>>>>>> 5b29547f7ecbb0beff2e19106cf22f3fcc05e490
    "    \"MSE\": [mse_lm.round(4,), mse_ridge.round(4,), mse_lasso.round(4,), mse_en.round(4,), mse_rf.round(4,)]})\n",
    "\n",
    "mse"
   ]
  }
 ],
 "metadata": {
  "kernelspec": {
   "display_name": "Python 3",
   "language": "python",
   "name": "python3"
  },
  "language_info": {
   "codemirror_mode": {
    "name": "ipython",
    "version": 3
   },
   "file_extension": ".py",
   "mimetype": "text/x-python",
   "name": "python",
   "nbconvert_exporter": "python",
   "pygments_lexer": "ipython3",
   "version": "3.6.7"
  }
 },
 "nbformat": 4,
 "nbformat_minor": 2
}
