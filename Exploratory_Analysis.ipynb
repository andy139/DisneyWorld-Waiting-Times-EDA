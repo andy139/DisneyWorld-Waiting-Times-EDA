{
 "cells": [
  {
   "cell_type": "markdown",
   "metadata": {},
   "source": [
    "# Exploring Disney Land Wait Time Data Set\n",
    "## Loading libraries and reading in data"
   ]
  },
  {
   "cell_type": "code",
   "execution_count": 1,
   "metadata": {},
   "outputs": [],
   "source": [
    "import pandas as pd ## call pandas functions using \"pd\"\n",
    "import numpy as np  ## call numpy functions using \"np\"\n",
    "\n",
    "import sklearn.decomposition as skld\n",
    "\n",
    "import matplotlib.pyplot as plt\n",
    "import seaborn as sns\n",
    "import imp\n",
    "import matplotlib.dates as mdates\n",
    "\n",
    "#import meta data\n",
    "meta = pd.read_csv(\"disney.csv\")\n",
    "\n",
    "#import magic kingdom rides (wait times)\n",
    "splash = pd.read_csv(\"splash_mountain.csv\")\n",
    "seven_dwarfs = pd.read_csv(\"7_dwarfs_train.csv\")\n",
    "pirates = pd.read_csv('pirates_of_caribbean.csv')"
   ]
  },
  {
   "cell_type": "markdown",
   "metadata": {},
   "source": [
    "### Viewing the meta Dataset"
   ]
  },
  {
   "cell_type": "code",
   "execution_count": 2,
   "metadata": {},
   "outputs": [
    {
     "name": "stdout",
     "output_type": "stream",
     "text": [
      "(2674, 190)\n"
     ]
    },
    {
     "data": {
      "text/html": [
       "<div>\n",
       "<style scoped>\n",
       "    .dataframe tbody tr th:only-of-type {\n",
       "        vertical-align: middle;\n",
       "    }\n",
       "\n",
       "    .dataframe tbody tr th {\n",
       "        vertical-align: top;\n",
       "    }\n",
       "\n",
       "    .dataframe thead th {\n",
       "        text-align: right;\n",
       "    }\n",
       "</style>\n",
       "<table border=\"1\" class=\"dataframe\">\n",
       "  <thead>\n",
       "    <tr style=\"text-align: right;\">\n",
       "      <th></th>\n",
       "      <th>DATE</th>\n",
       "      <th>WDW_TICKET_SEASON</th>\n",
       "      <th>DAYOFWEEK</th>\n",
       "      <th>DAYOFYEAR</th>\n",
       "      <th>WEEKOFYEAR</th>\n",
       "      <th>MONTHOFYEAR</th>\n",
       "      <th>YEAR</th>\n",
       "      <th>SEASON</th>\n",
       "      <th>HOLIDAYPX</th>\n",
       "      <th>HOLIDAYM</th>\n",
       "    </tr>\n",
       "  </thead>\n",
       "  <tbody>\n",
       "    <tr>\n",
       "      <th>0</th>\n",
       "      <td>01/01/2012</td>\n",
       "      <td>NaN</td>\n",
       "      <td>1</td>\n",
       "      <td>0</td>\n",
       "      <td>1</td>\n",
       "      <td>1</td>\n",
       "      <td>2012</td>\n",
       "      <td>CHRISTMAS PEAK</td>\n",
       "      <td>0</td>\n",
       "      <td>5</td>\n",
       "    </tr>\n",
       "    <tr>\n",
       "      <th>1</th>\n",
       "      <td>01/02/2012</td>\n",
       "      <td>NaN</td>\n",
       "      <td>2</td>\n",
       "      <td>1</td>\n",
       "      <td>1</td>\n",
       "      <td>1</td>\n",
       "      <td>2012</td>\n",
       "      <td>CHRISTMAS</td>\n",
       "      <td>2</td>\n",
       "      <td>5</td>\n",
       "    </tr>\n",
       "    <tr>\n",
       "      <th>2</th>\n",
       "      <td>01/03/2012</td>\n",
       "      <td>NaN</td>\n",
       "      <td>3</td>\n",
       "      <td>2</td>\n",
       "      <td>1</td>\n",
       "      <td>1</td>\n",
       "      <td>2012</td>\n",
       "      <td>CHRISTMAS</td>\n",
       "      <td>3</td>\n",
       "      <td>0</td>\n",
       "    </tr>\n",
       "    <tr>\n",
       "      <th>3</th>\n",
       "      <td>01/04/2012</td>\n",
       "      <td>NaN</td>\n",
       "      <td>4</td>\n",
       "      <td>3</td>\n",
       "      <td>1</td>\n",
       "      <td>1</td>\n",
       "      <td>2012</td>\n",
       "      <td>CHRISTMAS</td>\n",
       "      <td>4</td>\n",
       "      <td>0</td>\n",
       "    </tr>\n",
       "    <tr>\n",
       "      <th>4</th>\n",
       "      <td>01/05/2012</td>\n",
       "      <td>NaN</td>\n",
       "      <td>5</td>\n",
       "      <td>4</td>\n",
       "      <td>1</td>\n",
       "      <td>1</td>\n",
       "      <td>2012</td>\n",
       "      <td>CHRISTMAS</td>\n",
       "      <td>5</td>\n",
       "      <td>0</td>\n",
       "    </tr>\n",
       "  </tbody>\n",
       "</table>\n",
       "</div>"
      ],
      "text/plain": [
       "         DATE WDW_TICKET_SEASON  DAYOFWEEK  DAYOFYEAR  WEEKOFYEAR  \\\n",
       "0  01/01/2012               NaN          1          0           1   \n",
       "1  01/02/2012               NaN          2          1           1   \n",
       "2  01/03/2012               NaN          3          2           1   \n",
       "3  01/04/2012               NaN          4          3           1   \n",
       "4  01/05/2012               NaN          5          4           1   \n",
       "\n",
       "   MONTHOFYEAR  YEAR          SEASON  HOLIDAYPX  HOLIDAYM  \n",
       "0            1  2012  CHRISTMAS PEAK          0         5  \n",
       "1            1  2012       CHRISTMAS          2         5  \n",
       "2            1  2012       CHRISTMAS          3         0  \n",
       "3            1  2012       CHRISTMAS          4         0  \n",
       "4            1  2012       CHRISTMAS          5         0  "
      ]
     },
     "execution_count": 2,
     "metadata": {},
     "output_type": "execute_result"
    }
   ],
   "source": [
    "print(meta.shape) #190 columns, 2674 rows of observations\n",
    "#First five rows of meta, five columns, \n",
    "# start date 2012\n",
    "meta.iloc[0:5, 0:10]"
   ]
  },
  {
   "cell_type": "code",
   "execution_count": 3,
   "metadata": {},
   "outputs": [
    {
     "data": {
      "text/html": [
       "<div>\n",
       "<style scoped>\n",
       "    .dataframe tbody tr th:only-of-type {\n",
       "        vertical-align: middle;\n",
       "    }\n",
       "\n",
       "    .dataframe tbody tr th {\n",
       "        vertical-align: top;\n",
       "    }\n",
       "\n",
       "    .dataframe thead th {\n",
       "        text-align: right;\n",
       "    }\n",
       "</style>\n",
       "<table border=\"1\" class=\"dataframe\">\n",
       "  <thead>\n",
       "    <tr style=\"text-align: right;\">\n",
       "      <th></th>\n",
       "      <th>date</th>\n",
       "      <th>datetime</th>\n",
       "      <th>SPOSTMIN</th>\n",
       "      <th>SACTMIN</th>\n",
       "    </tr>\n",
       "  </thead>\n",
       "  <tbody>\n",
       "    <tr>\n",
       "      <th>0</th>\n",
       "      <td>01/01/2012</td>\n",
       "      <td>2012-01-01 10:31:00</td>\n",
       "      <td>30.0</td>\n",
       "      <td>NaN</td>\n",
       "    </tr>\n",
       "    <tr>\n",
       "      <th>1</th>\n",
       "      <td>01/01/2012</td>\n",
       "      <td>2012-01-01 10:40:00</td>\n",
       "      <td>30.0</td>\n",
       "      <td>NaN</td>\n",
       "    </tr>\n",
       "    <tr>\n",
       "      <th>2</th>\n",
       "      <td>01/01/2012</td>\n",
       "      <td>2012-01-01 10:32:00</td>\n",
       "      <td>NaN</td>\n",
       "      <td>13.0</td>\n",
       "    </tr>\n",
       "    <tr>\n",
       "      <th>3</th>\n",
       "      <td>01/01/2012</td>\n",
       "      <td>2012-01-01 12:02:00</td>\n",
       "      <td>30.0</td>\n",
       "      <td>NaN</td>\n",
       "    </tr>\n",
       "    <tr>\n",
       "      <th>4</th>\n",
       "      <td>01/01/2012</td>\n",
       "      <td>2012-01-01 12:04:00</td>\n",
       "      <td>NaN</td>\n",
       "      <td>23.0</td>\n",
       "    </tr>\n",
       "  </tbody>\n",
       "</table>\n",
       "</div>"
      ],
      "text/plain": [
       "         date             datetime  SPOSTMIN  SACTMIN\n",
       "0  01/01/2012  2012-01-01 10:31:00      30.0      NaN\n",
       "1  01/01/2012  2012-01-01 10:40:00      30.0      NaN\n",
       "2  01/01/2012  2012-01-01 10:32:00       NaN     13.0\n",
       "3  01/01/2012  2012-01-01 12:02:00      30.0      NaN\n",
       "4  01/01/2012  2012-01-01 12:04:00       NaN     23.0"
      ]
     },
     "execution_count": 3,
     "metadata": {},
     "output_type": "execute_result"
    }
   ],
   "source": [
    "# Drop rows where wait time is not available (-999)\n",
    "pirates = pirates[pirates.SPOSTMIN > 0]\n",
    "seven_dwarfs = seven_dwarfs[seven_dwarfs.SPOSTMIN > 0]\n",
    "splash = splash[(splash.SPOSTMIN > 0) | (splash.SACTMIN > 0)]\n",
    "\n",
    "splash.head() #has posted minutes for each ride"
   ]
  },
  {
   "cell_type": "markdown",
   "metadata": {},
   "source": [
    "## Merging datasets together to include wait times for Splash Mountain"
   ]
  },
  {
   "cell_type": "code",
   "execution_count": 4,
   "metadata": {},
   "outputs": [],
   "source": [
    "#Merging each ride with meta_data, using date as key\n",
    "meta_splash = pd.merge(splash, meta, left_on=\"date\", right_on=\"DATE\").drop('DATE', axis = 1)"
   ]
  },
  {
   "cell_type": "code",
   "execution_count": 5,
   "metadata": {},
   "outputs": [
    {
     "data": {
      "text/html": [
       "<div>\n",
       "<style scoped>\n",
       "    .dataframe tbody tr th:only-of-type {\n",
       "        vertical-align: middle;\n",
       "    }\n",
       "\n",
       "    .dataframe tbody tr th {\n",
       "        vertical-align: top;\n",
       "    }\n",
       "\n",
       "    .dataframe thead th {\n",
       "        text-align: right;\n",
       "    }\n",
       "</style>\n",
       "<table border=\"1\" class=\"dataframe\">\n",
       "  <thead>\n",
       "    <tr style=\"text-align: right;\">\n",
       "      <th></th>\n",
       "      <th>date</th>\n",
       "      <th>datetime</th>\n",
       "      <th>SPOSTMIN</th>\n",
       "      <th>SACTMIN</th>\n",
       "      <th>WDW_TICKET_SEASON</th>\n",
       "      <th>DAYOFWEEK</th>\n",
       "      <th>DAYOFYEAR</th>\n",
       "      <th>WEEKOFYEAR</th>\n",
       "      <th>MONTHOFYEAR</th>\n",
       "      <th>YEAR</th>\n",
       "      <th>...</th>\n",
       "      <th>HSFIREWKS</th>\n",
       "      <th>AKPRDDAY</th>\n",
       "      <th>AKPRDDT1</th>\n",
       "      <th>AKPRDDT2</th>\n",
       "      <th>AKPRDDN</th>\n",
       "      <th>AKFIREN</th>\n",
       "      <th>AKSHWNGT</th>\n",
       "      <th>AKSHWNT1</th>\n",
       "      <th>AKSHWNT2</th>\n",
       "      <th>AKSHWNN</th>\n",
       "    </tr>\n",
       "  </thead>\n",
       "  <tbody>\n",
       "    <tr>\n",
       "      <th>0</th>\n",
       "      <td>2012-01-01</td>\n",
       "      <td>2012-01-01 10:31:00</td>\n",
       "      <td>30.0</td>\n",
       "      <td>0.0</td>\n",
       "      <td>0</td>\n",
       "      <td>1</td>\n",
       "      <td>0</td>\n",
       "      <td>1</td>\n",
       "      <td>1</td>\n",
       "      <td>2012</td>\n",
       "      <td>...</td>\n",
       "      <td>1</td>\n",
       "      <td>1</td>\n",
       "      <td>15:45</td>\n",
       "      <td>0.0</td>\n",
       "      <td>Mickey's Jingle Jungle Parade</td>\n",
       "      <td>0.0</td>\n",
       "      <td>0</td>\n",
       "      <td>0</td>\n",
       "      <td>0</td>\n",
       "      <td>0</td>\n",
       "    </tr>\n",
       "    <tr>\n",
       "      <th>1</th>\n",
       "      <td>2012-01-01</td>\n",
       "      <td>2012-01-01 10:40:00</td>\n",
       "      <td>30.0</td>\n",
       "      <td>0.0</td>\n",
       "      <td>0</td>\n",
       "      <td>1</td>\n",
       "      <td>0</td>\n",
       "      <td>1</td>\n",
       "      <td>1</td>\n",
       "      <td>2012</td>\n",
       "      <td>...</td>\n",
       "      <td>1</td>\n",
       "      <td>1</td>\n",
       "      <td>15:45</td>\n",
       "      <td>0.0</td>\n",
       "      <td>Mickey's Jingle Jungle Parade</td>\n",
       "      <td>0.0</td>\n",
       "      <td>0</td>\n",
       "      <td>0</td>\n",
       "      <td>0</td>\n",
       "      <td>0</td>\n",
       "    </tr>\n",
       "    <tr>\n",
       "      <th>2</th>\n",
       "      <td>2012-01-01</td>\n",
       "      <td>2012-01-01 10:32:00</td>\n",
       "      <td>0.0</td>\n",
       "      <td>13.0</td>\n",
       "      <td>0</td>\n",
       "      <td>1</td>\n",
       "      <td>0</td>\n",
       "      <td>1</td>\n",
       "      <td>1</td>\n",
       "      <td>2012</td>\n",
       "      <td>...</td>\n",
       "      <td>1</td>\n",
       "      <td>1</td>\n",
       "      <td>15:45</td>\n",
       "      <td>0.0</td>\n",
       "      <td>Mickey's Jingle Jungle Parade</td>\n",
       "      <td>0.0</td>\n",
       "      <td>0</td>\n",
       "      <td>0</td>\n",
       "      <td>0</td>\n",
       "      <td>0</td>\n",
       "    </tr>\n",
       "    <tr>\n",
       "      <th>3</th>\n",
       "      <td>2012-01-01</td>\n",
       "      <td>2012-01-01 12:02:00</td>\n",
       "      <td>30.0</td>\n",
       "      <td>0.0</td>\n",
       "      <td>0</td>\n",
       "      <td>1</td>\n",
       "      <td>0</td>\n",
       "      <td>1</td>\n",
       "      <td>1</td>\n",
       "      <td>2012</td>\n",
       "      <td>...</td>\n",
       "      <td>1</td>\n",
       "      <td>1</td>\n",
       "      <td>15:45</td>\n",
       "      <td>0.0</td>\n",
       "      <td>Mickey's Jingle Jungle Parade</td>\n",
       "      <td>0.0</td>\n",
       "      <td>0</td>\n",
       "      <td>0</td>\n",
       "      <td>0</td>\n",
       "      <td>0</td>\n",
       "    </tr>\n",
       "    <tr>\n",
       "      <th>4</th>\n",
       "      <td>2012-01-01</td>\n",
       "      <td>2012-01-01 12:04:00</td>\n",
       "      <td>0.0</td>\n",
       "      <td>23.0</td>\n",
       "      <td>0</td>\n",
       "      <td>1</td>\n",
       "      <td>0</td>\n",
       "      <td>1</td>\n",
       "      <td>1</td>\n",
       "      <td>2012</td>\n",
       "      <td>...</td>\n",
       "      <td>1</td>\n",
       "      <td>1</td>\n",
       "      <td>15:45</td>\n",
       "      <td>0.0</td>\n",
       "      <td>Mickey's Jingle Jungle Parade</td>\n",
       "      <td>0.0</td>\n",
       "      <td>0</td>\n",
       "      <td>0</td>\n",
       "      <td>0</td>\n",
       "      <td>0</td>\n",
       "    </tr>\n",
       "  </tbody>\n",
       "</table>\n",
       "<p>5 rows × 193 columns</p>\n",
       "</div>"
      ],
      "text/plain": [
       "        date             datetime  SPOSTMIN  SACTMIN WDW_TICKET_SEASON  \\\n",
       "0 2012-01-01  2012-01-01 10:31:00      30.0      0.0                 0   \n",
       "1 2012-01-01  2012-01-01 10:40:00      30.0      0.0                 0   \n",
       "2 2012-01-01  2012-01-01 10:32:00       0.0     13.0                 0   \n",
       "3 2012-01-01  2012-01-01 12:02:00      30.0      0.0                 0   \n",
       "4 2012-01-01  2012-01-01 12:04:00       0.0     23.0                 0   \n",
       "\n",
       "   DAYOFWEEK  DAYOFYEAR  WEEKOFYEAR  MONTHOFYEAR  YEAR  ... HSFIREWKS  \\\n",
       "0          1          0           1            1  2012  ...         1   \n",
       "1          1          0           1            1  2012  ...         1   \n",
       "2          1          0           1            1  2012  ...         1   \n",
       "3          1          0           1            1  2012  ...         1   \n",
       "4          1          0           1            1  2012  ...         1   \n",
       "\n",
       "   AKPRDDAY  AKPRDDT1 AKPRDDT2                        AKPRDDN AKFIREN  \\\n",
       "0         1     15:45      0.0  Mickey's Jingle Jungle Parade     0.0   \n",
       "1         1     15:45      0.0  Mickey's Jingle Jungle Parade     0.0   \n",
       "2         1     15:45      0.0  Mickey's Jingle Jungle Parade     0.0   \n",
       "3         1     15:45      0.0  Mickey's Jingle Jungle Parade     0.0   \n",
       "4         1     15:45      0.0  Mickey's Jingle Jungle Parade     0.0   \n",
       "\n",
       "  AKSHWNGT AKSHWNT1  AKSHWNT2  AKSHWNN  \n",
       "0        0        0         0        0  \n",
       "1        0        0         0        0  \n",
       "2        0        0         0        0  \n",
       "3        0        0         0        0  \n",
       "4        0        0         0        0  \n",
       "\n",
       "[5 rows x 193 columns]"
      ]
     },
     "execution_count": 5,
     "metadata": {},
     "output_type": "execute_result"
    }
   ],
   "source": [
    "#change NAs to 0 values\n",
    "meta_splash = meta_splash.fillna(0)\n",
    "#format date in a way that can be worked with\n",
    "meta_splash['date'] = pd.to_datetime(meta_splash['date'])\n",
    "meta_splash.head()"
   ]
  },
  {
   "cell_type": "code",
   "execution_count": 13,
   "metadata": {},
   "outputs": [
    {
     "data": {
      "text/html": [
       "<div>\n",
       "<style scoped>\n",
       "    .dataframe tbody tr th:only-of-type {\n",
       "        vertical-align: middle;\n",
       "    }\n",
       "\n",
       "    .dataframe tbody tr th {\n",
       "        vertical-align: top;\n",
       "    }\n",
       "\n",
       "    .dataframe thead th {\n",
       "        text-align: right;\n",
       "    }\n",
       "</style>\n",
       "<table border=\"1\" class=\"dataframe\">\n",
       "  <thead>\n",
       "    <tr style=\"text-align: right;\">\n",
       "      <th></th>\n",
       "      <th>date</th>\n",
       "      <th>SPOSTMIN</th>\n",
       "      <th>SACTMIN</th>\n",
       "    </tr>\n",
       "  </thead>\n",
       "  <tbody>\n",
       "    <tr>\n",
       "      <th>0</th>\n",
       "      <td>2012-01-01</td>\n",
       "      <td>31.923077</td>\n",
       "      <td>2.769231</td>\n",
       "    </tr>\n",
       "    <tr>\n",
       "      <th>1</th>\n",
       "      <td>2012-01-02</td>\n",
       "      <td>43.750000</td>\n",
       "      <td>0.000000</td>\n",
       "    </tr>\n",
       "    <tr>\n",
       "      <th>2</th>\n",
       "      <td>2012-01-03</td>\n",
       "      <td>5.000000</td>\n",
       "      <td>0.000000</td>\n",
       "    </tr>\n",
       "    <tr>\n",
       "      <th>3</th>\n",
       "      <td>2012-01-04</td>\n",
       "      <td>15.000000</td>\n",
       "      <td>2.500000</td>\n",
       "    </tr>\n",
       "    <tr>\n",
       "      <th>4</th>\n",
       "      <td>2012-01-05</td>\n",
       "      <td>33.437500</td>\n",
       "      <td>1.250000</td>\n",
       "    </tr>\n",
       "  </tbody>\n",
       "</table>\n",
       "</div>"
      ],
      "text/plain": [
       "        date   SPOSTMIN   SACTMIN\n",
       "0 2012-01-01  31.923077  2.769231\n",
       "1 2012-01-02  43.750000  0.000000\n",
       "2 2012-01-03   5.000000  0.000000\n",
       "3 2012-01-04  15.000000  2.500000\n",
       "4 2012-01-05  33.437500  1.250000"
      ]
     },
     "execution_count": 13,
     "metadata": {},
     "output_type": "execute_result"
    }
   ],
   "source": [
    "#Getting average wait times per day:\n",
    "\n",
    "#find all posted/actual wait times by day in meta_splash\n",
    "sum_by_day = meta_splash.groupby('date')[('SPOSTMIN','SACTMIN')].mean()\n",
    "#reset index to create dataframe columns\n",
    "sum_by_day = sum_by_day.reset_index()\n",
    "#sum_by_day = pd.DataFrame(sum_by_day,columns=['date','SPOSTMIN'])\n",
    "\n",
    "sum_by_day.head()"
   ]
  },
  {
   "cell_type": "code",
   "execution_count": 14,
   "metadata": {},
   "outputs": [
    {
     "data": {
      "text/html": [
       "<div>\n",
       "<style scoped>\n",
       "    .dataframe tbody tr th:only-of-type {\n",
       "        vertical-align: middle;\n",
       "    }\n",
       "\n",
       "    .dataframe tbody tr th {\n",
       "        vertical-align: top;\n",
       "    }\n",
       "\n",
       "    .dataframe thead th {\n",
       "        text-align: right;\n",
       "    }\n",
       "</style>\n",
       "<table border=\"1\" class=\"dataframe\">\n",
       "  <thead>\n",
       "    <tr style=\"text-align: right;\">\n",
       "      <th></th>\n",
       "      <th>date</th>\n",
       "      <th>SPOSTMIN</th>\n",
       "      <th>SACTMIN</th>\n",
       "      <th>WDW_TICKET_SEASON</th>\n",
       "      <th>DAYOFWEEK</th>\n",
       "      <th>DAYOFYEAR</th>\n",
       "      <th>WEEKOFYEAR</th>\n",
       "      <th>MONTHOFYEAR</th>\n",
       "      <th>YEAR</th>\n",
       "      <th>SEASON</th>\n",
       "      <th>...</th>\n",
       "      <th>AKPRDDT1</th>\n",
       "      <th>AKPRDDT2</th>\n",
       "      <th>AKPRDDN</th>\n",
       "      <th>AKFIREN</th>\n",
       "      <th>AKSHWNGT</th>\n",
       "      <th>AKSHWNT1</th>\n",
       "      <th>AKSHWNT2</th>\n",
       "      <th>AKSHWNN</th>\n",
       "      <th>DAY</th>\n",
       "      <th>MONTH</th>\n",
       "    </tr>\n",
       "  </thead>\n",
       "  <tbody>\n",
       "    <tr>\n",
       "      <th>0</th>\n",
       "      <td>2012-01-01</td>\n",
       "      <td>31.923077</td>\n",
       "      <td>2.769231</td>\n",
       "      <td>0</td>\n",
       "      <td>1</td>\n",
       "      <td>0</td>\n",
       "      <td>1</td>\n",
       "      <td>1</td>\n",
       "      <td>2012</td>\n",
       "      <td>CHRISTMAS PEAK</td>\n",
       "      <td>...</td>\n",
       "      <td>15:45</td>\n",
       "      <td>0.0</td>\n",
       "      <td>Mickey's Jingle Jungle Parade</td>\n",
       "      <td>0.0</td>\n",
       "      <td>0</td>\n",
       "      <td>0</td>\n",
       "      <td>0</td>\n",
       "      <td>0</td>\n",
       "      <td>Sunday</td>\n",
       "      <td>January</td>\n",
       "    </tr>\n",
       "    <tr>\n",
       "      <th>1</th>\n",
       "      <td>2012-01-02</td>\n",
       "      <td>43.750000</td>\n",
       "      <td>0.000000</td>\n",
       "      <td>0</td>\n",
       "      <td>2</td>\n",
       "      <td>1</td>\n",
       "      <td>1</td>\n",
       "      <td>1</td>\n",
       "      <td>2012</td>\n",
       "      <td>CHRISTMAS</td>\n",
       "      <td>...</td>\n",
       "      <td>15:45</td>\n",
       "      <td>0.0</td>\n",
       "      <td>Mickey's Jingle Jungle Parade</td>\n",
       "      <td>0.0</td>\n",
       "      <td>0</td>\n",
       "      <td>0</td>\n",
       "      <td>0</td>\n",
       "      <td>0</td>\n",
       "      <td>Monday</td>\n",
       "      <td>January</td>\n",
       "    </tr>\n",
       "    <tr>\n",
       "      <th>2</th>\n",
       "      <td>2012-01-03</td>\n",
       "      <td>5.000000</td>\n",
       "      <td>0.000000</td>\n",
       "      <td>0</td>\n",
       "      <td>3</td>\n",
       "      <td>2</td>\n",
       "      <td>1</td>\n",
       "      <td>1</td>\n",
       "      <td>2012</td>\n",
       "      <td>CHRISTMAS</td>\n",
       "      <td>...</td>\n",
       "      <td>15:45</td>\n",
       "      <td>0.0</td>\n",
       "      <td>Mickey's Jammin' Jungle Parade</td>\n",
       "      <td>0.0</td>\n",
       "      <td>0</td>\n",
       "      <td>0</td>\n",
       "      <td>0</td>\n",
       "      <td>0</td>\n",
       "      <td>Tuesday</td>\n",
       "      <td>January</td>\n",
       "    </tr>\n",
       "    <tr>\n",
       "      <th>3</th>\n",
       "      <td>2012-01-04</td>\n",
       "      <td>15.000000</td>\n",
       "      <td>2.500000</td>\n",
       "      <td>0</td>\n",
       "      <td>4</td>\n",
       "      <td>3</td>\n",
       "      <td>1</td>\n",
       "      <td>1</td>\n",
       "      <td>2012</td>\n",
       "      <td>CHRISTMAS</td>\n",
       "      <td>...</td>\n",
       "      <td>15:45</td>\n",
       "      <td>0.0</td>\n",
       "      <td>Mickey's Jammin' Jungle Parade</td>\n",
       "      <td>0.0</td>\n",
       "      <td>0</td>\n",
       "      <td>0</td>\n",
       "      <td>0</td>\n",
       "      <td>0</td>\n",
       "      <td>Wednesday</td>\n",
       "      <td>January</td>\n",
       "    </tr>\n",
       "    <tr>\n",
       "      <th>4</th>\n",
       "      <td>2012-01-05</td>\n",
       "      <td>33.437500</td>\n",
       "      <td>1.250000</td>\n",
       "      <td>0</td>\n",
       "      <td>5</td>\n",
       "      <td>4</td>\n",
       "      <td>1</td>\n",
       "      <td>1</td>\n",
       "      <td>2012</td>\n",
       "      <td>CHRISTMAS</td>\n",
       "      <td>...</td>\n",
       "      <td>15:45</td>\n",
       "      <td>0.0</td>\n",
       "      <td>Mickey's Jammin' Jungle Parade</td>\n",
       "      <td>0.0</td>\n",
       "      <td>0</td>\n",
       "      <td>0</td>\n",
       "      <td>0</td>\n",
       "      <td>0</td>\n",
       "      <td>Thursday</td>\n",
       "      <td>January</td>\n",
       "    </tr>\n",
       "  </tbody>\n",
       "</table>\n",
       "<p>5 rows × 194 columns</p>\n",
       "</div>"
      ],
      "text/plain": [
       "        date   SPOSTMIN   SACTMIN WDW_TICKET_SEASON  DAYOFWEEK  DAYOFYEAR  \\\n",
       "0 2012-01-01  31.923077  2.769231                 0          1          0   \n",
       "1 2012-01-02  43.750000  0.000000                 0          2          1   \n",
       "2 2012-01-03   5.000000  0.000000                 0          3          2   \n",
       "3 2012-01-04  15.000000  2.500000                 0          4          3   \n",
       "4 2012-01-05  33.437500  1.250000                 0          5          4   \n",
       "\n",
       "   WEEKOFYEAR  MONTHOFYEAR  YEAR          SEASON  ...  AKPRDDT1  AKPRDDT2  \\\n",
       "0           1            1  2012  CHRISTMAS PEAK  ...     15:45       0.0   \n",
       "1           1            1  2012       CHRISTMAS  ...     15:45       0.0   \n",
       "2           1            1  2012       CHRISTMAS  ...     15:45       0.0   \n",
       "3           1            1  2012       CHRISTMAS  ...     15:45       0.0   \n",
       "4           1            1  2012       CHRISTMAS  ...     15:45       0.0   \n",
       "\n",
       "                          AKPRDDN  AKFIREN AKSHWNGT AKSHWNT1 AKSHWNT2  \\\n",
       "0   Mickey's Jingle Jungle Parade      0.0        0        0        0   \n",
       "1   Mickey's Jingle Jungle Parade      0.0        0        0        0   \n",
       "2  Mickey's Jammin' Jungle Parade      0.0        0        0        0   \n",
       "3  Mickey's Jammin' Jungle Parade      0.0        0        0        0   \n",
       "4  Mickey's Jammin' Jungle Parade      0.0        0        0        0   \n",
       "\n",
       "   AKSHWNN        DAY    MONTH  \n",
       "0        0     Sunday  January  \n",
       "1        0     Monday  January  \n",
       "2        0    Tuesday  January  \n",
       "3        0  Wednesday  January  \n",
       "4        0   Thursday  January  \n",
       "\n",
       "[5 rows x 194 columns]"
      ]
     },
     "execution_count": 14,
     "metadata": {},
     "output_type": "execute_result"
    }
   ],
   "source": [
    "#Merging these wait times back into meta dataset and fill 0 for NA\n",
    "#For splash \n",
    "meta['DATE'] = pd.to_datetime(meta['DATE'])\n",
    "meta_splash2 = pd.merge(sum_by_day, meta, left_on=\"date\", right_on=\"DATE\").drop('DATE', axis = 1)\n",
    "# change month and day to names of month and day ie: 1 to Sunday, 1 to January\n",
    "meta_splash2['DAY'] = meta_splash2['date'].dt.weekday_name\n",
    "meta_splash2['MONTH'] = meta_splash2['date'].dt.month_name()\n",
    "meta_splash2 = meta_splash2.fillna(0)\n",
    "\n",
    "meta_splash2.head()"
   ]
  },
  {
   "cell_type": "code",
   "execution_count": null,
   "metadata": {},
   "outputs": [],
   "source": [
    "ax = sns.barplot(x = \"date\", y = [\"SPOSTMIN\",\"SACTMIN\"],data = meta_splash2)\n",
    "ax.set_title(\"Average Wait Time by Day per Year\")\n",
    "ax.set(xlabel='Date', ylabel='Average Attendance by Minute')\n",
    "plt.xticks(rotation = 90)"
   ]
  },
  {
   "cell_type": "code",
   "execution_count": 21,
   "metadata": {},
   "outputs": [
    {
     "data": {
      "text/html": [
       "<div>\n",
       "<style scoped>\n",
       "    .dataframe tbody tr th:only-of-type {\n",
       "        vertical-align: middle;\n",
       "    }\n",
       "\n",
       "    .dataframe tbody tr th {\n",
       "        vertical-align: top;\n",
       "    }\n",
       "\n",
       "    .dataframe thead th {\n",
       "        text-align: right;\n",
       "    }\n",
       "</style>\n",
       "<table border=\"1\" class=\"dataframe\">\n",
       "  <thead>\n",
       "    <tr style=\"text-align: right;\">\n",
       "      <th></th>\n",
       "      <th>YEAR</th>\n",
       "      <th>SPOSTMIN</th>\n",
       "      <th>SACTMIN</th>\n",
       "    </tr>\n",
       "  </thead>\n",
       "  <tbody>\n",
       "    <tr>\n",
       "      <th>0</th>\n",
       "      <td>2012</td>\n",
       "      <td>31.811774</td>\n",
       "      <td>1.047546</td>\n",
       "    </tr>\n",
       "    <tr>\n",
       "      <th>1</th>\n",
       "      <td>2013</td>\n",
       "      <td>33.951358</td>\n",
       "      <td>0.352453</td>\n",
       "    </tr>\n",
       "    <tr>\n",
       "      <th>2</th>\n",
       "      <td>2014</td>\n",
       "      <td>32.900673</td>\n",
       "      <td>0.453503</td>\n",
       "    </tr>\n",
       "    <tr>\n",
       "      <th>3</th>\n",
       "      <td>2015</td>\n",
       "      <td>32.931315</td>\n",
       "      <td>0.520324</td>\n",
       "    </tr>\n",
       "    <tr>\n",
       "      <th>4</th>\n",
       "      <td>2016</td>\n",
       "      <td>36.014788</td>\n",
       "      <td>0.505063</td>\n",
       "    </tr>\n",
       "  </tbody>\n",
       "</table>\n",
       "</div>"
      ],
      "text/plain": [
       "   YEAR   SPOSTMIN   SACTMIN\n",
       "0  2012  31.811774  1.047546\n",
       "1  2013  33.951358  0.352453\n",
       "2  2014  32.900673  0.453503\n",
       "3  2015  32.931315  0.520324\n",
       "4  2016  36.014788  0.505063"
      ]
     },
     "execution_count": 21,
     "metadata": {},
     "output_type": "execute_result"
    }
   ],
   "source": [
    "#aggregate by year\n",
    "year_splash = meta_splash2.groupby(['YEAR'])['SPOSTMIN','SACTMIN'].mean()\n",
    "year_splash = year_splash.reset_index()\n",
    "year_splash.head()"
   ]
  },
  {
   "cell_type": "code",
   "execution_count": 19,
   "metadata": {},
   "outputs": [
    {
     "data": {
      "text/plain": [
       "<matplotlib.axes._subplots.AxesSubplot at 0x7fd566bc95f8>"
      ]
     },
     "execution_count": 19,
     "metadata": {},
     "output_type": "execute_result"
    },
    {
     "data": {
      "image/png": "[encoded data removed]",
      "text/plain": [
       "<Figure size 432x288 with 1 Axes>"
      ]
     },
     "metadata": {
      "needs_background": "light"
     },
     "output_type": "display_data"
    }
   ],
   "source": [
    "#plot by day \n",
    "meta_splash2.plot(x=\"date\", y=[\"SPOSTMIN\", \"SACTMIN\"], kind=\"bar\")"
   ]
  },
  {
   "cell_type": "markdown",
   "metadata": {},
   "source": [
    "### Correlation between SPOSTMIN & Predictors"
   ]
  },
  {
   "cell_type": "code",
   "execution_count": null,
   "metadata": {},
   "outputs": [],
   "source": [
    "## Running same code on all of metasplash_2\n",
    "meta_splash2_corr = meta_splash2.corr()['SPOSTMIN'][:-2]\n",
    "golden_features_list_2 = meta_splash2_corr[abs(meta_splash2_corr) > 0.25].sort_values(ascending=False)\n",
    "print(\"There is {} strongly correlated values with SPOSTMIN:\\n{}\".format(len(golden_features_list_2), golden_features_list_2))"
   ]
  },
  {
   "cell_type": "markdown",
   "metadata": {},
   "source": [
    "## Visualizations"
   ]
  },
  {
   "cell_type": "markdown",
   "metadata": {},
   "source": [
    "#### Wait time by Week "
   ]
  },
  {
   "cell_type": "code",
   "execution_count": null,
   "metadata": {},
   "outputs": [],
   "source": [
    "week_avg = meta_splash2.groupby(\"WEEKOFYEAR\")[\"SPOSTMIN\"].mean()\n",
    "week_avg = week_avg.reset_index()\n",
    "week_avg = pd.DataFrame(week_avg,columns=['WEEKOFYEAR','SPOSTMIN'])\n",
    "ax = sns.barplot(x = \"WEEKOFYEAR\", y = \"SPOSTMIN\", data = week_avg)\n",
    "ax.set_title(\"Average Attendace by Week of the Year\")\n",
    "ax.set(xlabel='Week of the Year', ylabel='Average Attendance by Minute')\n",
    "plt.xticks(rotation = 90)"
   ]
  },
  {
   "cell_type": "code",
   "execution_count": null,
   "metadata": {},
   "outputs": [],
   "source": [
    "# Grouping by week and year\n",
    "\n",
    "#aggregate by month\n",
    "week_splash2 = meta_splash2.groupby(['WEEKOFYEAR', 'YEAR'])['SPOSTMIN'].mean().reset_index()\n",
    "\n",
    "week_splash2 = week_splash2.pivot(\"WEEKOFYEAR\", \"YEAR\", \"SPOSTMIN\").iloc[:,0:7]\n",
    "ax = sns.heatmap(week_splash2)"
   ]
  },
  {
   "cell_type": "markdown",
   "metadata": {},
   "source": [
    "#### Temperature vs Wait Time"
   ]
  },
  {
   "cell_type": "code",
   "execution_count": null,
   "metadata": {},
   "outputs": [],
   "source": [
    "meta_splash2.WDWMINTEMP_mean = meta_splash2.WDWMINTEMP_mean.round()\n",
    "avg_temp = meta_splash2.groupby(\"WDWMINTEMP_mean\")[\"SPOSTMIN\"].mean()\n",
    "avg_temp = avg_temp.reset_index()\n",
    "avg_temp = pd.DataFrame(avg_temp,columns=['WDWMINTEMP_mean','SPOSTMIN'])\n",
    "\n",
    "\n",
    "ax = sns.barplot(x = \"WDWMINTEMP_mean\", y = \"SPOSTMIN\", data = avg_temp)\n",
    "ax.set_title(\"Average Attendace by Temperature\")\n",
    "ax.set(xlabel='Temperature', ylabel='Average Attendance by Minute')\n",
    "plt.xticks(rotation = 90)"
   ]
  },
  {
   "cell_type": "code",
   "execution_count": null,
   "metadata": {},
   "outputs": [],
   "source": [
    "# Grouping by temperature and year\n",
    "\n",
    "#aggregate by month\n",
    "temp_splash2 = meta_splash2.groupby(['WDWMINTEMP_mean', 'YEAR'])['SPOSTMIN'].mean().reset_index()\n",
    "\n",
    "temp_splash2 = temp_splash2.pivot(\"WDWMINTEMP_mean\", \"YEAR\", \"SPOSTMIN\")\n",
    "temp_splash2\n",
    "ax = sns.heatmap(temp_splash2)"
   ]
  },
  {
   "cell_type": "markdown",
   "metadata": {},
   "source": [
    "#### Park Hour vs Wait Time "
   ]
  },
  {
   "cell_type": "code",
   "execution_count": null,
   "metadata": {},
   "outputs": [],
   "source": [
    "park_hour_df = meta_splash2[['SPOSTMIN','MKHOURS','MKOPEN','MKCLOSE','SEASON']]\n",
    "#park_hour_df = park_hour_df[park_hour_df.MKHOURS != 14.91666667]\n",
    "#park_hour_df = park_hour_df[park_hour_df.MKHOURS != 23.98333333]\n",
    "park_hour_df.MKHOURS = park_hour_df.MKHOURS.round()\n",
    "park_hour_df.MKHOURS.unique()"
   ]
  },
  {
   "cell_type": "code",
   "execution_count": null,
   "metadata": {},
   "outputs": [],
   "source": [
    "park_hour_df = meta_splash2[['SPOSTMIN','MKHOURS','MKOPEN','MKCLOSE','SEASON']]\n",
    "#park_hour_df = park_hour_df[park_hour_df.MKHOURS != 14.91666667]\n",
    "#park_hour_df = park_hour_df[park_hour_df.MKHOURS != 23.98333333]\n",
    "park_hour_df.MKHOURS = park_hour_df.MKHOURS.round()\n",
    "park_hour_df.MKHOURS.unique()\n",
    "\n",
    "park_hour_df = park_hour_df.groupby(\"MKHOURS\")[\"SPOSTMIN\"].mean()\n",
    "park_hour_df = park_hour_df.reset_index()\n",
    "park_hour_df.head(n=3)\n",
    "#park_hour_df = pd.DataFrame(avg_temp,columns=['MKHOURS','SPOSTMIN','SEASON'])\n",
    "\n",
    "\n",
    "ax = sns.barplot(x = \"MKHOURS\", y = \"SPOSTMIN\", data = park_hour_df)\n",
    "ax.set_title(\"Average Attendace by Park Hour\")\n",
    "ax.set(xlabel='Park Hour', ylabel='Average Attendance by Minute')"
   ]
  },
  {
   "cell_type": "code",
   "execution_count": null,
   "metadata": {},
   "outputs": [],
   "source": [
    "meta_splash3 = meta_splash2\n",
    "meta_splash3.MKHOURS = meta_splash3.MKHOURS.round()\n",
    "park_h_splash2 = meta_splash3.groupby(['MKHOURS', 'YEAR'])['SPOSTMIN'].mean().reset_index()\n",
    "\n",
    "park_h_splash2 = park_h_splash2.pivot(\"MKHOURS\", \"YEAR\", \"SPOSTMIN\")\n",
    "ax = sns.heatmap(park_h_splash2)"
   ]
  },
  {
   "cell_type": "markdown",
   "metadata": {},
   "source": [
    "#### Plotting Average Waittime by season"
   ]
  },
  {
   "cell_type": "code",
   "execution_count": null,
   "metadata": {},
   "outputs": [],
   "source": [
    "#Plotting by season\n",
    "#First getting number of counts of observations per season:\n",
    "print(meta_splash2.groupby('SEASON')['date'].count())\n",
    "\n",
    "seasonal_splash = meta_splash2.groupby('SEASON')['SPOSTMIN'].mean().reset_index()\n",
    "seasonal_splash"
   ]
  },
  {
   "cell_type": "code",
   "execution_count": null,
   "metadata": {},
   "outputs": [],
   "source": [
    "#Plot splash wait times by season:\n",
    "ax = sns.barplot(x=\"SPOSTMIN\", y = \"SEASON\", data = seasonal_splash)\n",
    "ax.set(xlabel = 'Average Wait Time (Minutes)', ylabel = 'SEASON', title = 'Average Wait Time for Splash Mountain by Season')\n",
    "plt.xticks(rotation = 45)"
   ]
  },
  {
   "cell_type": "markdown",
   "metadata": {},
   "source": [
    "#### Average Wait Time Per Month for Splash Mountain Ride\n",
    "We see that on average wait times are the longest during peak summer months of July, June"
   ]
  },
  {
   "cell_type": "code",
   "execution_count": null,
   "metadata": {},
   "outputs": [],
   "source": [
    "# Grouping by month and year\n",
    "\n",
    "#aggregate by month\n",
    "month_splash2 = meta_splash2.groupby(['MONTH', 'YEAR'])['SPOSTMIN'].mean().reset_index()\n",
    "month_splash2 = month_splash2.pivot(\"MONTH\", \"YEAR\", \"SPOSTMIN\").iloc[:,0:7] # Position based indexing\n",
    "\n",
    "ax = sns.heatmap(month_splash2, cmap=\"YlGnBu\")\n",
    "ax.set_title('Splash Mountain Heatmap Month & Year')"
   ]
  },
  {
   "cell_type": "markdown",
   "metadata": {},
   "source": [
    "White indicates when Magic Mountain was shut down for refurbishment"
   ]
  },
  {
   "cell_type": "code",
   "execution_count": null,
   "metadata": {},
   "outputs": [],
   "source": [
    "#aggregate by month\n",
    "month_splash2 = meta_splash2.groupby(['MONTH'])['SPOSTMIN'].mean()\n",
    "month_splash2 = month_splash2.reset_index()\n",
    "\n",
    "ax = sns.barplot(x=\"MONTH\", y = \"SPOSTMIN\", data = month_splash2)\n",
    "ax.set(xlabel = 'Month', ylabel = 'Average Wait Time (Minutes)', title = 'Average Wait Time at Splash Mountain')\n",
    "plt.xticks(rotation = 45)"
   ]
  },
  {
   "cell_type": "code",
   "execution_count": null,
   "metadata": {},
   "outputs": [],
   "source": [
    "month_splash2.loc[month_splash2['SPOSTMIN'].idxmax()] #Row with max index"
   ]
  },
  {
   "cell_type": "markdown",
   "metadata": {},
   "source": [
    "The month of July has the longest wait time on average. Let's take a closer look of the Month of July!\n",
    "#### Select July Only"
   ]
  },
  {
   "cell_type": "code",
   "execution_count": null,
   "metadata": {},
   "outputs": [],
   "source": [
    "july = meta_splash2[meta_splash2['MONTH'] == \"July\"]\n",
    "# Printing Wait Times\n",
    "\n",
    "print(july['SPOSTMIN'].describe())\n",
    "sns.distplot(july['SPOSTMIN'], color='g', bins=100, hist_kws={'alpha': 0.4});"
   ]
  },
  {
   "cell_type": "code",
   "execution_count": null,
   "metadata": {},
   "outputs": [],
   "source": [
    "# How many Holidays in July?\n",
    "july['HOLIDAYN'].drop_duplicates()"
   ]
  },
  {
   "cell_type": "markdown",
   "metadata": {},
   "source": [
    "Just one holiday in July, Indepdence Day. Lets look at hourly data on July 4th, Indepenence day!"
   ]
  },
  {
   "cell_type": "code",
   "execution_count": null,
   "metadata": {},
   "outputs": [],
   "source": [
    "# Longest Wait Time in July 4th of 2017\n",
    "july.loc[july['SPOSTMIN'].idxmax(), 'SPOSTMIN']"
   ]
  },
  {
   "cell_type": "code",
   "execution_count": null,
   "metadata": {},
   "outputs": [],
   "source": [
    "## Finding Strongly Correlated Variables in July\n",
    "july\n",
    "july_corr = july.corr()['SPOSTMIN'][:-2] # -1 because the latest row is spostmin\n",
    "golden_features_list = july_corr[abs(july_corr) > 0.2].sort_values(ascending=False)\n",
    "print(\"There is {} strongly correlated values with SPOSTMIN:\\n{}\".format(len(golden_features_list), golden_features_list))"
   ]
  },
  {
   "cell_type": "markdown",
   "metadata": {},
   "source": [
    "#### Average Wait Time Per Day From 2012-2019 For Splash Mountain"
   ]
  },
  {
   "cell_type": "code",
   "execution_count": null,
   "metadata": {
    "scrolled": true
   },
   "outputs": [],
   "source": [
    "day_splash2 = meta_splash2.groupby('DAY')['SPOSTMIN'].mean()\n",
    "day_splash2 = day_splash2.reset_index()\n",
    "\n",
    "ax = sns.barplot(x=\"DAY\", y = \"SPOSTMIN\", data = day_splash2)\n",
    "ax.set(xlabel = 'Day of Week', ylabel = 'Average Wait Time (Minutes)', title = 'Average Wait Time at Splash Mountain')\n",
    "plt.xticks(rotation = 45)"
   ]
  },
  {
   "cell_type": "markdown",
   "metadata": {},
   "source": [
    "### Wait times in relation to other rides\n",
    "#### Read in other rides wait time data and merge with meta:"
   ]
  },
  {
   "cell_type": "code",
   "execution_count": null,
   "metadata": {},
   "outputs": [],
   "source": [
    "#Merging each ride with meta_data, using date as key\n",
    "#First need to change the date column to datetime so it can be merged with meta dataset.\n",
    "pirates['date'] = pd.to_datetime(pirates['date'])\n",
    "seven_dwarfs['date'] = pd.to_datetime(seven_dwarfs['date'])\n"
   ]
  },
  {
   "cell_type": "code",
   "execution_count": null,
   "metadata": {},
   "outputs": [],
   "source": [
    "meta_pirates = pd.merge(pirates, meta, left_on=\"date\", right_on=\"DATE\").drop('DATE', axis = 1)\n",
    "meta_dwarfs = pd.merge(seven_dwarfs, meta, left_on=\"date\", right_on=\"DATE\").drop('DATE', axis = 1)"
   ]
  },
  {
   "cell_type": "code",
   "execution_count": null,
   "metadata": {},
   "outputs": [],
   "source": [
    "#Deleting irrelevant columns for faster processing\n",
    "filter_col = [col for col in meta_pirates if col.startswith('AK') | col.startswith('HS') | col.startswith('EP')]\n",
    "len(filter_col)\n",
    "meta_pirates = meta_pirates.drop(filter_col,axis=1)"
   ]
  },
  {
   "cell_type": "code",
   "execution_count": null,
   "metadata": {},
   "outputs": [],
   "source": [
    "filter_col = [col for col in meta_dwarfs if col.startswith('AK') | col.startswith('HS') | col.startswith('EP')]\n",
    "len(filter_col)\n",
    "meta_dwarfs = meta_dwarfs.drop(filter_col,axis=1)"
   ]
  },
  {
   "cell_type": "code",
   "execution_count": null,
   "metadata": {},
   "outputs": [],
   "source": [
    "#Fill NA with 0\n",
    "meta_pirates = meta_pirates.fillna(0)\n",
    "meta_pirates.head()"
   ]
  },
  {
   "cell_type": "code",
   "execution_count": null,
   "metadata": {},
   "outputs": [],
   "source": [
    "#Need to separate into separate cells or kernal will die\n",
    "meta_dwarfs = meta_dwarfs.fillna(0)\n",
    "meta_dwarfs.head()"
   ]
  },
  {
   "cell_type": "code",
   "execution_count": null,
   "metadata": {},
   "outputs": [],
   "source": [
    "print(meta_pirates.shape, meta_dwarfs.shape)"
   ]
  },
  {
   "cell_type": "code",
   "execution_count": null,
   "metadata": {},
   "outputs": [],
   "source": [
    "#Creating new datasets, only selecting specific columns, and adding a ride specification column\n",
    "pirateswait = meta_pirates[['date','datetime','SPOSTMIN','SACTMIN','SEASON','YEAR']]\n",
    "pirateswait['Ride'] = 'Pirates'\n",
    "dwarfswait = meta_dwarfs[['date','datetime','SPOSTMIN','SACTMIN','SEASON','YEAR']]\n",
    "dwarfswait['Ride'] = 'Seven Dwarfs'\n",
    "splashwait = meta_splash[['date','datetime','SPOSTMIN','SACTMIN','SEASON','YEAR']]\n",
    "splashwait['Ride'] = 'Splash Mountain'\n",
    "splashwait.head()"
   ]
  },
  {
   "cell_type": "code",
   "execution_count": null,
   "metadata": {},
   "outputs": [],
   "source": [
    "#Combine all three rides into one dataset to plot their wait times against each other\n",
    "allrides = pd.concat([pirateswait, dwarfswait, splashwait])\n",
    "allrides['datetime'] = pd.to_datetime(allrides['datetime'], infer_datetime_format=True)\n",
    "allrides.shape"
   ]
  },
  {
   "cell_type": "code",
   "execution_count": null,
   "metadata": {},
   "outputs": [],
   "source": [
    "#Plot for July 4th of 2018\n",
    "july = allrides.loc[(allrides.date == \"2018-7-4\")]\n",
    "\n",
    "print(july['Ride'].value_counts())\n",
    "\n",
    "plt.figure(figsize=(8,8))\n",
    "ax = sns.lineplot(x=\"datetime\", y=\"SPOSTMIN\", hue = \"Ride\", data=july)\n",
    "plt.xticks(rotation = 45)\n",
    "ax.set(xlabel=\"Date and Time (Hour)\", ylabel=\"Posted Wait Time\")\n",
    "ax.set(title=\"Wait Times on July 4, 2018\")\n",
    "myFmt = mdates.DateFormatter('%m-%d %H:%M')\n",
    "ax.xaxis.set_major_formatter(myFmt)\n",
    "ax.legend(loc='lower center', frameon=False)\n"
   ]
  },
  {
   "cell_type": "markdown",
   "metadata": {},
   "source": [
    "##### Now, looking at july 4th wait times for each year, to compare against each other."
   ]
  },
  {
   "cell_type": "code",
   "execution_count": null,
   "metadata": {},
   "outputs": [],
   "source": [
    "#Getting only july fourth dates for all years for all rides\n",
    "july4th = allrides.loc[(allrides.date.dt.day == 4) & (allrides.date.dt.month == 7)]\n",
    "print(july4th.shape)\n",
    "july4th.head(5)"
   ]
  },
  {
   "cell_type": "code",
   "execution_count": null,
   "metadata": {},
   "outputs": [],
   "source": [
    "july4th['YEAR'].value_counts()"
   ]
  },
  {
   "cell_type": "markdown",
   "metadata": {},
   "source": [
    "Only 11 observations for 2012."
   ]
  },
  {
   "cell_type": "code",
   "execution_count": null,
   "metadata": {},
   "outputs": [],
   "source": [
    "#Split by year\n",
    "july2012, july2013, july2014, july2015, july2016, july2017, july2018 = [x for _, x in july4th.groupby('YEAR')]"
   ]
  },
  {
   "cell_type": "code",
   "execution_count": null,
   "metadata": {},
   "outputs": [],
   "source": [
    "palette ={\"Pirates\":\"C0\",\"Seven Dwarfs\":\"C1\",\"Splash Mountain\":\"C2\"}\n",
    "\n",
    "fig, ax = plt.subplots(2, 2, figsize=(13,10))\n",
    "fig.tight_layout()\n",
    "sns.lineplot(x=\"datetime\", y=\"SPOSTMIN\", hue = \"Ride\", palette = palette, data=july2012, ax = ax[0,0])\n",
    "sns.lineplot(x=\"datetime\", y=\"SPOSTMIN\", hue = \"Ride\", palette = palette, data=july2013, ax = ax[0,1])\n",
    "sns.lineplot(x=\"datetime\", y=\"SPOSTMIN\", hue = \"Ride\", palette = palette, data=july2014, ax = ax[1,0])\n",
    "sns.lineplot(x=\"datetime\", y=\"SPOSTMIN\", hue = \"Ride\", palette = palette, data=july2015, ax = ax[1,1])\n",
    "plt.subplots_adjust(hspace = 0.3)\n",
    "fig.show()\n",
    "\n",
    "for i in range(4):\n",
    "    ax[i//2, i % 2].legend(loc='lower center', frameon=False)\n",
    "    myFmt = mdates.DateFormatter('%m-%d %H:%M')\n",
    "    ax[i//2, i % 2].xaxis.set_major_formatter(myFmt)\n",
    "    for tick in ax[i//2, i % 2].get_xticklabels():\n",
    "        tick.set_rotation(30)\n",
    "        \n",
    "ax[0,0].set_title('Posted Wait Times on July 4, 2012')\n",
    "ax[0,1].set_title('Posted Wait Times on July 4, 2013')\n",
    "ax[1,0].set_title('Posted Wait Times on July 4, 2014')\n",
    "ax[1,1].set_title('Posted Wait Times on July 4, 2015')\n",
    "\n",
    "\n",
    "#fig, ax = plt.subplots(1, 3, figsize=(13,7))\n",
    "fig, ax = plt.subplots(1, 3, figsize=(20,7))\n",
    "fig.tight_layout()\n",
    "sns.lineplot(x=\"datetime\", y=\"SPOSTMIN\", hue = \"Ride\", palette = palette,  data=july2016, ax = ax[0])\n",
    "sns.lineplot(x=\"datetime\", y=\"SPOSTMIN\", hue = \"Ride\", palette = palette, data=july2017, ax = ax[1])\n",
    "sns.lineplot(x=\"datetime\", y=\"SPOSTMIN\", hue = \"Ride\", palette = palette, data=july2018, ax = ax[2])\n",
    "for i in range(3):\n",
    "    ax[i].legend(loc='lower center', frameon=False)\n",
    "    myFmt = mdates.DateFormatter('%m-%d %H:%M')\n",
    "    ax[i].xaxis.set_major_formatter(myFmt)\n",
    "    for tick in ax[i].get_xticklabels():\n",
    "        tick.set_rotation(45)\n",
    "\n",
    "ax[0].set_title('Posted Wait Times on July 4, 2016')\n",
    "ax[1].set_title('Posted Wait Times on July 4, 2017')\n",
    "ax[2].set_title('Posted Wait Times on July 4, 2018')"
   ]
  },
  {
   "cell_type": "code",
   "execution_count": null,
   "metadata": {},
   "outputs": [],
   "source": [
    "#Seeing the maximum posted wait time per ride per year\n",
    "july2012max = july2012.groupby(['Ride'], as_index=False)['SPOSTMIN'].max()\n",
    "july2013max = july2013.groupby(['Ride'], as_index=False)['SPOSTMIN'].max()\n",
    "july2014max = july2014.groupby(['Ride'], as_index=False)['SPOSTMIN'].max()\n",
    "july2015max = july2015.groupby(['Ride'], as_index=False)['SPOSTMIN'].max()\n",
    "july2016max = july2016.groupby(['Ride'], as_index=False)['SPOSTMIN'].max()\n",
    "july2017max = july2017.groupby(['Ride'], as_index=False)['SPOSTMIN'].max()\n",
    "july2018max = july2018.groupby(['Ride'], as_index=False)['SPOSTMIN'].max()\n",
    "\n",
    "dfs = [july2012max,july2013max,july2014max,july2015max,july2016max,july2017max,july2018max]\n",
    "years = ['2012','2013','2014','2015','2016','2017','2018']\n",
    "df_keys = pd.concat(dfs, keys= years)\n",
    "df_keys"
   ]
  },
  {
   "cell_type": "markdown",
   "metadata": {},
   "source": [
    "### Time Series \n",
    "#### Plotting Average Wait Time per day by Year"
   ]
  },
  {
   "cell_type": "code",
   "execution_count": null,
   "metadata": {},
   "outputs": [],
   "source": [
    "avg = meta_splash2\n",
    "def dateplot(x, y, **kwargs):\n",
    "    ax = plt.gca()\n",
    "    data = kwargs.pop(\"data\")\n",
    "    data.plot(x=x, y=y, ax=ax, grid=False, **kwargs)\n",
    "\n",
    "ax = sns.FacetGrid(avg, col=\"YEAR\",col_wrap=2, height=3.5)\n",
    "ax = ax.map_dataframe(dateplot, \"DAYOFYEAR\", \"SPOSTMIN\")"
   ]
  },
  {
   "cell_type": "code",
   "execution_count": null,
   "metadata": {},
   "outputs": [],
   "source": [
    "print(avg.groupby('YEAR')['date'].count())"
   ]
  }
 ],
 "metadata": {
  "kernelspec": {
   "display_name": "Python 3",
   "language": "python",
   "name": "python3"
  },
  "language_info": {
   "codemirror_mode": {
    "name": "ipython",
    "version": 3
   },
   "file_extension": ".py",
   "mimetype": "text/x-python",
   "name": "python",
   "nbconvert_exporter": "python",
   "pygments_lexer": "ipython3",
   "version": "3.6.7"
  }
 },
 "nbformat": 4,
 "nbformat_minor": 2
}
