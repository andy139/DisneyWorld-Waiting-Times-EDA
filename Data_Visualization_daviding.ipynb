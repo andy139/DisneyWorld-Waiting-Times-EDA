{
 "cells": [
  {
   "cell_type": "markdown",
   "metadata": {},
   "source": [
    "# Exploring Disney Land Wait Time Data Set "
   ]
  },
  {
   "cell_type": "code",
   "execution_count": 1,
   "metadata": {},
   "outputs": [],
   "source": [
    "import pandas as pd ## call pandas functions using \"pd\"\n",
    "import numpy as np  ## call numpy functions using \"np\"\n",
    "import matplotlib.pyplot as plt\n",
    "import seaborn as sns\n",
    "\n",
    "#import meta data\n",
    "disney_data = pd.read_csv(\"disney.csv\")\n",
    "\n",
    "#import magic kingdom rides (wait times)\n",
    "splash_mtn = pd.read_csv(\"splash_mountain.csv\")\n",
    "seven_dwarfs = pd.read_csv(\"7_dwarfs_train.csv\")\n",
    "pirates = pd.read_csv('pirates_of_caribbean.csv')"
   ]
  },
  {
   "cell_type": "code",
   "execution_count": 2,
   "metadata": {},
   "outputs": [],
   "source": [
    "# Dropping sactmin from magic world rides, then dropping NaN from spostmin\n",
    "\n",
    "# Drop rows where wait time is not available (-999)\n",
    "pirates = pirates[pirates.SPOSTMIN > 0]\n",
    "seven_dwarfs = seven_dwarfs[seven_dwarfs.SPOSTMIN > 0]\n",
    "splash_mtn = splash_mtn[splash_mtn.SPOSTMIN > 0]"
   ]
  },
  {
   "cell_type": "markdown",
   "metadata": {},
   "source": [
    "# Dwarf Ride Analysis"
   ]
  },
  {
   "cell_type": "code",
   "execution_count": 3,
   "metadata": {},
   "outputs": [],
   "source": [
    "meta_dwarf = pd.merge(seven_dwarfs, disney_data, left_on=\"date\", right_on=\"DATE\").drop('DATE', axis = 1)"
   ]
  },
  {
   "cell_type": "code",
   "execution_count": 4,
   "metadata": {},
   "outputs": [
    {
     "data": {
      "text/html": [
       "<div>\n",
       "<style scoped>\n",
       "    .dataframe tbody tr th:only-of-type {\n",
       "        vertical-align: middle;\n",
       "    }\n",
       "\n",
       "    .dataframe tbody tr th {\n",
       "        vertical-align: top;\n",
       "    }\n",
       "\n",
       "    .dataframe thead th {\n",
       "        text-align: right;\n",
       "    }\n",
       "</style>\n",
       "<table border=\"1\" class=\"dataframe\">\n",
       "  <thead>\n",
       "    <tr style=\"text-align: right;\">\n",
       "      <th></th>\n",
       "      <th>date</th>\n",
       "      <th>datetime</th>\n",
       "      <th>SPOSTMIN</th>\n",
       "      <th>SACTMIN</th>\n",
       "      <th>WDW_TICKET_SEASON</th>\n",
       "      <th>DAYOFWEEK</th>\n",
       "      <th>DAYOFYEAR</th>\n",
       "      <th>WEEKOFYEAR</th>\n",
       "      <th>MONTHOFYEAR</th>\n",
       "      <th>YEAR</th>\n",
       "      <th>...</th>\n",
       "      <th>HSFIREWKS</th>\n",
       "      <th>AKPRDDAY</th>\n",
       "      <th>AKPRDDT1</th>\n",
       "      <th>AKPRDDT2</th>\n",
       "      <th>AKPRDDN</th>\n",
       "      <th>AKFIREN</th>\n",
       "      <th>AKSHWNGT</th>\n",
       "      <th>AKSHWNT1</th>\n",
       "      <th>AKSHWNT2</th>\n",
       "      <th>AKSHWNN</th>\n",
       "    </tr>\n",
       "  </thead>\n",
       "  <tbody>\n",
       "    <tr>\n",
       "      <th>379</th>\n",
       "      <td>2014-05-28</td>\n",
       "      <td>2014-05-28 09:10:00</td>\n",
       "      <td>90.0</td>\n",
       "      <td>0.0</td>\n",
       "      <td>0</td>\n",
       "      <td>4</td>\n",
       "      <td>147</td>\n",
       "      <td>21</td>\n",
       "      <td>5</td>\n",
       "      <td>2014</td>\n",
       "      <td>...</td>\n",
       "      <td>1</td>\n",
       "      <td>1</td>\n",
       "      <td>15:45</td>\n",
       "      <td>0.0</td>\n",
       "      <td>Mickey's Jammin' Jungle Parade</td>\n",
       "      <td>0.0</td>\n",
       "      <td>0</td>\n",
       "      <td>0</td>\n",
       "      <td>0</td>\n",
       "      <td>0</td>\n",
       "    </tr>\n",
       "    <tr>\n",
       "      <th>380</th>\n",
       "      <td>2014-05-28</td>\n",
       "      <td>2014-05-28 09:18:00</td>\n",
       "      <td>120.0</td>\n",
       "      <td>0.0</td>\n",
       "      <td>0</td>\n",
       "      <td>4</td>\n",
       "      <td>147</td>\n",
       "      <td>21</td>\n",
       "      <td>5</td>\n",
       "      <td>2014</td>\n",
       "      <td>...</td>\n",
       "      <td>1</td>\n",
       "      <td>1</td>\n",
       "      <td>15:45</td>\n",
       "      <td>0.0</td>\n",
       "      <td>Mickey's Jammin' Jungle Parade</td>\n",
       "      <td>0.0</td>\n",
       "      <td>0</td>\n",
       "      <td>0</td>\n",
       "      <td>0</td>\n",
       "      <td>0</td>\n",
       "    </tr>\n",
       "    <tr>\n",
       "      <th>381</th>\n",
       "      <td>2014-05-28</td>\n",
       "      <td>2014-05-28 09:24:00</td>\n",
       "      <td>180.0</td>\n",
       "      <td>0.0</td>\n",
       "      <td>0</td>\n",
       "      <td>4</td>\n",
       "      <td>147</td>\n",
       "      <td>21</td>\n",
       "      <td>5</td>\n",
       "      <td>2014</td>\n",
       "      <td>...</td>\n",
       "      <td>1</td>\n",
       "      <td>1</td>\n",
       "      <td>15:45</td>\n",
       "      <td>0.0</td>\n",
       "      <td>Mickey's Jammin' Jungle Parade</td>\n",
       "      <td>0.0</td>\n",
       "      <td>0</td>\n",
       "      <td>0</td>\n",
       "      <td>0</td>\n",
       "      <td>0</td>\n",
       "    </tr>\n",
       "  </tbody>\n",
       "</table>\n",
       "<p>3 rows × 193 columns</p>\n",
       "</div>"
      ],
      "text/plain": [
       "          date             datetime  SPOSTMIN  SACTMIN WDW_TICKET_SEASON  \\\n",
       "379 2014-05-28  2014-05-28 09:10:00      90.0      0.0                 0   \n",
       "380 2014-05-28  2014-05-28 09:18:00     120.0      0.0                 0   \n",
       "381 2014-05-28  2014-05-28 09:24:00     180.0      0.0                 0   \n",
       "\n",
       "     DAYOFWEEK  DAYOFYEAR  WEEKOFYEAR  MONTHOFYEAR  YEAR  ... HSFIREWKS  \\\n",
       "379          4        147          21            5  2014  ...         1   \n",
       "380          4        147          21            5  2014  ...         1   \n",
       "381          4        147          21            5  2014  ...         1   \n",
       "\n",
       "     AKPRDDAY  AKPRDDT1 AKPRDDT2                         AKPRDDN AKFIREN  \\\n",
       "379         1     15:45      0.0  Mickey's Jammin' Jungle Parade     0.0   \n",
       "380         1     15:45      0.0  Mickey's Jammin' Jungle Parade     0.0   \n",
       "381         1     15:45      0.0  Mickey's Jammin' Jungle Parade     0.0   \n",
       "\n",
       "    AKSHWNGT AKSHWNT1  AKSHWNT2  AKSHWNN  \n",
       "379        0        0         0        0  \n",
       "380        0        0         0        0  \n",
       "381        0        0         0        0  \n",
       "\n",
       "[3 rows x 193 columns]"
      ]
     },
     "execution_count": 4,
     "metadata": {},
     "output_type": "execute_result"
    }
   ],
   "source": [
    "meta_dwarf = meta_dwarf.fillna(0)\n",
    "meta_dwarf['date'] = pd.to_datetime(meta_dwarf['date'])\n",
    "##Drop date before ride opening on  May 28th 2014\n",
    "meta_dwarf =  meta_dwarf[meta_dwarf.date >= \"2014-5-28\"]\n",
    "meta_dwarf.head(n = 3)"
   ]
  },
  {
   "cell_type": "code",
   "execution_count": 5,
   "metadata": {
    "scrolled": true
   },
   "outputs": [
    {
     "data": {
      "text/plain": [
       "date\n",
       "2014-05-28     83.371212\n",
       "2014-05-29     85.463918\n",
       "2014-05-30     81.181818\n",
       "2014-05-31    107.908163\n",
       "2014-06-01     93.421053\n",
       "2014-06-02     96.478261\n",
       "2014-06-03     78.769841\n",
       "2014-06-04     92.634409\n",
       "2014-06-05     68.785714\n",
       "2014-06-06     91.028037\n",
       "Name: SPOSTMIN, dtype: float64"
      ]
     },
     "execution_count": 5,
     "metadata": {},
     "output_type": "execute_result"
    }
   ],
   "source": [
    "avg_wait = meta_dwarf.groupby('date')['SPOSTMIN'].mean()\n",
    "avg_wait.head(n = 10)"
   ]
  },
  {
   "cell_type": "code",
   "execution_count": 6,
   "metadata": {},
   "outputs": [],
   "source": [
    "#sum all posted wait times by day\n",
    "sum_by_day = meta_dwarf.groupby('date')['SPOSTMIN'].sum()\n",
    "#reset index to create dataframe columns\n",
    "sum_by_day = sum_by_day.reset_index()\n",
    "sum_by_day = pd.DataFrame(sum_by_day,columns=['date','SPOSTMIN'])"
   ]
  },
  {
   "cell_type": "code",
   "execution_count": 7,
   "metadata": {},
   "outputs": [],
   "source": [
    "#format the date in the correct way to be manipulated\n",
    "sum_by_day['date'] = pd.to_datetime(sum_by_day['date'])"
   ]
  },
  {
   "cell_type": "code",
   "execution_count": 11,
   "metadata": {},
   "outputs": [
    {
     "data": {
      "text/html": [
       "<div>\n",
       "<style scoped>\n",
       "    .dataframe tbody tr th:only-of-type {\n",
       "        vertical-align: middle;\n",
       "    }\n",
       "\n",
       "    .dataframe tbody tr th {\n",
       "        vertical-align: top;\n",
       "    }\n",
       "\n",
       "    .dataframe thead th {\n",
       "        text-align: right;\n",
       "    }\n",
       "</style>\n",
       "<table border=\"1\" class=\"dataframe\">\n",
       "  <thead>\n",
       "    <tr style=\"text-align: right;\">\n",
       "      <th></th>\n",
       "      <th>date</th>\n",
       "      <th>SPOSTMIN</th>\n",
       "    </tr>\n",
       "  </thead>\n",
       "  <tbody>\n",
       "    <tr>\n",
       "      <th>0</th>\n",
       "      <td>2014-05-28</td>\n",
       "      <td>83.371212</td>\n",
       "    </tr>\n",
       "    <tr>\n",
       "      <th>1</th>\n",
       "      <td>2014-05-29</td>\n",
       "      <td>85.463918</td>\n",
       "    </tr>\n",
       "    <tr>\n",
       "      <th>2</th>\n",
       "      <td>2014-05-30</td>\n",
       "      <td>81.181818</td>\n",
       "    </tr>\n",
       "    <tr>\n",
       "      <th>3</th>\n",
       "      <td>2014-05-31</td>\n",
       "      <td>107.908163</td>\n",
       "    </tr>\n",
       "    <tr>\n",
       "      <th>4</th>\n",
       "      <td>2014-06-01</td>\n",
       "      <td>93.421053</td>\n",
       "    </tr>\n",
       "  </tbody>\n",
       "</table>\n",
       "</div>"
      ],
      "text/plain": [
       "        date    SPOSTMIN\n",
       "0 2014-05-28   83.371212\n",
       "1 2014-05-29   85.463918\n",
       "2 2014-05-30   81.181818\n",
       "3 2014-05-31  107.908163\n",
       "4 2014-06-01   93.421053"
      ]
     },
     "execution_count": 11,
     "metadata": {},
     "output_type": "execute_result"
    }
   ],
   "source": [
    "#compute weighted average of posted wait times by day\n",
    "avg = meta_dwarf.groupby('date')['SPOSTMIN'].mean()\n",
    "#reset index to create dataframe columns\n",
    "avg = avg.reset_index()\n",
    "#name columns of df\n",
    "avg = pd.DataFrame(avg,columns=['date','SPOSTMIN'])\n",
    "avg.head()"
   ]
  },
  {
   "cell_type": "code",
   "execution_count": 12,
   "metadata": {},
   "outputs": [
    {
     "name": "stderr",
     "output_type": "stream",
     "text": [
      "/opt/conda/lib/python3.6/site-packages/pandas/plotting/_converter.py:129: FutureWarning: Using an implicitly registered datetime converter for a matplotlib plotting method. The converter was registered by pandas on import. Future versions of pandas will require you to explicitly register matplotlib converters.\n",
      "\n",
      "To register the converters:\n",
      "\t>>> from pandas.plotting import register_matplotlib_converters\n",
      "\t>>> register_matplotlib_converters()\n",
      "  warnings.warn(msg, FutureWarning)\n"
     ]
    },
    {
     "data": {
      "image/png": "[encoded data removed]",
      "text/plain": [
       "<Figure size 432x288 with 1 Axes>"
      ]
     },
     "metadata": {
      "needs_background": "light"
     },
     "output_type": "display_data"
    }
   ],
   "source": [
    "ax = sns.lineplot(x = avg.date, y = avg.SPOSTMIN )\n"
   ]
  },
  {
   "cell_type": "code",
   "execution_count": 13,
   "metadata": {},
   "outputs": [],
   "source": [
    "disney_data['DATE'] = pd.to_datetime(disney_data['DATE'])\n",
    "#merge back with original meta set for daily weighted averages\n",
    "meta_dwarf2 = pd.merge(avg, disney_data, left_on=\"date\", right_on=\"DATE\").drop('DATE', axis = 1)"
   ]
  },
  {
   "cell_type": "code",
   "execution_count": 21,
   "metadata": {},
   "outputs": [
    {
     "data": {
      "text/html": [
       "<div>\n",
       "<style scoped>\n",
       "    .dataframe tbody tr th:only-of-type {\n",
       "        vertical-align: middle;\n",
       "    }\n",
       "\n",
       "    .dataframe tbody tr th {\n",
       "        vertical-align: top;\n",
       "    }\n",
       "\n",
       "    .dataframe thead th {\n",
       "        text-align: right;\n",
       "    }\n",
       "</style>\n",
       "<table border=\"1\" class=\"dataframe\">\n",
       "  <thead>\n",
       "    <tr style=\"text-align: right;\">\n",
       "      <th></th>\n",
       "      <th>date</th>\n",
       "      <th>SPOSTMIN</th>\n",
       "      <th>WDW_TICKET_SEASON</th>\n",
       "      <th>DAYOFWEEK</th>\n",
       "      <th>DAYOFYEAR</th>\n",
       "      <th>WEEKOFYEAR</th>\n",
       "      <th>MONTHOFYEAR</th>\n",
       "      <th>YEAR</th>\n",
       "      <th>SEASON</th>\n",
       "      <th>HOLIDAYPX</th>\n",
       "      <th>...</th>\n",
       "      <th>HSFIREWKS</th>\n",
       "      <th>AKPRDDAY</th>\n",
       "      <th>AKPRDDT1</th>\n",
       "      <th>AKPRDDT2</th>\n",
       "      <th>AKPRDDN</th>\n",
       "      <th>AKFIREN</th>\n",
       "      <th>AKSHWNGT</th>\n",
       "      <th>AKSHWNT1</th>\n",
       "      <th>AKSHWNT2</th>\n",
       "      <th>AKSHWNN</th>\n",
       "    </tr>\n",
       "  </thead>\n",
       "  <tbody>\n",
       "    <tr>\n",
       "      <th>0</th>\n",
       "      <td>2014-05-28</td>\n",
       "      <td>83.371212</td>\n",
       "      <td>0</td>\n",
       "      <td>4</td>\n",
       "      <td>147</td>\n",
       "      <td>21</td>\n",
       "      <td>5</td>\n",
       "      <td>2014</td>\n",
       "      <td>SPRING</td>\n",
       "      <td>3</td>\n",
       "      <td>...</td>\n",
       "      <td>1</td>\n",
       "      <td>1</td>\n",
       "      <td>15:45</td>\n",
       "      <td>0.0</td>\n",
       "      <td>Mickey's Jammin' Jungle Parade</td>\n",
       "      <td>0.0</td>\n",
       "      <td>0</td>\n",
       "      <td>0</td>\n",
       "      <td>0</td>\n",
       "      <td>0</td>\n",
       "    </tr>\n",
       "    <tr>\n",
       "      <th>1</th>\n",
       "      <td>2014-05-29</td>\n",
       "      <td>85.463918</td>\n",
       "      <td>0</td>\n",
       "      <td>5</td>\n",
       "      <td>148</td>\n",
       "      <td>21</td>\n",
       "      <td>5</td>\n",
       "      <td>2014</td>\n",
       "      <td>SPRING</td>\n",
       "      <td>4</td>\n",
       "      <td>...</td>\n",
       "      <td>1</td>\n",
       "      <td>1</td>\n",
       "      <td>15:45</td>\n",
       "      <td>0.0</td>\n",
       "      <td>Mickey's Jammin' Jungle Parade</td>\n",
       "      <td>0.0</td>\n",
       "      <td>0</td>\n",
       "      <td>0</td>\n",
       "      <td>0</td>\n",
       "      <td>0</td>\n",
       "    </tr>\n",
       "    <tr>\n",
       "      <th>2</th>\n",
       "      <td>2014-05-30</td>\n",
       "      <td>81.181818</td>\n",
       "      <td>0</td>\n",
       "      <td>6</td>\n",
       "      <td>149</td>\n",
       "      <td>21</td>\n",
       "      <td>5</td>\n",
       "      <td>2014</td>\n",
       "      <td>SPRING</td>\n",
       "      <td>5</td>\n",
       "      <td>...</td>\n",
       "      <td>1</td>\n",
       "      <td>1</td>\n",
       "      <td>15:45</td>\n",
       "      <td>0.0</td>\n",
       "      <td>Mickey's Jammin' Jungle Parade</td>\n",
       "      <td>0.0</td>\n",
       "      <td>0</td>\n",
       "      <td>0</td>\n",
       "      <td>0</td>\n",
       "      <td>0</td>\n",
       "    </tr>\n",
       "  </tbody>\n",
       "</table>\n",
       "<p>3 rows × 191 columns</p>\n",
       "</div>"
      ],
      "text/plain": [
       "        date   SPOSTMIN WDW_TICKET_SEASON  DAYOFWEEK  DAYOFYEAR  WEEKOFYEAR  \\\n",
       "0 2014-05-28  83.371212                 0          4        147          21   \n",
       "1 2014-05-29  85.463918                 0          5        148          21   \n",
       "2 2014-05-30  81.181818                 0          6        149          21   \n",
       "\n",
       "   MONTHOFYEAR  YEAR  SEASON  HOLIDAYPX  ...  HSFIREWKS AKPRDDAY  AKPRDDT1  \\\n",
       "0            5  2014  SPRING          3  ...          1        1     15:45   \n",
       "1            5  2014  SPRING          4  ...          1        1     15:45   \n",
       "2            5  2014  SPRING          5  ...          1        1     15:45   \n",
       "\n",
       "  AKPRDDT2                         AKPRDDN AKFIREN  AKSHWNGT  AKSHWNT1  \\\n",
       "0      0.0  Mickey's Jammin' Jungle Parade     0.0         0         0   \n",
       "1      0.0  Mickey's Jammin' Jungle Parade     0.0         0         0   \n",
       "2      0.0  Mickey's Jammin' Jungle Parade     0.0         0         0   \n",
       "\n",
       "  AKSHWNT2  AKSHWNN  \n",
       "0        0        0  \n",
       "1        0        0  \n",
       "2        0        0  \n",
       "\n",
       "[3 rows x 191 columns]"
      ]
     },
     "execution_count": 21,
     "metadata": {},
     "output_type": "execute_result"
    }
   ],
   "source": [
    "#fill na for new meta splash data\n",
    "meta_dwarf2 = meta_dwarf2.fillna(0)\n",
    "meta_dwarf2.head(n = 3)"
   ]
  },
  {
   "cell_type": "markdown",
   "metadata": {},
   "source": [
    "#### Week of the Year"
   ]
  },
  {
   "cell_type": "code",
   "execution_count": 16,
   "metadata": {},
   "outputs": [],
   "source": [
    "week_avg = meta_dwarf2.groupby(\"WEEKOFYEAR\")[\"SPOSTMIN\"].mean()\n",
    "week_avg = week_avg.reset_index()\n",
    "week_avg = pd.DataFrame(week_avg,columns=['WEEKOFYEAR','SPOSTMIN'])"
   ]
  },
  {
   "cell_type": "code",
   "execution_count": 17,
   "metadata": {},
   "outputs": [
    {
     "data": {
      "text/plain": [
       "[Text(0, 0.5, 'Average Attendance by Minute'),\n",
       " Text(0.5, 0, 'Week of the Year')]"
      ]
     },
     "execution_count": 17,
     "metadata": {},
     "output_type": "execute_result"
    },
    {
     "data": {
      "image/png": "[encoded data removed]",
      "text/plain": [
       "<Figure size 432x288 with 1 Axes>"
      ]
     },
     "metadata": {
      "needs_background": "light"
     },
     "output_type": "display_data"
    }
   ],
   "source": [
    "ax = sns.barplot(x = \"WEEKOFYEAR\", y = \"SPOSTMIN\", data = week_avg)\n",
    "ax.set_title(\"Average Attendace by Week of the Year\")\n",
    "ax.set(xlabel='Week of the Year', ylabel='Average Attendance by Minute')"
   ]
  },
  {
   "cell_type": "code",
   "execution_count": null,
   "metadata": {},
   "outputs": [],
   "source": []
  },
  {
   "cell_type": "markdown",
   "metadata": {},
   "source": [
    "#### Wait Time vs Temperature"
   ]
  },
  {
   "cell_type": "code",
   "execution_count": 32,
   "metadata": {
    "scrolled": true
   },
   "outputs": [
    {
     "data": {
      "text/plain": [
       "[Text(0, 0.5, 'Average Attendance by Minute'), Text(0.5, 0, 'Temperature')]"
      ]
     },
     "execution_count": 32,
     "metadata": {},
     "output_type": "execute_result"
    },
    {
     "data": {
      "image/png": "[encoded data removed]",
      "text/plain": [
       "<Figure size 432x288 with 1 Axes>"
      ]
     },
     "metadata": {
      "needs_background": "light"
     },
     "output_type": "display_data"
    }
   ],
   "source": [
    "meta_dwarf2.WDWMINTEMP_mean = meta_dwarf2.WDWMINTEMP_mean.round()\n",
    "avg_temp = meta_dwarf2.groupby(\"WDWMINTEMP_mean\")[\"SPOSTMIN\"].mean()\n",
    "avg_temp = avg_temp.reset_index()\n",
    "avg_temp = pd.DataFrame(avg_temp,columns=['WDWMINTEMP_mean','SPOSTMIN'])\n",
    "\n",
    "\n",
    "ax = sns.barplot(x = \"WDWMINTEMP_mean\", y = \"SPOSTMIN\", data = avg_temp)\n",
    "ax.set_title(\"Average Attendace by Temperature\")\n",
    "ax.set(xlabel='Temperature', ylabel='Average Attendance by Minute')"
   ]
  },
  {
   "cell_type": "markdown",
   "metadata": {},
   "source": [
    "#### Calculate park hours for the day and see if different park hours effect wait time"
   ]
  },
  {
   "cell_type": "code",
   "execution_count": 48,
   "metadata": {},
   "outputs": [
    {
     "data": {
      "text/plain": [
       "[Text(0, 0.5, 'Average Attendance by Minute'), Text(0.5, 0, 'Temperature')]"
      ]
     },
     "execution_count": 48,
     "metadata": {},
     "output_type": "execute_result"
    },
    {
     "data": {
      "image/png": "[encoded data removed]",
      "text/plain": [
       "<Figure size 432x288 with 1 Axes>"
      ]
     },
     "metadata": {
      "needs_background": "light"
     },
     "output_type": "display_data"
    }
   ],
   "source": [
    "park_hour_df = meta_dwarf2[['SPOSTMIN','MKHOURS','MKOPEN','MKCLOSE','SEASON']]\n",
    "\n",
    "park_hour_df = park_hour_df.groupby(\"MKHOURS\")[\"SPOSTMIN\"].mean()\n",
    "park_hour_df = park_hour_df.reset_index()\n",
    "park_hour_df.head(n=3)\n",
    "#park_hour_df = pd.DataFrame(avg_temp,columns=['MKHOURS','SPOSTMIN','SEASON'])\n",
    "\n",
    "\n",
    "ax = sns.barplot(x = \"MKHOURS\", y = \"SPOSTMIN\", data = park_hour_df)\n",
    "ax.set_title(\"Average Attendace by Temperature\")\n",
    "ax.set(xlabel='Temperature', ylabel='Average Attendance by Minute')"
   ]
  }
 ],
 "metadata": {
  "kernelspec": {
   "display_name": "Python 3",
   "language": "python",
   "name": "python3"
  },
  "language_info": {
   "codemirror_mode": {
    "name": "ipython",
    "version": 3
   },
   "file_extension": ".py",
   "mimetype": "text/x-python",
   "name": "python",
   "nbconvert_exporter": "python",
   "pygments_lexer": "ipython3",
   "version": "3.6.7"
  }
 },
 "nbformat": 4,
 "nbformat_minor": 2
}
